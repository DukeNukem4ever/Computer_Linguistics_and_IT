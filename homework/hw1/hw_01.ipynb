{
  "nbformat": 4,
  "nbformat_minor": 0,
  "metadata": {
    "colab": {
      "name": "hw_01.ipynb",
      "provenance": [],
      "collapsed_sections": []
    },
    "kernelspec": {
      "name": "python3",
      "display_name": "Python 3"
    }
  },
  "cells": [
    {
      "cell_type": "markdown",
      "metadata": {
        "id": "nzfD_Wk1ZN6L",
        "colab_type": "text"
      },
      "source": [
        "# Домашнее задание №1\n",
        "\n",
        "### **Dataset of depressive posts in Russian language collected from social media** [(paper)](https://www.sciencedirect.com/science/article/pii/S2352340920300895)\n",
        "\n",
        "Скачать датасет в формате .tsv можно [здесь](https://yadi.sk/d/G5rq-R3AK8SOuw).\n",
        "\n",
        "\n",
        "В качестве задания предлагается:\n",
        "1. Использовать ```pandas``` и ряд инструментов для автоматической обработки текстов на русском языке, чтобы ответить на вопросы.\n",
        "2. Написать функции для извлечения текстовых признаков.\n",
        "\n",
        "Не рекомендуется использовать ```nltk``` для сегментации/токенизации текстов, поскольку существуют инструменты, которые выполняют свою задачу для русского значительно лучше – их мы обсуждали с вами на занятии.\n",
        "\n",
        "\n",
        "**Дедлайн**: 23 сентября 23:59"
      ]
    },
    {
      "cell_type": "code",
      "metadata": {
        "id": "OWTvSbf032T1",
        "colab_type": "code",
        "colab": {}
      },
      "source": [
        "#from google.colab import drive\n",
        "#drive.mount('/content/drive')"
      ],
      "execution_count": 1,
      "outputs": []
    },
    {
      "cell_type": "code",
      "metadata": {
        "id": "9tsSaFBdgu1B",
        "colab_type": "code",
        "colab": {
          "base_uri": "https://localhost:8080/",
          "height": 204
        },
        "outputId": "ba3b78ba-bf6f-474c-91d1-5fe60c3495ab"
      },
      "source": [
        "import pandas as pd\n",
        "\n",
        "df = pd.read_csv(\"depression_data.tsv\", delimiter=\"\\t\")\n",
        "df.head()"
      ],
      "execution_count": 2,
      "outputs": [
        {
          "output_type": "execute_result",
          "data": {
            "text/html": [
              "<div>\n",
              "<style scoped>\n",
              "    .dataframe tbody tr th:only-of-type {\n",
              "        vertical-align: middle;\n",
              "    }\n",
              "\n",
              "    .dataframe tbody tr th {\n",
              "        vertical-align: top;\n",
              "    }\n",
              "\n",
              "    .dataframe thead th {\n",
              "        text-align: right;\n",
              "    }\n",
              "</style>\n",
              "<table border=\"1\" class=\"dataframe\">\n",
              "  <thead>\n",
              "    <tr style=\"text-align: right;\">\n",
              "      <th></th>\n",
              "      <th>text</th>\n",
              "      <th>label</th>\n",
              "      <th>age</th>\n",
              "    </tr>\n",
              "  </thead>\n",
              "  <tbody>\n",
              "    <tr>\n",
              "      <th>0</th>\n",
              "      <td>Когда-то я был добрым романтиком, который стре...</td>\n",
              "      <td>1</td>\n",
              "      <td>32.0</td>\n",
              "    </tr>\n",
              "    <tr>\n",
              "      <th>1</th>\n",
              "      <td>Здраствуйте! Я каждый день просыпаюсь с мыслью...</td>\n",
              "      <td>1</td>\n",
              "      <td>28.0</td>\n",
              "    </tr>\n",
              "    <tr>\n",
              "      <th>2</th>\n",
              "      <td>У меня проблемы с девушкой. Каждую ссору я не ...</td>\n",
              "      <td>1</td>\n",
              "      <td>16.0</td>\n",
              "    </tr>\n",
              "    <tr>\n",
              "      <th>3</th>\n",
              "      <td>Вся моя жизнь это один сплошной ад, в котором ...</td>\n",
              "      <td>1</td>\n",
              "      <td>32.0</td>\n",
              "    </tr>\n",
              "    <tr>\n",
              "      <th>4</th>\n",
              "      <td>Я хочу уснуть и не проснуться.каждый день одно...</td>\n",
              "      <td>1</td>\n",
              "      <td>14.0</td>\n",
              "    </tr>\n",
              "  </tbody>\n",
              "</table>\n",
              "</div>"
            ],
            "text/plain": [
              "                                                text  label   age\n",
              "0  Когда-то я был добрым романтиком, который стре...      1  32.0\n",
              "1  Здраствуйте! Я каждый день просыпаюсь с мыслью...      1  28.0\n",
              "2  У меня проблемы с девушкой. Каждую ссору я не ...      1  16.0\n",
              "3  Вся моя жизнь это один сплошной ад, в котором ...      1  32.0\n",
              "4  Я хочу уснуть и не проснуться.каждый день одно...      1  14.0"
            ]
          },
          "metadata": {
            "tags": []
          },
          "execution_count": 2
        }
      ]
    },
    {
      "cell_type": "markdown",
      "metadata": {
        "id": "jgwa7XyGfuCI",
        "colab_type": "text"
      },
      "source": [
        "### Часть 1: Простая статистика (2 балла)"
      ]
    },
    {
      "cell_type": "markdown",
      "metadata": {
        "id": "YP1iOWbjh2zw",
        "colab_type": "text"
      },
      "source": [
        "Зачастую в данных, с которыми вы работаете, может быть много неприятных для обработки вещей. Например, мы видим, что в колонке ```age``` очень грязные значения."
      ]
    },
    {
      "cell_type": "code",
      "metadata": {
        "id": "uDW6JMhwZuS8",
        "colab_type": "code",
        "colab": {
          "base_uri": "https://localhost:8080/",
          "height": 221
        },
        "outputId": "510b1e83-736f-41f1-9b1f-1a3f52981f6e"
      },
      "source": [
        "df[\"age\"].value_counts()"
      ],
      "execution_count": 4,
      "outputs": [
        {
          "output_type": "execute_result",
          "data": {
            "text/plain": [
              "16.0      1823\n",
              "17.0      1811\n",
              "18.0      1661\n",
              "15.0      1582\n",
              "20.0      1543\n",
              "          ... \n",
              "116.0        1\n",
              "295.0        1\n",
              "2425.0       1\n",
              "92.0         1\n",
              "830.0        1\n",
              "Name: age, Length: 128, dtype: int64"
            ]
          },
          "metadata": {
            "tags": []
          },
          "execution_count": 4
        }
      ]
    },
    {
      "cell_type": "markdown",
      "metadata": {
        "id": "5SqrBy6iloMd",
        "colab_type": "text"
      },
      "source": [
        "1. Найдите среднее значение возраста в диапазоне от 14 до 50 лет включительно."
      ]
    },
    {
      "cell_type": "code",
      "metadata": {
        "id": "6AbzQhkakRfc",
        "colab_type": "code",
        "colab": {
          "base_uri": "https://localhost:8080/",
          "height": 255
        },
        "outputId": "34de03ca-2316-48c1-bc84-f8a5bc877bc7"
      },
      "source": [
        "# your code and output here\n",
        "needed_df = df[(df[\"age\"] >= 14) & (df[\"age\"] <= 50)]\n",
        "print(needed_df)"
      ],
      "execution_count": 112,
      "outputs": [
        {
          "output_type": "stream",
          "text": [
            "                                                    text  ...  sentences\n",
            "0      Когда-то я был добрым романтиком, который стре...  ...         15\n",
            "1      Здраствуйте! Я каждый день просыпаюсь с мыслью...  ...          6\n",
            "2      У меня проблемы с девушкой. Каждую ссору я не ...  ...         10\n",
            "3      Вся моя жизнь это один сплошной ад, в котором ...  ...          5\n",
            "4      Я хочу уснуть и не проснуться.каждый день одно...  ...         18\n",
            "...                                                  ...  ...        ...\n",
            "24514  Я больше не могу держать в себе... Мне нужна п...  ...         22\n",
            "24515  Моя душа разрывается между желанием и долгом. ...  ...          5\n",
            "24516  Моя история началась еще давно и продолжается ...  ...          7\n",
            "24517  моя проблема заключается в том, что основой мо...  ...          1\n",
            "24518          Мне очень страшно..Смерть приближается...  ...          1\n",
            "\n",
            "[22797 rows x 4 columns]\n"
          ],
          "name": "stdout"
        }
      ]
    },
    {
      "cell_type": "markdown",
      "metadata": {
        "id": "Pw5gpMkDk4R6",
        "colab_type": "text"
      },
      "source": [
        "2. Какую долю 16-летние авторы составляют в диапазоне от 16 до 26 лет включительно?"
      ]
    },
    {
      "cell_type": "code",
      "metadata": {
        "id": "qXejPDLZj3eX",
        "colab_type": "code",
        "colab": {
          "base_uri": "https://localhost:8080/",
          "height": 34
        },
        "outputId": "cf9baf50-65ad-4550-d9ec-8c53c5c31c3c"
      },
      "source": [
        "# your code and output here\n",
        "diap_1 = df[(df[\"age\"] >= 16) & (df[\"age\"] <= 26)]\n",
        "diap_2 = diap_1[diap_1[\"age\"] == 16]\n",
        "diap_3 = len(diap_2)/len(diap_1)\n",
        "\n",
        "print(diap_3)"
      ],
      "execution_count": 107,
      "outputs": [
        {
          "output_type": "stream",
          "text": [
            "0.1259412780656304\n"
          ],
          "name": "stdout"
        }
      ]
    },
    {
      "cell_type": "markdown",
      "metadata": {
        "id": "vGinA-Swjvlc",
        "colab_type": "text"
      },
      "source": [
        "3. Сколько в датасете текстов, авторам которых 28 или 30 лет?"
      ]
    },
    {
      "cell_type": "code",
      "metadata": {
        "id": "QNz0sLmjYLxr",
        "colab_type": "code",
        "colab": {
          "base_uri": "https://localhost:8080/",
          "height": 34
        },
        "outputId": "d47b5611-882a-4441-8712-086356cee45f"
      },
      "source": [
        "# your code and output here\n",
        "new_dataset_1 = df[df[\"age\"] == 28]\n",
        "new_dataset_2 = df[df[\"age\"] == 30]\n",
        "print(len(new_dataset_1 + new_dataset_2))"
      ],
      "execution_count": 7,
      "outputs": [
        {
          "output_type": "stream",
          "text": [
            "1185\n"
          ],
          "name": "stdout"
        }
      ]
    },
    {
      "cell_type": "markdown",
      "metadata": {
        "id": "WIiciL_BnJzl",
        "colab_type": "text"
      },
      "source": [
        "4. С помощью одной встроенной в ```pandas``` функции отобразите всю статистику по колонке ```age``` в диапазоне от 18 до 30 лет включительно."
      ]
    },
    {
      "cell_type": "code",
      "metadata": {
        "id": "q2cC4Sxanka6",
        "colab_type": "code",
        "colab": {
          "base_uri": "https://localhost:8080/",
          "height": 170
        },
        "outputId": "50f5a757-4ab5-464a-c99d-e5a328d68c2d"
      },
      "source": [
        "# your code and output here\n",
        "another_database = df[(df[\"age\"] >= 18) & (df[\"age\"] <= 30)]\n",
        "another_database['age'].describe()"
      ],
      "execution_count": 8,
      "outputs": [
        {
          "output_type": "execute_result",
          "data": {
            "text/plain": [
              "count    20870.000000\n",
              "mean        19.893196\n",
              "std          4.739043\n",
              "min          0.000000\n",
              "25%         16.000000\n",
              "50%         19.000000\n",
              "75%         23.000000\n",
              "max         30.000000\n",
              "Name: age, dtype: float64"
            ]
          },
          "metadata": {
            "tags": []
          },
          "execution_count": 8
        }
      ]
    },
    {
      "cell_type": "markdown",
      "metadata": {
        "id": "CT99FXGjoGs1",
        "colab_type": "text"
      },
      "source": [
        "5. Сколько в датасете положительных / отрицательных примеров?"
      ]
    },
    {
      "cell_type": "code",
      "metadata": {
        "id": "j-nelLWJoMpT",
        "colab_type": "code",
        "colab": {
          "base_uri": "https://localhost:8080/",
          "height": 68
        },
        "outputId": "4b0ee7be-e9a1-4c98-9362-1d76bd6e7678"
      },
      "source": [
        "# your code and output here\n",
        "\n",
        "df['label'].value_counts()"
      ],
      "execution_count": 9,
      "outputs": [
        {
          "output_type": "execute_result",
          "data": {
            "text/plain": [
              "0    32021\n",
              "1    32018\n",
              "Name: label, dtype: int64"
            ]
          },
          "metadata": {
            "tags": []
          },
          "execution_count": 9
        }
      ]
    },
    {
      "cell_type": "markdown",
      "metadata": {
        "id": "QHldQF5FoAyB",
        "colab_type": "text"
      },
      "source": [
        "### Часть 2: Предобработка (3 балла)"
      ]
    },
    {
      "cell_type": "markdown",
      "metadata": {
        "id": "Mc1d4G-q671X",
        "colab_type": "text"
      },
      "source": [
        "1. Посчитайте количество предложений в каждом тексте. Сохраните эти значения в отдельной колонке датафрейма."
      ]
    },
    {
      "cell_type": "code",
      "metadata": {
        "id": "HTni9dHd-NMz",
        "colab_type": "code",
        "colab": {
          "base_uri": "https://localhost:8080/",
          "height": 436
        },
        "outputId": "7e233964-2de0-45dd-d771-de40a624cb67"
      },
      "source": [
        "!pip install razdel\n",
        "\n",
        "from razdel import sentenize, tokenize\n",
        "\n",
        "sentez = []\n",
        "\n",
        "for t in df['text']:\n",
        "  sentez.append(len([_.text for _ in list(sentenize(t))]))\n",
        "\n",
        "df['sentences'] = sentez\n",
        "df"
      ],
      "execution_count": 10,
      "outputs": [
        {
          "output_type": "stream",
          "text": [
            "Requirement already satisfied: razdel in /usr/local/lib/python3.6/dist-packages (0.5.0)\n"
          ],
          "name": "stdout"
        },
        {
          "output_type": "execute_result",
          "data": {
            "text/html": [
              "<div>\n",
              "<style scoped>\n",
              "    .dataframe tbody tr th:only-of-type {\n",
              "        vertical-align: middle;\n",
              "    }\n",
              "\n",
              "    .dataframe tbody tr th {\n",
              "        vertical-align: top;\n",
              "    }\n",
              "\n",
              "    .dataframe thead th {\n",
              "        text-align: right;\n",
              "    }\n",
              "</style>\n",
              "<table border=\"1\" class=\"dataframe\">\n",
              "  <thead>\n",
              "    <tr style=\"text-align: right;\">\n",
              "      <th></th>\n",
              "      <th>text</th>\n",
              "      <th>label</th>\n",
              "      <th>age</th>\n",
              "      <th>sentences</th>\n",
              "    </tr>\n",
              "  </thead>\n",
              "  <tbody>\n",
              "    <tr>\n",
              "      <th>0</th>\n",
              "      <td>Когда-то я был добрым романтиком, который стре...</td>\n",
              "      <td>1</td>\n",
              "      <td>32.0</td>\n",
              "      <td>15</td>\n",
              "    </tr>\n",
              "    <tr>\n",
              "      <th>1</th>\n",
              "      <td>Здраствуйте! Я каждый день просыпаюсь с мыслью...</td>\n",
              "      <td>1</td>\n",
              "      <td>28.0</td>\n",
              "      <td>6</td>\n",
              "    </tr>\n",
              "    <tr>\n",
              "      <th>2</th>\n",
              "      <td>У меня проблемы с девушкой. Каждую ссору я не ...</td>\n",
              "      <td>1</td>\n",
              "      <td>16.0</td>\n",
              "      <td>10</td>\n",
              "    </tr>\n",
              "    <tr>\n",
              "      <th>3</th>\n",
              "      <td>Вся моя жизнь это один сплошной ад, в котором ...</td>\n",
              "      <td>1</td>\n",
              "      <td>32.0</td>\n",
              "      <td>5</td>\n",
              "    </tr>\n",
              "    <tr>\n",
              "      <th>4</th>\n",
              "      <td>Я хочу уснуть и не проснуться.каждый день одно...</td>\n",
              "      <td>1</td>\n",
              "      <td>14.0</td>\n",
              "      <td>18</td>\n",
              "    </tr>\n",
              "    <tr>\n",
              "      <th>...</th>\n",
              "      <td>...</td>\n",
              "      <td>...</td>\n",
              "      <td>...</td>\n",
              "      <td>...</td>\n",
              "    </tr>\n",
              "    <tr>\n",
              "      <th>64034</th>\n",
              "      <td>Южная Корея будет внедрять свои технологии в К...</td>\n",
              "      <td>0</td>\n",
              "      <td>NaN</td>\n",
              "      <td>1</td>\n",
              "    </tr>\n",
              "    <tr>\n",
              "      <th>64035</th>\n",
              "      <td>В минувшие выходные в спортблоке КалмГУ прошли...</td>\n",
              "      <td>0</td>\n",
              "      <td>NaN</td>\n",
              "      <td>6</td>\n",
              "    </tr>\n",
              "    <tr>\n",
              "      <th>64036</th>\n",
              "      <td>ВТБ подвел итоги первого корпоративного акселе...</td>\n",
              "      <td>0</td>\n",
              "      <td>NaN</td>\n",
              "      <td>19</td>\n",
              "    </tr>\n",
              "    <tr>\n",
              "      <th>64037</th>\n",
              "      <td>ВТБ запустит бесплатное пополнение карт других...</td>\n",
              "      <td>0</td>\n",
              "      <td>NaN</td>\n",
              "      <td>6</td>\n",
              "    </tr>\n",
              "    <tr>\n",
              "      <th>64038</th>\n",
              "      <td>В Сызрани вновь пройдет \"Ярмарка вакансий\" для...</td>\n",
              "      <td>0</td>\n",
              "      <td>NaN</td>\n",
              "      <td>6</td>\n",
              "    </tr>\n",
              "  </tbody>\n",
              "</table>\n",
              "<p>64039 rows × 4 columns</p>\n",
              "</div>"
            ],
            "text/plain": [
              "                                                    text  ...  sentences\n",
              "0      Когда-то я был добрым романтиком, который стре...  ...         15\n",
              "1      Здраствуйте! Я каждый день просыпаюсь с мыслью...  ...          6\n",
              "2      У меня проблемы с девушкой. Каждую ссору я не ...  ...         10\n",
              "3      Вся моя жизнь это один сплошной ад, в котором ...  ...          5\n",
              "4      Я хочу уснуть и не проснуться.каждый день одно...  ...         18\n",
              "...                                                  ...  ...        ...\n",
              "64034  Южная Корея будет внедрять свои технологии в К...  ...          1\n",
              "64035  В минувшие выходные в спортблоке КалмГУ прошли...  ...          6\n",
              "64036  ВТБ подвел итоги первого корпоративного акселе...  ...         19\n",
              "64037  ВТБ запустит бесплатное пополнение карт других...  ...          6\n",
              "64038  В Сызрани вновь пройдет \"Ярмарка вакансий\" для...  ...          6\n",
              "\n",
              "[64039 rows x 4 columns]"
            ]
          },
          "metadata": {
            "tags": []
          },
          "execution_count": 10
        }
      ]
    },
    {
      "cell_type": "code",
      "metadata": {
        "id": "MGnxjToV3ZGW",
        "colab_type": "code",
        "colab": {
          "base_uri": "https://localhost:8080/",
          "height": 68
        },
        "outputId": "ea2f2dce-74e4-4f42-bcb8-310d23f9b3ff"
      },
      "source": [
        "import nltk\n",
        "nltk.download('stopwords')"
      ],
      "execution_count": 15,
      "outputs": [
        {
          "output_type": "stream",
          "text": [
            "[nltk_data] Downloading package stopwords to /root/nltk_data...\n",
            "[nltk_data]   Package stopwords is already up-to-date!\n"
          ],
          "name": "stdout"
        },
        {
          "output_type": "execute_result",
          "data": {
            "text/plain": [
              "True"
            ]
          },
          "metadata": {
            "tags": []
          },
          "execution_count": 15
        }
      ]
    },
    {
      "cell_type": "code",
      "metadata": {
        "id": "stl1BiWk79i_",
        "colab_type": "code",
        "colab": {}
      },
      "source": [
        "from nltk.corpus import stopwords\n",
        "\n",
        "cachedStopWords = stopwords.words(\"russian\")"
      ],
      "execution_count": 16,
      "outputs": []
    },
    {
      "cell_type": "markdown",
      "metadata": {
        "id": "NX7FxEafFTiy",
        "colab_type": "text"
      },
      "source": [
        "\n",
        "2. Напишите функцию для токенизации текста. Удалите стоп-слова."
      ]
    },
    {
      "cell_type": "code",
      "metadata": {
        "id": "Y1S782xBFlIi",
        "colab_type": "code",
        "colab": {
          "base_uri": "https://localhost:8080/",
          "height": 34
        },
        "outputId": "17df7cc5-1f5b-45e7-eb6a-2736d36bb2bd"
      },
      "source": [
        "# your code and output here\n",
        "from nltk.corpus import stopwords\n",
        "def text_tokenizer(text):\n",
        "  text = ' '.join([word for word in text.split() if word not in cachedStopWords])\n",
        "  tokens = list(tokenize(text))\n",
        "  return [_.text for _ in tokens]\n",
        "\n",
        "text_tokenizer('Мама мыла раму')"
      ],
      "execution_count": 17,
      "outputs": [
        {
          "output_type": "execute_result",
          "data": {
            "text/plain": [
              "['Мама', 'мыла', 'раму']"
            ]
          },
          "metadata": {
            "tags": []
          },
          "execution_count": 17
        }
      ]
    },
    {
      "cell_type": "markdown",
      "metadata": {
        "id": "HVq8if4s8q_1",
        "colab_type": "text"
      },
      "source": [
        "3. Посчитайте количество токенов в тексте (без стоп-слов). Найдите среднее этих значений как по всей выборке, так и внутри каждого класса. "
      ]
    },
    {
      "cell_type": "code",
      "metadata": {
        "id": "rP8_BV3I-RPE",
        "colab_type": "code",
        "colab": {}
      },
      "source": [
        "lengths_0 = []\n",
        "lengths_1 = []\n",
        "lengths_all = []\n",
        "\n",
        "set_1 = df[df[\"label\"] == 0]\n",
        "set_2 = df[df[\"label\"] == 1]\n",
        "\n",
        "for text in df['text']:\n",
        "  tokens = text_tokenizer(text)\n",
        "  lengths_all.append(len(tokens))\n",
        "\n",
        "for text in set_1['text']:\n",
        "  tokens = text_tokenizer(text)\n",
        "  lengths_0.append(len(tokens))\n",
        "\n",
        "for text in set_2['text']:\n",
        "  tokens = text_tokenizer(text)\n",
        "  lengths_1.append(len(tokens))\n",
        "\n",
        "mean_all = sum(lengths_all)/len(lengths_all)\n",
        "mean_1 = sum(lengths_0)/len(lengths_0)\n",
        "mean_2 = sum(lengths_1)/len(lengths_1)\n",
        "# your code and output here"
      ],
      "execution_count": 18,
      "outputs": []
    },
    {
      "cell_type": "code",
      "metadata": {
        "id": "nV9LfeQsS32y",
        "colab_type": "code",
        "colab": {
          "base_uri": "https://localhost:8080/",
          "height": 68
        },
        "outputId": "94ffbb0d-076d-4e2b-e6f8-2509f8949d8a"
      },
      "source": [
        "print(mean_all)\n",
        "print(mean_1)\n",
        "print(mean_2)"
      ],
      "execution_count": 19,
      "outputs": [
        {
          "output_type": "stream",
          "text": [
            "156.68622245818955\n",
            "204.19643359045625\n",
            "109.17155974764195\n"
          ],
          "name": "stdout"
        }
      ]
    },
    {
      "cell_type": "code",
      "metadata": {
        "id": "tboRU9ixLG5r",
        "colab_type": "code",
        "colab": {}
      },
      "source": [
        "from tqdm import tqdm_notebook"
      ],
      "execution_count": 20,
      "outputs": []
    },
    {
      "cell_type": "markdown",
      "metadata": {
        "id": "xXsyP9NHG-gO",
        "colab_type": "text"
      },
      "source": [
        "4. Напишите функцию, которая переводит текст в последовательность лемм."
      ]
    },
    {
      "cell_type": "code",
      "metadata": {
        "id": "n1o_Rh2iHDmH",
        "colab_type": "code",
        "colab": {
          "base_uri": "https://localhost:8080/",
          "height": 102
        },
        "outputId": "7a3eb0e0-9f47-48c0-cb0f-e76707993af1"
      },
      "source": [
        "# your code and output here\n",
        "!pip install pymorphy2\n",
        "!pip install pymorphy2-dicts-ru\n",
        "import pymorphy2\n",
        "morph = pymorphy2.MorphAnalyzer()"
      ],
      "execution_count": 21,
      "outputs": [
        {
          "output_type": "stream",
          "text": [
            "Requirement already satisfied: pymorphy2 in /usr/local/lib/python3.6/dist-packages (0.9)\n",
            "Requirement already satisfied: docopt>=0.6 in /usr/local/lib/python3.6/dist-packages (from pymorphy2) (0.6.2)\n",
            "Requirement already satisfied: dawg-python>=0.7.1 in /usr/local/lib/python3.6/dist-packages (from pymorphy2) (0.7.2)\n",
            "Requirement already satisfied: pymorphy2-dicts-ru<3.0,>=2.4 in /usr/local/lib/python3.6/dist-packages (from pymorphy2) (2.4.404381.4453942)\n",
            "Requirement already satisfied: pymorphy2-dicts-ru in /usr/local/lib/python3.6/dist-packages (2.4.404381.4453942)\n"
          ],
          "name": "stdout"
        }
      ]
    },
    {
      "cell_type": "code",
      "metadata": {
        "id": "NV7MMLgCbcqg",
        "colab_type": "code",
        "colab": {
          "base_uri": "https://localhost:8080/",
          "height": 35
        },
        "outputId": "5788b092-3799-450e-9a90-72b5824704a2"
      },
      "source": [
        "import re\n",
        "def tokenize(text):\n",
        "  text = re.sub('[!@#$%^&*\\(\\)\\[\\].,?\"\\']',' ', text)\n",
        "  lemmies = []\n",
        "  for word in text.split():\n",
        "    p = morph.parse(word)[0]\n",
        "    lemmies.append(p.normal_form)\n",
        "  return ' '.join(lemmies)\n",
        "tokenize('Мама мыла раму.')"
      ],
      "execution_count": 47,
      "outputs": [
        {
          "output_type": "execute_result",
          "data": {
            "application/vnd.google.colaboratory.intrinsic+json": {
              "type": "string"
            },
            "text/plain": [
              "'мама мыло рама'"
            ]
          },
          "metadata": {
            "tags": []
          },
          "execution_count": 47
        }
      ]
    },
    {
      "cell_type": "markdown",
      "metadata": {
        "id": "D5kyEWTZ98r3",
        "colab_type": "text"
      },
      "source": [
        "5. Напишите функцию, которая переводит текст в последовательность частеречных тегов."
      ]
    },
    {
      "cell_type": "code",
      "metadata": {
        "id": "83EABAwH756M",
        "colab_type": "code",
        "colab": {
          "base_uri": "https://localhost:8080/",
          "height": 35
        },
        "outputId": "7109306d-97d8-4723-b756-568044dcfbde"
      },
      "source": [
        "# your code and output here\n",
        "#morph.parse('Котейка')[0].tag.POS\n",
        "\n",
        "def text_to_pos(text):\n",
        "  text = re.sub('[!@#$%^&*\\(\\)\\[\\].,?\"\\']',' ', text)\n",
        "  lemmies_pos = []\n",
        "  for word in text.split():\n",
        "    p = morph.parse(word)[0].tag.POS\n",
        "    lemmies_pos.append(p)\n",
        "  return ' '.join(lemmies_pos)\n",
        "\n",
        "text_to_pos('Мама достала тарелку.')"
      ],
      "execution_count": 48,
      "outputs": [
        {
          "output_type": "execute_result",
          "data": {
            "application/vnd.google.colaboratory.intrinsic+json": {
              "type": "string"
            },
            "text/plain": [
              "'NOUN VERB NOUN'"
            ]
          },
          "metadata": {
            "tags": []
          },
          "execution_count": 48
        }
      ]
    },
    {
      "cell_type": "markdown",
      "metadata": {
        "id": "d7VAjC4VHSyi",
        "colab_type": "text"
      },
      "source": [
        "6. Какие слова мы можем добавить в список стоп-слов? Приведите примеры и объясните, почему."
      ]
    },
    {
      "cell_type": "markdown",
      "metadata": {
        "id": "LmB79pFelAkC",
        "colab_type": "text"
      },
      "source": [
        "В список стоп-слов можно добавить в первую очередь слова, которые не несут в себе никакого смысла и созданы в основном для того, чтобы приукрасить речь. Это не только местоимения, междометия, частицы и цифры (в числе других подобных частей речи), но и, допустим, расхожие фразы. Например, слова \"товары\" и \"услуги\" подразумевают сами товары или услуги, не говоря при этом, что конкретно доступно клиенту. Более правильным будет полное описание предоставляемых удобств. Также возможны случаи, когда говорящий/пишущий высказывает неопределённость в плане чего-либо (какие-то машины, разные вопросы и т.п). Тут лучше использовать более информативные выражения."
      ]
    },
    {
      "cell_type": "markdown",
      "metadata": {
        "id": "neKhzz_MZ7Dh",
        "colab_type": "text"
      },
      "source": [
        ""
      ]
    },
    {
      "cell_type": "code",
      "metadata": {
        "id": "bElLevUU-x7m",
        "colab_type": "code",
        "colab": {}
      },
      "source": [
        "# your code and output here"
      ],
      "execution_count": 24,
      "outputs": []
    },
    {
      "cell_type": "markdown",
      "metadata": {
        "id": "vcLlYOZfIWRX",
        "colab_type": "text"
      },
      "source": [
        "### Часть 3: Визуализация (1 балл)"
      ]
    },
    {
      "cell_type": "markdown",
      "metadata": {
        "id": "b9s_mHYIoOjg",
        "colab_type": "text"
      },
      "source": [
        "1. Визуализируйте распределение количество предложений / текст."
      ]
    },
    {
      "cell_type": "code",
      "metadata": {
        "id": "CUgLhfWoIvKa",
        "colab_type": "code",
        "colab": {
          "base_uri": "https://localhost:8080/",
          "height": 282
        },
        "outputId": "c011bbb4-f09a-4bde-bb90-6640f784e122"
      },
      "source": [
        "# your code and output here\n",
        "df['sentences'].value_counts().plot(logy=True)"
      ],
      "execution_count": 52,
      "outputs": [
        {
          "output_type": "execute_result",
          "data": {
            "text/plain": [
              "<matplotlib.axes._subplots.AxesSubplot at 0x7f2c22b6dc50>"
            ]
          },
          "metadata": {
            "tags": []
          },
          "execution_count": 52
        },
        {
          "output_type": "display_data",
          "data": {
            "image/png": "[encoded data removed]",
            "text/plain": [
              "<Figure size 432x288 with 1 Axes>"
            ]
          },
          "metadata": {
            "tags": [],
            "needs_background": "light"
          }
        }
      ]
    },
    {
      "cell_type": "markdown",
      "metadata": {
        "id": "PzPsrj36KJ7n",
        "colab_type": "text"
      },
      "source": [
        "2. Визуализируйте распределение количество-предложений / текст внутри каждого класса."
      ]
    },
    {
      "cell_type": "code",
      "metadata": {
        "id": "z7R5719eV2Me",
        "colab_type": "code",
        "colab": {
          "base_uri": "https://localhost:8080/",
          "height": 282
        },
        "outputId": "57453bfe-e41a-459e-bd2f-03cc3f7a387e"
      },
      "source": [
        "# your code and output here\n",
        "set_1['sentences'].value_counts().plot(logy=True)"
      ],
      "execution_count": 70,
      "outputs": [
        {
          "output_type": "execute_result",
          "data": {
            "text/plain": [
              "<matplotlib.axes._subplots.AxesSubplot at 0x7f2c213d6780>"
            ]
          },
          "metadata": {
            "tags": []
          },
          "execution_count": 70
        },
        {
          "output_type": "display_data",
          "data": {
            "image/png": "[encoded data removed]",
            "text/plain": [
              "<Figure size 432x288 with 1 Axes>"
            ]
          },
          "metadata": {
            "tags": [],
            "needs_background": "light"
          }
        }
      ]
    },
    {
      "cell_type": "code",
      "metadata": {
        "id": "ntPEjNbsoew8",
        "colab_type": "code",
        "colab": {
          "base_uri": "https://localhost:8080/",
          "height": 282
        },
        "outputId": "0d24d372-9bf9-47ef-d4e9-acbc8c863369"
      },
      "source": [
        "set_2['sentences'].value_counts().plot(logy=True)"
      ],
      "execution_count": 68,
      "outputs": [
        {
          "output_type": "execute_result",
          "data": {
            "text/plain": [
              "<matplotlib.axes._subplots.AxesSubplot at 0x7f2c22363080>"
            ]
          },
          "metadata": {
            "tags": []
          },
          "execution_count": 68
        },
        {
          "output_type": "display_data",
          "data": {
            "image/png": "[encoded data removed]",
            "text/plain": [
              "<Figure size 432x288 with 1 Axes>"
            ]
          },
          "metadata": {
            "tags": [],
            "needs_background": "light"
          }
        }
      ]
    },
    {
      "cell_type": "markdown",
      "metadata": {
        "id": "5zGMiWUBQKRi",
        "colab_type": "text"
      },
      "source": [
        "3. Верно ли, что количество предложений в тексте коррелирует с возрастом автора в подвыборке от 16 до 32 лет включительно? Если да, какая это корреляция – положительная или отрицательная? Визуализируйте матрицу корреляции."
      ]
    },
    {
      "cell_type": "markdown",
      "metadata": {
        "id": "3gdA_bwbIhQM",
        "colab_type": "text"
      },
      "source": [
        "Да, количество предложений в тексте коррелирует с возрастом автора в данной выборке - чем больше возраст, тем меньше текст, и линия на графике идёт строго по наклонной линии. Корреляция имеет отрицательный характер."
      ]
    },
    {
      "cell_type": "code",
      "metadata": {
        "id": "qAeNmcoqQi5x",
        "colab_type": "code",
        "colab": {
          "base_uri": "https://localhost:8080/",
          "height": 353
        },
        "outputId": "414af35d-1bcd-4a12-f035-03af65ce7577"
      },
      "source": [
        "# your code and output here\n",
        "\n",
        "corr_database = df[(df[\"age\"] >= 16) & (df[\"age\"] <= 32)]\n",
        "\n",
        "#corr_database['sentences'].value_counts().plot(logy=True)\n",
        "\n",
        "import seaborn as sns\n",
        "fig, ax = plt.subplots(figsize=(10, 5))\n",
        "\n",
        "sns.heatmap(data=corr_database.corr(),annot=True,ax=ax)\n",
        "\n",
        "plt.title(\"Корреляция между количеством предложений в тексте и возрастом автора\")"
      ],
      "execution_count": 118,
      "outputs": [
        {
          "output_type": "execute_result",
          "data": {
            "text/plain": [
              "Text(0.5, 1.0, 'Корреляция между количеством предложений в тексте и возрастом автора')"
            ]
          },
          "metadata": {
            "tags": []
          },
          "execution_count": 118
        },
        {
          "output_type": "display_data",
          "data": {
            "image/png": "[encoded data removed]",
            "text/plain": [
              "<Figure size 720x360 with 2 Axes>"
            ]
          },
          "metadata": {
            "tags": [],
            "needs_background": "light"
          }
        }
      ]
    },
    {
      "cell_type": "markdown",
      "metadata": {
        "id": "nBpo_1O5Ld7H",
        "colab_type": "text"
      },
      "source": [
        "### Часть 4: Извлечение текстовых признаков (4 балла)"
      ]
    },
    {
      "cell_type": "markdown",
      "metadata": {
        "id": "oqZUzenfL2sF",
        "colab_type": "text"
      },
      "source": [
        "1. Самостоятельно реализуйте функцию для получения посимвольных н-грамм (без использования библиотек)."
      ]
    },
    {
      "cell_type": "code",
      "metadata": {
        "id": "UOOp61e1MCU-",
        "colab_type": "code",
        "colab": {}
      },
      "source": [
        "# your code and output here\n",
        "def char_ngrams(text, n):\n",
        "  grams = []\n",
        "  for i in range(len(text)):\n",
        "    new = [text[i:i+n]]\n",
        "    for newwie in new:\n",
        "      if len(newwie) == n:\n",
        "        grams.append(newwie)\n",
        "  return grams"
      ],
      "execution_count": 125,
      "outputs": []
    },
    {
      "cell_type": "code",
      "metadata": {
        "id": "LctAR2cEMV0s",
        "colab_type": "code",
        "colab": {
          "base_uri": "https://localhost:8080/",
          "height": 34
        },
        "outputId": "0d7f87e6-36ea-47c9-dd36-6f2443ec93f3"
      },
      "source": [
        "# пример работы функции\n",
        "\n",
        "text = \"уставшая мама мыла грязную раму\"\n",
        "\n",
        "char_ngrams(text, n=3)[:10]"
      ],
      "execution_count": 127,
      "outputs": [
        {
          "output_type": "execute_result",
          "data": {
            "text/plain": [
              "['уст', 'ста', 'тав', 'авш', 'вша', 'шая', 'ая ', 'я м', ' ма', 'мам']"
            ]
          },
          "metadata": {
            "tags": []
          },
          "execution_count": 127
        }
      ]
    },
    {
      "cell_type": "markdown",
      "metadata": {
        "id": "CnPgflCeNsZA",
        "colab_type": "text"
      },
      "source": [
        "2. Самостоятельно реализуйте функцию для получения пословных н-грамм (без использования библиотек)."
      ]
    },
    {
      "cell_type": "code",
      "metadata": {
        "id": "fX_6RyMFOGL2",
        "colab_type": "code",
        "colab": {}
      },
      "source": [
        "# your code and output here\n",
        "\n",
        "def word_ngrams(text, n):\n",
        "  text = text.split()\n",
        "  return list(zip(*[text[i:] for i in range(n)]))"
      ],
      "execution_count": null,
      "outputs": []
    },
    {
      "cell_type": "code",
      "metadata": {
        "id": "7b-XHdadOVm5",
        "colab_type": "code",
        "colab": {
          "base_uri": "https://localhost:8080/",
          "height": 68
        },
        "outputId": "b72dd6b3-3233-4b42-a051-753e6bf80839"
      },
      "source": [
        "# пример работы функции\n",
        "\n",
        "text = \"уставшая мама мыла грязную раму\"\n",
        "\n",
        "word_ngrams(text, n=3)"
      ],
      "execution_count": 128,
      "outputs": [
        {
          "output_type": "execute_result",
          "data": {
            "text/plain": [
              "[('уставшая', 'мама', 'мыла'),\n",
              " ('мама', 'мыла', 'грязную'),\n",
              " ('мыла', 'грязную', 'раму')]"
            ]
          },
          "metadata": {
            "tags": []
          },
          "execution_count": 128
        }
      ]
    },
    {
      "cell_type": "code",
      "metadata": {
        "id": "anLUGeXROekT",
        "colab_type": "code",
        "colab": {
          "base_uri": "https://localhost:8080/",
          "height": 34
        },
        "outputId": "eca53b07-2969-49f7-d7e5-a83de122b032"
      },
      "source": [
        "word_ngrams(text, n=4)"
      ],
      "execution_count": 129,
      "outputs": [
        {
          "output_type": "execute_result",
          "data": {
            "text/plain": [
              "[('уставшая', 'мама', 'мыла', 'грязную'), ('мама', 'мыла', 'грязную', 'раму')]"
            ]
          },
          "metadata": {
            "tags": []
          },
          "execution_count": 129
        }
      ]
    },
    {
      "cell_type": "markdown",
      "metadata": {
        "id": "zU4PJTZVOvcQ",
        "colab_type": "text"
      },
      "source": [
        "3. Самостоятельно реализуйте функцию для получения н-грамм лемм (без использования библиотек)."
      ]
    },
    {
      "cell_type": "code",
      "metadata": {
        "id": "dgWG3NdLO0JF",
        "colab_type": "code",
        "colab": {
          "base_uri": "https://localhost:8080/",
          "height": 68
        },
        "outputId": "b0f91556-aa43-4c70-8514-5705128e6f70"
      },
      "source": [
        "# your code and output here\n",
        "def lemma_ngrams(text, n):\n",
        "  text = text.split()\n",
        "  lem_text = []\n",
        "  for word in text:\n",
        "    p = morph.parse(word)[0]\n",
        "    lem_text.append(p.normal_form)\n",
        "  return list(zip(*[lem_text[i:] for i in range(n)]))\n",
        "\n",
        "text = \"уставшая мама мыла грязную раму\"\n",
        "\n",
        "#lemma_ngrams(text, n=3)"
      ],
      "execution_count": 134,
      "outputs": [
        {
          "output_type": "execute_result",
          "data": {
            "text/plain": [
              "[('устать', 'мама', 'мыло'),\n",
              " ('мама', 'мыло', 'грязный'),\n",
              " ('мыло', 'грязный', 'рама')]"
            ]
          },
          "metadata": {
            "tags": []
          },
          "execution_count": 134
        }
      ]
    },
    {
      "cell_type": "code",
      "metadata": {
        "id": "BfER14VDO8I3",
        "colab_type": "code",
        "colab": {
          "base_uri": "https://localhost:8080/",
          "height": 68
        },
        "outputId": "574e31e8-5999-49e3-9bbe-260fadf761e6"
      },
      "source": [
        "# пример работы функции\n",
        "\n",
        "lemma_ngrams(text, n=3)"
      ],
      "execution_count": 135,
      "outputs": [
        {
          "output_type": "execute_result",
          "data": {
            "text/plain": [
              "[('устать', 'мама', 'мыло'),\n",
              " ('мама', 'мыло', 'грязный'),\n",
              " ('мыло', 'грязный', 'рама')]"
            ]
          },
          "metadata": {
            "tags": []
          },
          "execution_count": 135
        }
      ]
    },
    {
      "cell_type": "code",
      "metadata": {
        "id": "k1XmkQ_rO_p1",
        "colab_type": "code",
        "colab": {
          "base_uri": "https://localhost:8080/",
          "height": 34
        },
        "outputId": "f8db9430-78a3-4428-f5d2-dbd96b1ea9ca"
      },
      "source": [
        "lemma_ngrams(text, n=4)"
      ],
      "execution_count": 136,
      "outputs": [
        {
          "output_type": "execute_result",
          "data": {
            "text/plain": [
              "[('устать', 'мама', 'мыло', 'грязный'), ('мама', 'мыло', 'грязный', 'рама')]"
            ]
          },
          "metadata": {
            "tags": []
          },
          "execution_count": 136
        }
      ]
    },
    {
      "cell_type": "markdown",
      "metadata": {
        "id": "LHUo6LdLOblj",
        "colab_type": "text"
      },
      "source": [
        "4. Самостоятельно реализуйте функцию для получения н-грамм частеречных тегов (без использования библиотек)."
      ]
    },
    {
      "cell_type": "code",
      "metadata": {
        "id": "YlPDRUCcOoCX",
        "colab_type": "code",
        "colab": {}
      },
      "source": [
        "# your code and output here\n",
        "def pos_ngrams(text, n):\n",
        "  text = text.split()\n",
        "  pos_text = []\n",
        "  for word in text:\n",
        "    p = morph.parse(word)[0]\n",
        "    pos_text.append(p.tag.POS)\n",
        "  return list(zip(*[pos_text[i:] for i in range(n)]))"
      ],
      "execution_count": 139,
      "outputs": []
    },
    {
      "cell_type": "code",
      "metadata": {
        "id": "a4kQmEqiPHPv",
        "colab_type": "code",
        "colab": {
          "base_uri": "https://localhost:8080/",
          "height": 34
        },
        "outputId": "24675108-0718-4834-8be2-3a62bdc27f80"
      },
      "source": [
        "# пример работы функции\n",
        "\n",
        "pos_ngrams(text, n=3)"
      ],
      "execution_count": 140,
      "outputs": [
        {
          "output_type": "execute_result",
          "data": {
            "text/plain": [
              "[('PRTF', 'NOUN', 'NOUN'), ('NOUN', 'NOUN', 'ADJF'), ('NOUN', 'ADJF', 'NOUN')]"
            ]
          },
          "metadata": {
            "tags": []
          },
          "execution_count": 140
        }
      ]
    },
    {
      "cell_type": "code",
      "metadata": {
        "id": "iBh5fRbOPKsn",
        "colab_type": "code",
        "colab": {
          "base_uri": "https://localhost:8080/",
          "height": 34
        },
        "outputId": "922cd2ea-b5fc-4597-8f05-46b0828d6f1b"
      },
      "source": [
        "pos_ngrams(text, n=4)"
      ],
      "execution_count": 141,
      "outputs": [
        {
          "output_type": "execute_result",
          "data": {
            "text/plain": [
              "[('PRTF', 'NOUN', 'NOUN', 'ADJF'), ('NOUN', 'NOUN', 'ADJF', 'NOUN')]"
            ]
          },
          "metadata": {
            "tags": []
          },
          "execution_count": 141
        }
      ]
    },
    {
      "cell_type": "markdown",
      "metadata": {
        "id": "ZnUBQ6hLPNb3",
        "colab_type": "text"
      },
      "source": [
        "5. Самостоятельно реализуйте функцию для получения частотного словаря частеречных тегов по коллекции документов."
      ]
    },
    {
      "cell_type": "code",
      "metadata": {
        "id": "P69DZahVPctr",
        "colab_type": "code",
        "colab": {}
      },
      "source": [
        "# your code and output here\n",
        "def build_pos_dict(texts):\n",
        "  pos_dict = {}\n",
        "  new_list = []\n",
        "  texts = ' '.join(texts)\n",
        "  for word in texts.split():\n",
        "    p = morph.parse(word)[0]\n",
        "    new_list.append(p.tag.POS)\n",
        "  for a_word in new_list:\n",
        "    try:\n",
        "      pos_dict[a_word] += 1\n",
        "    except:\n",
        "      pos_dict[a_word] = 1\n",
        "  return pos_dict\n"
      ],
      "execution_count": 153,
      "outputs": []
    },
    {
      "cell_type": "code",
      "metadata": {
        "id": "7ZLFo264Pa4b",
        "colab_type": "code",
        "colab": {
          "base_uri": "https://localhost:8080/",
          "height": 34
        },
        "outputId": "68413f3c-ca84-44b0-f63c-0ac8c88b2802"
      },
      "source": [
        "# пример работы функции\n",
        "\n",
        "corpus = [\n",
        "    \"мама мыла уставшую раму\",\n",
        "    \"высшая школа экономики\",\n",
        "    \"компьютерная лингвистика\",\n",
        "    \"осень наступила\"\n",
        "]\n",
        "\n",
        "build_pos_dict(corpus)"
      ],
      "execution_count": 154,
      "outputs": [
        {
          "output_type": "execute_result",
          "data": {
            "text/plain": [
              "{'ADJF': 2, 'NOUN': 7, 'PRTF': 1, 'VERB': 1}"
            ]
          },
          "metadata": {
            "tags": []
          },
          "execution_count": 154
        }
      ]
    },
    {
      "cell_type": "markdown",
      "metadata": {
        "id": "yb_mcJ8sSr3-",
        "colab_type": "text"
      },
      "source": [
        "6. Постройте частотный словарь лемм по текстам внутри каждого класса. Найдите топ-15 лемм для текстов каждого класса. Есть ли между этими списками пересечение? Если да, сколько лемм пересекается?"
      ]
    },
    {
      "cell_type": "code",
      "metadata": {
        "id": "nP6_MZbHTLtf",
        "colab_type": "code",
        "colab": {}
      },
      "source": [
        "# your code and output here\n",
        "#build_pos_dict(set_1['text'])"
      ],
      "execution_count": null,
      "outputs": []
    },
    {
      "cell_type": "code",
      "metadata": {
        "id": "FxSFSoGMCDC9",
        "colab_type": "code",
        "colab": {}
      },
      "source": [
        "#build_pos_dict(set_2['text'])"
      ],
      "execution_count": null,
      "outputs": []
    },
    {
      "cell_type": "markdown",
      "metadata": {
        "id": "AqfZJ4csRSxZ",
        "colab_type": "text"
      },
      "source": [
        "7. Какие текстовые признаки могли бы быть полезными для решения задачи классификации на этих данных? Приведите примеры и перечислите ресурсы, которые вы бы использовали для конструирования этих признаков."
      ]
    },
    {
      "cell_type": "markdown",
      "metadata": {
        "id": "BAW9WKfNErWO",
        "colab_type": "text"
      },
      "source": [
        "Для решения подобного рода задач полезными могут быть категориальные признаки, ведь полученные тексты можно разбить на несколько подпунктов в зависимости от содержания/пола автора/сдержанности. Регулярные выражения помогут выявить те случаи, где тот или иной признак наиболее очевиден, и позволят выявить его значимость на фоне других факторов."
      ]
    },
    {
      "cell_type": "code",
      "metadata": {
        "id": "4T5Rdx1HRjWX",
        "colab_type": "code",
        "colab": {}
      },
      "source": [
        "# your answer text here"
      ],
      "execution_count": null,
      "outputs": []
    }
  ]
}