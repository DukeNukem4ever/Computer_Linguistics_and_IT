{
  "nbformat": 4,
  "nbformat_minor": 0,
  "metadata": {
    "colab": {
      "name": "Homework4_rem.ipynb",
      "provenance": [],
      "collapsed_sections": [],
      "toc_visible": true
    },
    "kernelspec": {
      "display_name": "Python 3",
      "name": "python3"
    }
  },
  "cells": [
    {
      "cell_type": "markdown",
      "metadata": {
        "id": "vSFjkUZu_aeJ"
      },
      "source": [
        "# ЗАДАНИЕ 1"
      ]
    },
    {
      "cell_type": "code",
      "metadata": {
        "colab": {
          "base_uri": "https://localhost:8080/"
        },
        "id": "O7isVdctXb2Q",
        "outputId": "fbcfed17-d53b-4b5b-ce88-32c4846a1bb4"
      },
      "source": [
        "!wget -c http://vectors.nlpl.eu/repository/20/180.zip\n",
        "#!wget -c https://rusvectores.org/static/models/rusvectores4/RNC/ruscorpora_upos_skipgram_300_5_2018.vec.gz\n",
        "#!wget -c https://rusvectores.org/static/models/rusvectores4/fasttext/araneum_none_fasttextcbow_300_5_2018.tgz\n",
        "!unzip 180.zip\n",
        "#!tar -xvf ruscorpora_upos_skipgram_300_5_2018.vec.gz"
      ],
      "execution_count": null,
      "outputs": [
        {
          "output_type": "stream",
          "text": [
            "--2020-12-09 21:35:55--  http://vectors.nlpl.eu/repository/20/180.zip\n",
            "Resolving vectors.nlpl.eu (vectors.nlpl.eu)... 129.240.189.225\n",
            "Connecting to vectors.nlpl.eu (vectors.nlpl.eu)|129.240.189.225|:80... connected.\n",
            "HTTP request sent, awaiting response... 416 Requested Range Not Satisfiable\n",
            "\n",
            "    The file is already fully retrieved; nothing to do.\n",
            "\n",
            "Archive:  180.zip\n",
            "replace meta.json? [y]es, [n]o, [A]ll, [N]one, [r]ename: y\n",
            "  inflating: meta.json               \n",
            "replace model.bin? [y]es, [n]o, [A]ll, [N]one, [r]ename: y\n",
            "  inflating: model.bin               \n",
            "replace model.txt? [y]es, [n]o, [A]ll, [N]one, [r]ename: y\n",
            "  inflating: model.txt               \n",
            "replace README? [y]es, [n]o, [A]ll, [N]one, [r]ename: y\n",
            "  inflating: README                  \n"
          ],
          "name": "stdout"
        }
      ]
    },
    {
      "cell_type": "code",
      "metadata": {
        "id": "sGrlgCSZvwjS"
      },
      "source": [
        "#with open(\"araneum_none_fasttextcbow_300_5_2018.model\",\"rb\") as file2:\n",
        "#  file3 = file2.read()\n",
        "#  print(file3[:100])"
      ],
      "execution_count": null,
      "outputs": []
    },
    {
      "cell_type": "code",
      "metadata": {
        "id": "jvBFjOg3Y6DB"
      },
      "source": [
        "import gensim\n",
        "\n",
        "model = gensim.models.KeyedVectors.load_word2vec_format(\"model.bin\", binary=True)\n",
        "#model = gensim.models.KeyedVectors.load_word2vec_format(\"araneum_none_fasttextcbow_300_5_2018.model\", binary=True)\n",
        "model.init_sims(replace=True)\n",
        "model.save_word2vec_format(\"model.txt\")"
      ],
      "execution_count": null,
      "outputs": []
    },
    {
      "cell_type": "code",
      "metadata": {
        "id": "jVkFEtkuiTIM"
      },
      "source": [
        "#with open('model.txt','r',encoding='utf-8') as fil:\n",
        "#  fil = fil.read()\n",
        "  #print(len(fil))"
      ],
      "execution_count": null,
      "outputs": []
    },
    {
      "cell_type": "code",
      "metadata": {
        "colab": {
          "base_uri": "https://localhost:8080/"
        },
        "id": "Z1KwZGIMY57P",
        "outputId": "eafbe729-b0cd-4afa-8d7e-32986925f19f"
      },
      "source": [
        "#model['два_NUM']\n",
        "\n",
        "#from pymystem3 import Mystem\n",
        "#m = Mystem()\n",
        "!pip install pymorphy2\n",
        "!pip install pymorphy2-dicts-ru\n",
        "import pymorphy2\n",
        "morph = pymorphy2.MorphAnalyzer()\n",
        "#m.lemmatize(\"Мама мыла раму\")"
      ],
      "execution_count": null,
      "outputs": [
        {
          "output_type": "stream",
          "text": [
            "Requirement already satisfied: pymorphy2 in /usr/local/lib/python3.6/dist-packages (0.9.1)\n",
            "Requirement already satisfied: docopt>=0.6 in /usr/local/lib/python3.6/dist-packages (from pymorphy2) (0.6.2)\n",
            "Requirement already satisfied: pymorphy2-dicts-ru<3.0,>=2.4 in /usr/local/lib/python3.6/dist-packages (from pymorphy2) (2.4.417127.4579844)\n",
            "Requirement already satisfied: dawg-python>=0.7.1 in /usr/local/lib/python3.6/dist-packages (from pymorphy2) (0.7.2)\n",
            "Requirement already satisfied: pymorphy2-dicts-ru in /usr/local/lib/python3.6/dist-packages (2.4.417127.4579844)\n"
          ],
          "name": "stdout"
        }
      ]
    },
    {
      "cell_type": "markdown",
      "metadata": {
        "id": "WwLVkAuY-zHE"
      },
      "source": [
        ""
      ]
    },
    {
      "cell_type": "code",
      "metadata": {
        "colab": {
          "base_uri": "https://localhost:8080/"
        },
        "id": "n1qMS_gBsJZ9",
        "outputId": "ba593c3c-f4e7-42de-9c2b-f41a15426edc"
      },
      "source": [
        "!pip install eli5\n",
        "import eli5\n",
        "from eli5.sklearn import PermutationImportance"
      ],
      "execution_count": null,
      "outputs": [
        {
          "output_type": "stream",
          "text": [
            "Requirement already satisfied: eli5 in /usr/local/lib/python3.6/dist-packages (0.10.1)\n",
            "Requirement already satisfied: jinja2 in /usr/local/lib/python3.6/dist-packages (from eli5) (2.11.2)\n",
            "Requirement already satisfied: six in /usr/local/lib/python3.6/dist-packages (from eli5) (1.15.0)\n",
            "Requirement already satisfied: scipy in /usr/local/lib/python3.6/dist-packages (from eli5) (1.4.1)\n",
            "Requirement already satisfied: graphviz in /usr/local/lib/python3.6/dist-packages (from eli5) (0.10.1)\n",
            "Requirement already satisfied: numpy>=1.9.0 in /usr/local/lib/python3.6/dist-packages (from eli5) (1.18.5)\n",
            "Requirement already satisfied: attrs>16.0.0 in /usr/local/lib/python3.6/dist-packages (from eli5) (20.3.0)\n",
            "Requirement already satisfied: scikit-learn>=0.18 in /usr/local/lib/python3.6/dist-packages (from eli5) (0.22.2.post1)\n",
            "Requirement already satisfied: tabulate>=0.7.7 in /usr/local/lib/python3.6/dist-packages (from eli5) (0.8.7)\n",
            "Requirement already satisfied: MarkupSafe>=0.23 in /usr/local/lib/python3.6/dist-packages (from jinja2->eli5) (1.1.1)\n",
            "Requirement already satisfied: joblib>=0.11 in /usr/local/lib/python3.6/dist-packages (from scikit-learn>=0.18->eli5) (0.17.0)\n"
          ],
          "name": "stdout"
        },
        {
          "output_type": "stream",
          "text": [
            "/usr/local/lib/python3.6/dist-packages/sklearn/utils/deprecation.py:144: FutureWarning: The sklearn.metrics.scorer module is  deprecated in version 0.22 and will be removed in version 0.24. The corresponding classes / functions should instead be imported from sklearn.metrics. Anything that cannot be imported from sklearn.metrics is now part of the private API.\n",
            "  warnings.warn(message, FutureWarning)\n",
            "/usr/local/lib/python3.6/dist-packages/sklearn/utils/deprecation.py:144: FutureWarning: The sklearn.feature_selection.base module is  deprecated in version 0.22 and will be removed in version 0.24. The corresponding classes / functions should instead be imported from sklearn.feature_selection. Anything that cannot be imported from sklearn.feature_selection is now part of the private API.\n",
            "  warnings.warn(message, FutureWarning)\n"
          ],
          "name": "stderr"
        }
      ]
    },
    {
      "cell_type": "code",
      "metadata": {
        "colab": {
          "base_uri": "https://localhost:8080/"
        },
        "id": "Fwg8UvMgtiCl",
        "outputId": "0b4cc9b6-6305-47af-d208-eba3dde040cf"
      },
      "source": [
        "model"
      ],
      "execution_count": null,
      "outputs": [
        {
          "output_type": "execute_result",
          "data": {
            "text/plain": [
              "<gensim.models.keyedvectors.Word2VecKeyedVectors at 0x7f0772d8fa90>"
            ]
          },
          "metadata": {
            "tags": []
          },
          "execution_count": 7
        }
      ]
    },
    {
      "cell_type": "code",
      "metadata": {
        "colab": {
          "base_uri": "https://localhost:8080/",
          "height": 89
        },
        "id": "cg2Sar7MY6AX",
        "outputId": "e1e0ab65-7e7e-4227-8895-37555344cfad"
      },
      "source": [
        "import re\n",
        "def augment_word2vec(sentence, model=model):\n",
        "    # your code here\n",
        "    ready_list = []\n",
        "    final_list = []\n",
        "    for s in sentence.split(' '):\n",
        "      p = morph.parse(s)[0]\n",
        "      ready_list.append(str(p.normal_form) + '_' + str(p.tag.POS))\n",
        "    #print(ready_list)\n",
        "    for p in ready_list:\n",
        "      p = re.sub('ADVB','ADV',str(p))\n",
        "      p = re.sub('ADJF','ADJ',str(p))\n",
        "      p = re.sub('ADJS','ADJ',str(p))\n",
        "      p = re.sub('NUMR','NUM',str(p))\n",
        "      if p in model:\n",
        "        super_list = []\n",
        "        m = model.most_similar(p, topn=10)\n",
        "        for mm in m:\n",
        "          #print(mm)\n",
        "          super_list.append(mm[0])\n",
        "        #print(super_list)\n",
        "        p_re = re.findall('(.*?)_', str(p))\n",
        "        for s in super_list:\n",
        "          s_re = re.findall('(.*?)_', str(s))\n",
        "          if s_re == p_re:\n",
        "            continue\n",
        "          else:\n",
        "            final_list.append(' '.join(s_re))\n",
        "            break\n",
        "      else:\n",
        "        p_re = re.findall('(.*?)_', str(p))\n",
        "        final_list.append(' '.join(p_re))\n",
        "          #m_re = re.findall('(.*?)_', str(m[0][0]))\n",
        "        #if p_re == m_re or ' '.join(p_re) in ' '.join(m_re):\n",
        "        #  m_re = re.findall('(.*?)_', str(m[1][0]))\n",
        "        #  final_list.append(' '.join(m_re))\n",
        "        #else:\n",
        "        #  final_list.append(' '.join(m_re))\n",
        "    return ' '.join(final_list)\n",
        "    \n",
        "augment_word2vec('Мама помыла раму')"
      ],
      "execution_count": null,
      "outputs": [
        {
          "output_type": "stream",
          "text": [
            "/usr/local/lib/python3.6/dist-packages/gensim/matutils.py:737: FutureWarning: Conversion of the second argument of issubdtype from `int` to `np.signedinteger` is deprecated. In future, it will be treated as `np.int64 == np.dtype(int).type`.\n",
            "  if np.issubdtype(vec.dtype, np.int):\n"
          ],
          "name": "stderr"
        },
        {
          "output_type": "execute_result",
          "data": {
            "application/vnd.google.colaboratory.intrinsic+json": {
              "type": "string"
            },
            "text/plain": [
              "'бабушка вымывать стекло'"
            ]
          },
          "metadata": {
            "tags": []
          },
          "execution_count": 8
        }
      ]
    },
    {
      "cell_type": "code",
      "metadata": {
        "id": "NGdpZFX2Y5-o"
      },
      "source": [
        "import warnings\n",
        "warnings.simplefilter(action='ignore', category=FutureWarning)\n",
        "\n",
        "#model\n",
        "\n",
        "#model.most_similar('red')"
      ],
      "execution_count": null,
      "outputs": []
    },
    {
      "cell_type": "code",
      "metadata": {
        "id": "CMnLwc5MY51X"
      },
      "source": [
        "#print(morph.parse('кошками')[0][1].case)\n",
        "#print(morph.parse('кошками')[0][1].gender)\n",
        "#print(morph.parse('кошками')[0].tag.POS)"
      ],
      "execution_count": null,
      "outputs": []
    },
    {
      "cell_type": "code",
      "metadata": {
        "id": "IqeEAuvKY5tv"
      },
      "source": [
        "#def augment_word2vec_pos(sentence, model=model):\n",
        "#  ready_list = []\n",
        "#  final_list = []\n",
        "#  spec_list = []\n",
        "#  for s in sentence.split(' '):\n",
        "#    p = morph.parse(s)[0]\n",
        "#    small_l = []\n",
        "#    small_l.append(str(p.normal_form))\n",
        "#    small_l.append(str(p.tag.POS))\n",
        "#    small_l.append(str(p[1].case))\n",
        "#    small_l.append(str(p[1].gender]))\n",
        "#    ready_list.append(str(p.normal_form) + '_' + str(p.tag.POS))\n",
        "#    spec_list.append(small_l)\n",
        "    #print(ready_list)\n",
        "#  for p in ready_list:\n",
        "#    p = re.sub('ADVB','ADV',str(p))\n",
        "#    p = re.sub('ADJF','ADJ',str(p))\n",
        "#    p = re.sub('ADJS','ADJ',str(p))\n",
        "#    p = re.sub('NUMR','NUM',str(p))\n",
        "#    if p in model:\n",
        "#      super_list = []\n",
        "#      m = model.most_similar(p, topn=10)\n",
        "#      for mm in m:\n",
        "        #print(mm)\n",
        "#        super_list.append(mm[0])\n",
        "        #print(super_list)\n",
        "#      p_re = re.findall('(.*?)_', str(p))\n",
        "#      for s in super_list:\n",
        "#        s_re = re.findall('(.*?)_', str(s))\n",
        "#        if s_re == p_re:\n",
        "#          continue\n",
        "#        else:\n",
        "#          final_list.append(' '.join(s_re))\n",
        "#          break\n",
        "#    else:\n",
        "#      p_re = re.findall('(.*?)_', str(p))\n",
        "#      final_list.append(' '.join(p_re))\n",
        "#  return ' '.join(final_list)\n",
        "\n",
        "    # your code here\n",
        "    #pass"
      ],
      "execution_count": null,
      "outputs": []
    },
    {
      "cell_type": "code",
      "metadata": {
        "id": "sCqeMpDHp_JU"
      },
      "source": [
        "#augment_word2vec('Мама помыла раму')"
      ],
      "execution_count": null,
      "outputs": []
    },
    {
      "cell_type": "markdown",
      "metadata": {
        "id": "2OkujORl8FUh"
      },
      "source": [
        "# ЗАДАНИЕ 2"
      ]
    },
    {
      "cell_type": "code",
      "metadata": {
        "colab": {
          "base_uri": "https://localhost:8080/"
        },
        "id": "s7F1VO1lp_NJ",
        "outputId": "c71287f6-ac0a-44cf-d501-93883a14346f"
      },
      "source": [
        "from google.colab import drive\n",
        "drive.mount('gdrive')"
      ],
      "execution_count": null,
      "outputs": [
        {
          "output_type": "stream",
          "text": [
            "Mounted at gdrive\n"
          ],
          "name": "stdout"
        }
      ]
    },
    {
      "cell_type": "code",
      "metadata": {
        "colab": {
          "base_uri": "https://localhost:8080/"
        },
        "id": "4dChJgtTBwAf",
        "outputId": "ec27afed-0bb7-42c5-d674-7c2ac4c248c2"
      },
      "source": [
        "%cd gdrive/My\\ Drive/\n",
        "\n",
        "!unzip medium_stories.zip"
      ],
      "execution_count": null,
      "outputs": [
        {
          "output_type": "stream",
          "text": [
            "/content/gdrive/My Drive\n",
            "Archive:  medium_stories.zip\n",
            "replace Medium_Clean.csv? [y]es, [n]o, [A]ll, [N]one, [r]ename: y\n",
            "  inflating: Medium_Clean.csv        \n"
          ],
          "name": "stdout"
        }
      ]
    },
    {
      "cell_type": "code",
      "metadata": {
        "colab": {
          "base_uri": "https://localhost:8080/"
        },
        "id": "cGV0P9tmBwGW",
        "outputId": "598f275a-9de4-4902-bc97-4decc6ebcf3d"
      },
      "source": [
        "import pandas as pd\n",
        "\n",
        "# можно не использовать колонки с тегами\n",
        "usecols = [\"Title\", \"Subtitle\", \"Image\", \"Author\", \"Publication\", \"Year\", \"Month\", \"Day\", \"Reading_Time\", \"Claps\", \"url\", \"Author_url\"]\n",
        "\n",
        "df = pd.read_csv(\"Medium_Clean.csv\", sep=\",\", usecols=usecols)\n",
        "df[\"Claps\"] = df[\"Claps\"].astype(int)\n",
        "#df.head()"
      ],
      "execution_count": null,
      "outputs": [
        {
          "output_type": "stream",
          "text": [
            "/usr/local/lib/python3.6/dist-packages/IPython/core/interactiveshell.py:2718: DtypeWarning: Columns (5) have mixed types.Specify dtype option on import or set low_memory=False.\n",
            "  interactivity=interactivity, compiler=compiler, result=result)\n"
          ],
          "name": "stderr"
        }
      ]
    },
    {
      "cell_type": "code",
      "metadata": {
        "id": "qL8Cm02qHIHR"
      },
      "source": [
        "#from sklearn.model_selection import train_test_split, KFold, StratifiedKFold,  RepeatedStratifiedKFold, GridSearchCV\n",
        "from sklearn.linear_model import LinearRegression, Ridge"
      ],
      "execution_count": null,
      "outputs": []
    },
    {
      "cell_type": "code",
      "metadata": {
        "colab": {
          "base_uri": "https://localhost:8080/"
        },
        "id": "xF-0StOSh9dP",
        "outputId": "3887a665-92a0-423c-cce2-d13020255d83"
      },
      "source": [
        "# Удаление NaN\n",
        "\n",
        "for col_name in df.columns:\n",
        "    num_nan_values = len(df[df[col_name].isna()])\n",
        "    print(\"Number of NaN values in %s column is %d\" % (col_name, num_nan_values))\n",
        "    if num_nan_values > 0:\n",
        "        df = df.dropna(subset=[col_name])\n",
        "\n",
        "print()\n",
        "print(\"Total number of rows is %d\" % df.shape[0])"
      ],
      "execution_count": null,
      "outputs": [
        {
          "output_type": "stream",
          "text": [
            "Number of NaN values in Title column is 48813\n",
            "Number of NaN values in Subtitle column is 417365\n",
            "Number of NaN values in Image column is 0\n",
            "Number of NaN values in Author column is 0\n",
            "Number of NaN values in Publication column is 653844\n",
            "Number of NaN values in Year column is 0\n",
            "Number of NaN values in Month column is 0\n",
            "Number of NaN values in Day column is 0\n",
            "Number of NaN values in Reading_Time column is 0\n",
            "Number of NaN values in Claps column is 0\n",
            "Number of NaN values in url column is 0\n",
            "Number of NaN values in Author_url column is 0\n",
            "\n",
            "Total number of rows is 271011\n"
          ],
          "name": "stdout"
        }
      ]
    },
    {
      "cell_type": "code",
      "metadata": {
        "colab": {
          "base_uri": "https://localhost:8080/"
        },
        "id": "7Qpn6lkwT5JR",
        "outputId": "3eb4b13a-9c4c-4f24-b230-980c7d2c8064"
      },
      "source": [
        "# Пропорциональное распределение заголовков\n",
        "\n",
        "df[\"Title\"].value_counts(normalize=True)"
      ],
      "execution_count": null,
      "outputs": [
        {
          "output_type": "execute_result",
          "data": {
            "text/plain": [
              "                                                                          0.000753\n",
              "                                                                          0.000565\n",
              "                                                                          0.000535\n",
              "                                                                          0.000280\n",
              "Las portadas del da                                                       0.000247\n",
              "                                                                            ...   \n",
              "Donald Trump has fundamentally changed the nature of American politics    0.000004\n",
              "4 Farm Fresh Overalls to Wear This Summer                                 0.000004\n",
              "What Do You Think YOU Are Here To Do?                                     0.000004\n",
              "Our Terrible Life                                                         0.000004\n",
              "Some Great Music Episodes From Non-Music Podcasts                         0.000004\n",
              "Name: Title, Length: 261356, dtype: float64"
            ]
          },
          "metadata": {
            "tags": []
          },
          "execution_count": 18
        }
      ]
    },
    {
      "cell_type": "code",
      "metadata": {
        "colab": {
          "base_uri": "https://localhost:8080/"
        },
        "id": "_RY37qbPlrHL",
        "outputId": "98b18be3-b0d6-426a-c8cd-3d811ba1565a"
      },
      "source": [
        "# Пропорция уникальных авторов\n",
        "\n",
        "len(df[\"Title\"].unique()) / df.shape[0]"
      ],
      "execution_count": null,
      "outputs": [
        {
          "output_type": "execute_result",
          "data": {
            "text/plain": [
              "0.9643741397950637"
            ]
          },
          "metadata": {
            "tags": []
          },
          "execution_count": 19
        }
      ]
    },
    {
      "cell_type": "code",
      "metadata": {
        "colab": {
          "base_uri": "https://localhost:8080/"
        },
        "id": "F8KwuIxNlq_E",
        "outputId": "1caae6f6-f464-4c3e-8186-f25298b451cc"
      },
      "source": [
        "# удаление дубликатов\n",
        "\n",
        "df = df.drop_duplicates(subset=[\"Title\"])\n",
        "len(df[\"Title\"].unique()) / df.shape[0]"
      ],
      "execution_count": null,
      "outputs": [
        {
          "output_type": "execute_result",
          "data": {
            "text/plain": [
              "1.0"
            ]
          },
          "metadata": {
            "tags": []
          },
          "execution_count": 20
        }
      ]
    },
    {
      "cell_type": "code",
      "metadata": {
        "colab": {
          "base_uri": "https://localhost:8080/"
        },
        "id": "ZX-sju4slq8F",
        "outputId": "9a0cf210-3ef8-4e9c-b13c-88a11ede9931"
      },
      "source": [
        "df[\"Month\"].value_counts() # Распределение по месяцам"
      ],
      "execution_count": null,
      "outputs": [
        {
          "output_type": "execute_result",
          "data": {
            "text/plain": [
              "10    23255\n",
              "3     22853\n",
              "1     22747\n",
              "8     22334\n",
              "7     22001\n",
              "5     21952\n",
              "11    21935\n",
              "4     21799\n",
              "6     21640\n",
              "9     21031\n",
              "2     20435\n",
              "12    19374\n",
              "Name: Month, dtype: int64"
            ]
          },
          "metadata": {
            "tags": []
          },
          "execution_count": 21
        }
      ]
    },
    {
      "cell_type": "code",
      "metadata": {
        "colab": {
          "base_uri": "https://localhost:8080/"
        },
        "id": "CvFHddeJnp8q",
        "outputId": "13d48eb3-a17c-44af-b059-0ca66c569057"
      },
      "source": [
        "df['Year'].value_counts() # Распределение по годам"
      ],
      "execution_count": null,
      "outputs": [
        {
          "output_type": "execute_result",
          "data": {
            "text/plain": [
              "2018    154369\n",
              "2017    106987\n",
              "Name: Year, dtype: int64"
            ]
          },
          "metadata": {
            "tags": []
          },
          "execution_count": 22
        }
      ]
    },
    {
      "cell_type": "code",
      "metadata": {
        "id": "3MGi6RRkntxS"
      },
      "source": [
        "df['title_len'] = df['Title'].apply(len)\n",
        "df['title_len_tokens'] = df['Title'].apply(lambda x: len(x.split()))\n",
        "df['number_of_caps'] = df['Title'].apply(lambda x: len([ch for ch in x if ch.isupper()]))\n",
        "df['number_of_nonalphanum'] = df['Title'].apply(lambda x: len([ch for ch in x if not ch.isalnum()]))"
      ],
      "execution_count": null,
      "outputs": []
    },
    {
      "cell_type": "markdown",
      "metadata": {
        "id": "Bh5zI85hqyK-"
      },
      "source": [
        "# Статистика по следующим показателям:\n",
        "## 1) Length of a title\n",
        "## 2) Length of a tokenized title\n",
        "## 3) Number of caps in a title\n",
        "## 4) Number of non alpha nums in a title"
      ]
    },
    {
      "cell_type": "code",
      "metadata": {
        "colab": {
          "base_uri": "https://localhost:8080/"
        },
        "id": "w-DMBSRHqAw7",
        "outputId": "820402a2-2160-47b3-d328-f58ec44fd9e2"
      },
      "source": [
        "sent_num_subset = df[\"title_len\"]\n",
        "\n",
        "print(\"Standard deviation: %d\" % sent_num_subset.std())\n",
        "print(\"Median: %d\" % sent_num_subset.median())\n",
        "print(\"Min value: %d\" % sent_num_subset.min())\n",
        "print(\"Mean value: %d\" % sent_num_subset.mean())\n",
        "print(\"Max value: %d\" % sent_num_subset.max())"
      ],
      "execution_count": null,
      "outputs": [
        {
          "output_type": "stream",
          "text": [
            "Standard deviation: 18\n",
            "Median: 35\n",
            "Min value: 1\n",
            "Mean value: 37\n",
            "Max value: 278\n"
          ],
          "name": "stdout"
        }
      ]
    },
    {
      "cell_type": "code",
      "metadata": {
        "colab": {
          "base_uri": "https://localhost:8080/"
        },
        "id": "vLH5wJesqGNE",
        "outputId": "d52405b2-34bd-4465-c89e-01469aeb857a"
      },
      "source": [
        "sent_num_subset_2 = df[\"title_len_tokens\"]\n",
        "\n",
        "print(\"Standard deviation: %d\" % sent_num_subset_2.std())\n",
        "print(\"Median: %d\" % sent_num_subset_2.median())\n",
        "print(\"Min value: %d\" % sent_num_subset_2.min())\n",
        "print(\"Mean value: %d\" % sent_num_subset_2.mean())\n",
        "print(\"Max value: %d\" % sent_num_subset_2.max())"
      ],
      "execution_count": null,
      "outputs": [
        {
          "output_type": "stream",
          "text": [
            "Standard deviation: 3\n",
            "Median: 6\n",
            "Min value: 0\n",
            "Mean value: 6\n",
            "Max value: 56\n"
          ],
          "name": "stdout"
        }
      ]
    },
    {
      "cell_type": "code",
      "metadata": {
        "colab": {
          "base_uri": "https://localhost:8080/"
        },
        "id": "gI-DlJQeqNGU",
        "outputId": "c225eea7-695c-4425-c8d1-f7477c4527a8"
      },
      "source": [
        "sent_num_subset_3 = df[\"number_of_caps\"]\n",
        "\n",
        "print(\"Standard deviation: %d\" % sent_num_subset_3.std())\n",
        "print(\"Median: %d\" % sent_num_subset_3.median())\n",
        "print(\"Min value: %d\" % sent_num_subset_3.min())\n",
        "print(\"Mean value: %d\" % sent_num_subset_3.mean())\n",
        "print(\"Max value: %d\" % sent_num_subset_3.max())"
      ],
      "execution_count": null,
      "outputs": [
        {
          "output_type": "stream",
          "text": [
            "Standard deviation: 4\n",
            "Median: 4\n",
            "Min value: 0\n",
            "Mean value: 4\n",
            "Max value: 155\n"
          ],
          "name": "stdout"
        }
      ]
    },
    {
      "cell_type": "code",
      "metadata": {
        "colab": {
          "base_uri": "https://localhost:8080/"
        },
        "id": "aQVKbZxxqVG1",
        "outputId": "8ca9992a-2ee3-4a7a-d901-561c2f67da22"
      },
      "source": [
        "sent_num_subset_4 = df[\"number_of_nonalphanum\"]\n",
        "\n",
        "print(\"Standard deviation: %d\" % sent_num_subset_4.std())\n",
        "print(\"Median: %d\" % sent_num_subset_4.median())\n",
        "print(\"Min value: %d\" % sent_num_subset_4.min())\n",
        "print(\"Mean value: %d\" % sent_num_subset_4.mean())\n",
        "print(\"Max value: %d\" % sent_num_subset_4.max())"
      ],
      "execution_count": null,
      "outputs": [
        {
          "output_type": "stream",
          "text": [
            "Standard deviation: 3\n",
            "Median: 5\n",
            "Min value: 0\n",
            "Mean value: 5\n",
            "Max value: 65\n"
          ],
          "name": "stdout"
        }
      ]
    },
    {
      "cell_type": "code",
      "metadata": {
        "id": "lEF8CPzRJ-eG"
      },
      "source": [
        "df2 = df[:10000]\n",
        "#df"
      ],
      "execution_count": null,
      "outputs": []
    },
    {
      "cell_type": "code",
      "metadata": {
        "id": "poLaCr4gIRTb"
      },
      "source": [
        "from sklearn.feature_extraction.text import TfidfVectorizer\n",
        "from sklearn.model_selection import train_test_split, KFold, StratifiedKFold,  RepeatedStratifiedKFold, GridSearchCV\n",
        "from sklearn.feature_extraction.text import CountVectorizer\n",
        "\n",
        "#count_vect = CountVectorizer()"
      ],
      "execution_count": null,
      "outputs": []
    },
    {
      "cell_type": "code",
      "metadata": {
        "id": "3ayIvcNpGW_z"
      },
      "source": [
        "X = df2[['title_len', 'title_len_tokens', 'number_of_caps', 'number_of_nonalphanum']].values\n",
        "y = df2['Claps'].values"
      ],
      "execution_count": null,
      "outputs": []
    },
    {
      "cell_type": "code",
      "metadata": {
        "colab": {
          "base_uri": "https://localhost:8080/"
        },
        "id": "wb3OO5rJHpgM",
        "outputId": "0b9009c4-c4ee-42a7-9ad7-ee7d50817042"
      },
      "source": [
        "X.shape # размерность матрицы объектов-признаков"
      ],
      "execution_count": null,
      "outputs": [
        {
          "output_type": "execute_result",
          "data": {
            "text/plain": [
              "(10000, 4)"
            ]
          },
          "metadata": {
            "tags": []
          },
          "execution_count": 31
        }
      ]
    },
    {
      "cell_type": "code",
      "metadata": {
        "colab": {
          "base_uri": "https://localhost:8080/"
        },
        "id": "T0n60Up0v5W0",
        "outputId": "dc8a6a00-2514-40a3-b204-87b9be81c662"
      },
      "source": [
        "import numpy as np\n",
        "from sklearn.linear_model import LinearRegression, Ridge, Lasso, ElasticNet\n",
        "from sklearn.metrics import mean_squared_error\n",
        "from sklearn.model_selection import train_test_split\n",
        "\n",
        "X_train, X_test, y_train, y_test = train_test_split(X, y, random_state=59)\n",
        "\n",
        "reg_1 = LinearRegression().fit(X_train,y_train)\n",
        "\n",
        "x_pred_1 = reg_1.predict(X_test)\n",
        "\n",
        "mse_1 = mean_squared_error(y_test, x_pred_1)\n",
        "rmse_1 = np.sqrt(mse_1)\n",
        "\n",
        "print(mse_1)\n",
        "print()\n",
        "print(rmse_1)\n"
      ],
      "execution_count": null,
      "outputs": [
        {
          "output_type": "stream",
          "text": [
            "191379.80263547684\n",
            "\n",
            "437.4697733963763\n"
          ],
          "name": "stdout"
        }
      ]
    },
    {
      "cell_type": "code",
      "metadata": {
        "colab": {
          "base_uri": "https://localhost:8080/"
        },
        "id": "5_aD38MVOtxU",
        "outputId": "13ce0470-8497-4ed3-e9bb-912bda0fcdb8"
      },
      "source": [
        "reg_2 = Ridge(alpha = 1.0).fit(X_train,y_train)\n",
        "\n",
        "x_pred_2 = reg_2.predict(X_test)\n",
        "\n",
        "mse_2 = mean_squared_error(y_test, x_pred_2)\n",
        "rmse_2 = np.sqrt(mse_2)\n",
        "\n",
        "print(mse_2)\n",
        "print()\n",
        "print(rmse_2)"
      ],
      "execution_count": null,
      "outputs": [
        {
          "output_type": "stream",
          "text": [
            "191379.81550518956\n",
            "\n",
            "437.4697881056354\n"
          ],
          "name": "stdout"
        }
      ]
    },
    {
      "cell_type": "code",
      "metadata": {
        "colab": {
          "base_uri": "https://localhost:8080/"
        },
        "id": "7-12A04iOtsq",
        "outputId": "3fe056af-8a8a-4b85-905e-8ae2ac85f614"
      },
      "source": [
        "reg_3 = Lasso(alpha = 1.0).fit(X_train,y_train)\n",
        "#r_sq = reg.score(X, y)\n",
        "#print(r_sq)\n",
        "\n",
        "#reg_3.fit(X_train, y_train)\n",
        "x_pred_3 = reg_3.predict(X_test)\n",
        "\n",
        "mse_3 = mean_squared_error(y_test, x_pred_3)\n",
        "rmse_3 = np.sqrt(mse_3)\n",
        "\n",
        "print(mse_3)\n",
        "print()\n",
        "print(rmse_3)\n",
        "\n",
        "#y_pred_3 = reg_3.intercept_ + reg_3.coef_ * X_test\n",
        "\n",
        "#y_pred = reg.predict(X)\n",
        "\n",
        "#print(y_pred_3)"
      ],
      "execution_count": null,
      "outputs": [
        {
          "output_type": "stream",
          "text": [
            "191400.13530259332\n",
            "\n",
            "437.4930117185797\n"
          ],
          "name": "stdout"
        }
      ]
    },
    {
      "cell_type": "markdown",
      "metadata": {
        "id": "vtsjeaRKi4tp"
      },
      "source": [
        "Лучшей здесь можно назвать модель, полученную через линейную регрессию, поскольку её значения MSE и RMSE немного меньше, чем у других моделей."
      ]
    },
    {
      "cell_type": "code",
      "metadata": {
        "id": "C1ujos5YXQzq"
      },
      "source": [
        "#from sklearn.metrics import  f1_score\n",
        "#from sklearn import linear_model\n",
        "\n",
        "#model = linear_model.LogisticRegression()\n",
        "#model = model.fit(X_train, y_train)"
      ],
      "execution_count": null,
      "outputs": []
    },
    {
      "cell_type": "code",
      "metadata": {
        "colab": {
          "base_uri": "https://localhost:8080/",
          "height": 174
        },
        "id": "CnJM9xGN5BYA",
        "outputId": "2276b68e-2f69-478b-f6e9-3410ef5a9040"
      },
      "source": [
        "eli5.show_weights(reg_1, top=50)"
      ],
      "execution_count": null,
      "outputs": [
        {
          "output_type": "execute_result",
          "data": {
            "text/html": [
              "\n",
              "    <style>\n",
              "    table.eli5-weights tr:hover {\n",
              "        filter: brightness(85%);\n",
              "    }\n",
              "</style>\n",
              "\n",
              "\n",
              "\n",
              "    \n",
              "\n",
              "    \n",
              "\n",
              "    \n",
              "\n",
              "    \n",
              "\n",
              "    \n",
              "\n",
              "    \n",
              "\n",
              "\n",
              "    \n",
              "\n",
              "    \n",
              "\n",
              "    \n",
              "\n",
              "    \n",
              "        \n",
              "\n",
              "    \n",
              "\n",
              "        \n",
              "            \n",
              "                \n",
              "                \n",
              "    \n",
              "        <p style=\"margin-bottom: 0.5em; margin-top: 0em\">\n",
              "            <b>\n",
              "    \n",
              "        y\n",
              "    \n",
              "</b>\n",
              "\n",
              "top features\n",
              "        </p>\n",
              "    \n",
              "    <table class=\"eli5-weights\"\n",
              "           style=\"border-collapse: collapse; border: none; margin-top: 0em; table-layout: auto; margin-bottom: 2em;\">\n",
              "        <thead>\n",
              "        <tr style=\"border: none;\">\n",
              "            \n",
              "                <th style=\"padding: 0 1em 0 0.5em; text-align: right; border: none;\" title=\"Feature weights. Note that weights do not account for feature value scales, so if feature values have different scales, features with highest weights might not be the most important.\">\n",
              "                    Weight<sup>?</sup>\n",
              "                </th>\n",
              "            \n",
              "            <th style=\"padding: 0 0.5em 0 0.5em; text-align: left; border: none;\">Feature</th>\n",
              "            \n",
              "        </tr>\n",
              "        </thead>\n",
              "        <tbody>\n",
              "        \n",
              "            <tr style=\"background-color: hsl(120, 100.00%, 80.00%); border: none;\">\n",
              "    <td style=\"padding: 0 1em 0 0.5em; text-align: right; border: none;\">\n",
              "        +103.523\n",
              "    </td>\n",
              "    <td style=\"padding: 0 0.5em 0 0.5em; text-align: left; border: none;\">\n",
              "        &lt;BIAS&gt;\n",
              "    </td>\n",
              "    \n",
              "</tr>\n",
              "        \n",
              "            <tr style=\"background-color: hsl(120, 100.00%, 97.68%); border: none;\">\n",
              "    <td style=\"padding: 0 1em 0 0.5em; text-align: right; border: none;\">\n",
              "        +4.757\n",
              "    </td>\n",
              "    <td style=\"padding: 0 0.5em 0 0.5em; text-align: left; border: none;\">\n",
              "        x1\n",
              "    </td>\n",
              "    \n",
              "</tr>\n",
              "        \n",
              "            <tr style=\"background-color: hsl(120, 100.00%, 99.24%); border: none;\">\n",
              "    <td style=\"padding: 0 1em 0 0.5em; text-align: right; border: none;\">\n",
              "        +0.966\n",
              "    </td>\n",
              "    <td style=\"padding: 0 0.5em 0 0.5em; text-align: left; border: none;\">\n",
              "        x0\n",
              "    </td>\n",
              "    \n",
              "</tr>\n",
              "        \n",
              "        \n",
              "\n",
              "        \n",
              "        \n",
              "            <tr style=\"background-color: hsl(0, 100.00%, 99.77%); border: none;\">\n",
              "    <td style=\"padding: 0 1em 0 0.5em; text-align: right; border: none;\">\n",
              "        -0.180\n",
              "    </td>\n",
              "    <td style=\"padding: 0 0.5em 0 0.5em; text-align: left; border: none;\">\n",
              "        x2\n",
              "    </td>\n",
              "    \n",
              "</tr>\n",
              "        \n",
              "            <tr style=\"background-color: hsl(0, 100.00%, 96.31%); border: none;\">\n",
              "    <td style=\"padding: 0 1em 0 0.5em; text-align: right; border: none;\">\n",
              "        -9.254\n",
              "    </td>\n",
              "    <td style=\"padding: 0 0.5em 0 0.5em; text-align: left; border: none;\">\n",
              "        x3\n",
              "    </td>\n",
              "    \n",
              "</tr>\n",
              "        \n",
              "\n",
              "        </tbody>\n",
              "    </table>\n",
              "\n",
              "            \n",
              "        \n",
              "\n",
              "        \n",
              "\n",
              "\n",
              "\n",
              "    \n",
              "\n",
              "    \n",
              "\n",
              "    \n",
              "\n",
              "    \n",
              "\n",
              "\n",
              "    \n",
              "\n",
              "    \n",
              "\n",
              "    \n",
              "\n",
              "    \n",
              "\n",
              "    \n",
              "\n",
              "    \n",
              "\n",
              "\n",
              "    \n",
              "\n",
              "    \n",
              "\n",
              "    \n",
              "\n",
              "    \n",
              "\n",
              "    \n",
              "\n",
              "    \n",
              "\n",
              "\n",
              "\n"
            ],
            "text/plain": [
              "<IPython.core.display.HTML object>"
            ]
          },
          "metadata": {
            "tags": []
          },
          "execution_count": 36
        }
      ]
    },
    {
      "cell_type": "code",
      "metadata": {
        "colab": {
          "base_uri": "https://localhost:8080/",
          "height": 195
        },
        "id": "3AU_KBsZ5BYH",
        "outputId": "5b9a35dd-7952-4ade-97e7-3691b6d55a19"
      },
      "source": [
        "eli5_weights = eli5.formatters.as_dataframe.explain_weights_df(reg_1)\n",
        "eli5_weights\n",
        "#eli5_weights"
      ],
      "execution_count": null,
      "outputs": [
        {
          "output_type": "execute_result",
          "data": {
            "text/html": [
              "<div>\n",
              "<style scoped>\n",
              "    .dataframe tbody tr th:only-of-type {\n",
              "        vertical-align: middle;\n",
              "    }\n",
              "\n",
              "    .dataframe tbody tr th {\n",
              "        vertical-align: top;\n",
              "    }\n",
              "\n",
              "    .dataframe thead th {\n",
              "        text-align: right;\n",
              "    }\n",
              "</style>\n",
              "<table border=\"1\" class=\"dataframe\">\n",
              "  <thead>\n",
              "    <tr style=\"text-align: right;\">\n",
              "      <th></th>\n",
              "      <th>target</th>\n",
              "      <th>feature</th>\n",
              "      <th>weight</th>\n",
              "    </tr>\n",
              "  </thead>\n",
              "  <tbody>\n",
              "    <tr>\n",
              "      <th>0</th>\n",
              "      <td>y</td>\n",
              "      <td>&lt;BIAS&gt;</td>\n",
              "      <td>103.523432</td>\n",
              "    </tr>\n",
              "    <tr>\n",
              "      <th>1</th>\n",
              "      <td>y</td>\n",
              "      <td>x1</td>\n",
              "      <td>4.757208</td>\n",
              "    </tr>\n",
              "    <tr>\n",
              "      <th>2</th>\n",
              "      <td>y</td>\n",
              "      <td>x0</td>\n",
              "      <td>0.966304</td>\n",
              "    </tr>\n",
              "    <tr>\n",
              "      <th>3</th>\n",
              "      <td>y</td>\n",
              "      <td>x2</td>\n",
              "      <td>-0.179602</td>\n",
              "    </tr>\n",
              "    <tr>\n",
              "      <th>4</th>\n",
              "      <td>y</td>\n",
              "      <td>x3</td>\n",
              "      <td>-9.253766</td>\n",
              "    </tr>\n",
              "  </tbody>\n",
              "</table>\n",
              "</div>"
            ],
            "text/plain": [
              "  target feature      weight\n",
              "0      y  <BIAS>  103.523432\n",
              "1      y      x1    4.757208\n",
              "2      y      x0    0.966304\n",
              "3      y      x2   -0.179602\n",
              "4      y      x3   -9.253766"
            ]
          },
          "metadata": {
            "tags": []
          },
          "execution_count": 37
        }
      ]
    },
    {
      "cell_type": "code",
      "metadata": {
        "colab": {
          "base_uri": "https://localhost:8080/",
          "height": 174
        },
        "id": "__Eto6sbn22y",
        "outputId": "e459ccf1-7c0c-41ba-eca9-39ff17e299f9"
      },
      "source": [
        "eli5.show_weights(reg_2, top=50)"
      ],
      "execution_count": null,
      "outputs": [
        {
          "output_type": "execute_result",
          "data": {
            "text/html": [
              "\n",
              "    <style>\n",
              "    table.eli5-weights tr:hover {\n",
              "        filter: brightness(85%);\n",
              "    }\n",
              "</style>\n",
              "\n",
              "\n",
              "\n",
              "    \n",
              "\n",
              "    \n",
              "\n",
              "    \n",
              "\n",
              "    \n",
              "\n",
              "    \n",
              "\n",
              "    \n",
              "\n",
              "\n",
              "    \n",
              "\n",
              "    \n",
              "\n",
              "    \n",
              "\n",
              "    \n",
              "        \n",
              "\n",
              "    \n",
              "\n",
              "        \n",
              "            \n",
              "                \n",
              "                \n",
              "    \n",
              "        <p style=\"margin-bottom: 0.5em; margin-top: 0em\">\n",
              "            <b>\n",
              "    \n",
              "        y\n",
              "    \n",
              "</b>\n",
              "\n",
              "top features\n",
              "        </p>\n",
              "    \n",
              "    <table class=\"eli5-weights\"\n",
              "           style=\"border-collapse: collapse; border: none; margin-top: 0em; table-layout: auto; margin-bottom: 2em;\">\n",
              "        <thead>\n",
              "        <tr style=\"border: none;\">\n",
              "            \n",
              "                <th style=\"padding: 0 1em 0 0.5em; text-align: right; border: none;\" title=\"Feature weights. Note that weights do not account for feature value scales, so if feature values have different scales, features with highest weights might not be the most important.\">\n",
              "                    Weight<sup>?</sup>\n",
              "                </th>\n",
              "            \n",
              "            <th style=\"padding: 0 0.5em 0 0.5em; text-align: left; border: none;\">Feature</th>\n",
              "            \n",
              "        </tr>\n",
              "        </thead>\n",
              "        <tbody>\n",
              "        \n",
              "            <tr style=\"background-color: hsl(120, 100.00%, 80.00%); border: none;\">\n",
              "    <td style=\"padding: 0 1em 0 0.5em; text-align: right; border: none;\">\n",
              "        +103.525\n",
              "    </td>\n",
              "    <td style=\"padding: 0 0.5em 0 0.5em; text-align: left; border: none;\">\n",
              "        &lt;BIAS&gt;\n",
              "    </td>\n",
              "    \n",
              "</tr>\n",
              "        \n",
              "            <tr style=\"background-color: hsl(120, 100.00%, 97.69%); border: none;\">\n",
              "    <td style=\"padding: 0 1em 0 0.5em; text-align: right; border: none;\">\n",
              "        +4.755\n",
              "    </td>\n",
              "    <td style=\"padding: 0 0.5em 0 0.5em; text-align: left; border: none;\">\n",
              "        x1\n",
              "    </td>\n",
              "    \n",
              "</tr>\n",
              "        \n",
              "            <tr style=\"background-color: hsl(120, 100.00%, 99.24%); border: none;\">\n",
              "    <td style=\"padding: 0 1em 0 0.5em; text-align: right; border: none;\">\n",
              "        +0.966\n",
              "    </td>\n",
              "    <td style=\"padding: 0 0.5em 0 0.5em; text-align: left; border: none;\">\n",
              "        x0\n",
              "    </td>\n",
              "    \n",
              "</tr>\n",
              "        \n",
              "        \n",
              "\n",
              "        \n",
              "        \n",
              "            <tr style=\"background-color: hsl(0, 100.00%, 99.77%); border: none;\">\n",
              "    <td style=\"padding: 0 1em 0 0.5em; text-align: right; border: none;\">\n",
              "        -0.180\n",
              "    </td>\n",
              "    <td style=\"padding: 0 0.5em 0 0.5em; text-align: left; border: none;\">\n",
              "        x2\n",
              "    </td>\n",
              "    \n",
              "</tr>\n",
              "        \n",
              "            <tr style=\"background-color: hsl(0, 100.00%, 96.31%); border: none;\">\n",
              "    <td style=\"padding: 0 1em 0 0.5em; text-align: right; border: none;\">\n",
              "        -9.252\n",
              "    </td>\n",
              "    <td style=\"padding: 0 0.5em 0 0.5em; text-align: left; border: none;\">\n",
              "        x3\n",
              "    </td>\n",
              "    \n",
              "</tr>\n",
              "        \n",
              "\n",
              "        </tbody>\n",
              "    </table>\n",
              "\n",
              "            \n",
              "        \n",
              "\n",
              "        \n",
              "\n",
              "\n",
              "\n",
              "    \n",
              "\n",
              "    \n",
              "\n",
              "    \n",
              "\n",
              "    \n",
              "\n",
              "\n",
              "    \n",
              "\n",
              "    \n",
              "\n",
              "    \n",
              "\n",
              "    \n",
              "\n",
              "    \n",
              "\n",
              "    \n",
              "\n",
              "\n",
              "    \n",
              "\n",
              "    \n",
              "\n",
              "    \n",
              "\n",
              "    \n",
              "\n",
              "    \n",
              "\n",
              "    \n",
              "\n",
              "\n",
              "\n"
            ],
            "text/plain": [
              "<IPython.core.display.HTML object>"
            ]
          },
          "metadata": {
            "tags": []
          },
          "execution_count": 38
        }
      ]
    },
    {
      "cell_type": "code",
      "metadata": {
        "colab": {
          "base_uri": "https://localhost:8080/",
          "height": 174
        },
        "id": "3rIaAhBtn2yo",
        "outputId": "f7088ed0-49f7-4797-968f-76da0b006e4a"
      },
      "source": [
        "eli5.show_weights(reg_3, top=50)"
      ],
      "execution_count": null,
      "outputs": [
        {
          "output_type": "execute_result",
          "data": {
            "text/html": [
              "\n",
              "    <style>\n",
              "    table.eli5-weights tr:hover {\n",
              "        filter: brightness(85%);\n",
              "    }\n",
              "</style>\n",
              "\n",
              "\n",
              "\n",
              "    \n",
              "\n",
              "    \n",
              "\n",
              "    \n",
              "\n",
              "    \n",
              "\n",
              "    \n",
              "\n",
              "    \n",
              "\n",
              "\n",
              "    \n",
              "\n",
              "    \n",
              "\n",
              "    \n",
              "\n",
              "    \n",
              "        \n",
              "\n",
              "    \n",
              "\n",
              "        \n",
              "            \n",
              "                \n",
              "                \n",
              "    \n",
              "        <p style=\"margin-bottom: 0.5em; margin-top: 0em\">\n",
              "            <b>\n",
              "    \n",
              "        y\n",
              "    \n",
              "</b>\n",
              "\n",
              "top features\n",
              "        </p>\n",
              "    \n",
              "    <table class=\"eli5-weights\"\n",
              "           style=\"border-collapse: collapse; border: none; margin-top: 0em; table-layout: auto; margin-bottom: 2em;\">\n",
              "        <thead>\n",
              "        <tr style=\"border: none;\">\n",
              "            \n",
              "                <th style=\"padding: 0 1em 0 0.5em; text-align: right; border: none;\" title=\"Feature weights. Note that weights do not account for feature value scales, so if feature values have different scales, features with highest weights might not be the most important.\">\n",
              "                    Weight<sup>?</sup>\n",
              "                </th>\n",
              "            \n",
              "            <th style=\"padding: 0 0.5em 0 0.5em; text-align: left; border: none;\">Feature</th>\n",
              "            \n",
              "        </tr>\n",
              "        </thead>\n",
              "        <tbody>\n",
              "        \n",
              "            <tr style=\"background-color: hsl(120, 100.00%, 80.00%); border: none;\">\n",
              "    <td style=\"padding: 0 1em 0 0.5em; text-align: right; border: none;\">\n",
              "        +104.719\n",
              "    </td>\n",
              "    <td style=\"padding: 0 0.5em 0 0.5em; text-align: left; border: none;\">\n",
              "        &lt;BIAS&gt;\n",
              "    </td>\n",
              "    \n",
              "</tr>\n",
              "        \n",
              "            <tr style=\"background-color: hsl(120, 100.00%, 98.48%); border: none;\">\n",
              "    <td style=\"padding: 0 1em 0 0.5em; text-align: right; border: none;\">\n",
              "        +2.648\n",
              "    </td>\n",
              "    <td style=\"padding: 0 0.5em 0 0.5em; text-align: left; border: none;\">\n",
              "        x1\n",
              "    </td>\n",
              "    \n",
              "</tr>\n",
              "        \n",
              "            <tr style=\"background-color: hsl(120, 100.00%, 99.21%); border: none;\">\n",
              "    <td style=\"padding: 0 1em 0 0.5em; text-align: right; border: none;\">\n",
              "        +1.027\n",
              "    </td>\n",
              "    <td style=\"padding: 0 0.5em 0 0.5em; text-align: left; border: none;\">\n",
              "        x0\n",
              "    </td>\n",
              "    \n",
              "</tr>\n",
              "        \n",
              "        \n",
              "\n",
              "        \n",
              "        \n",
              "            <tr style=\"background-color: hsl(0, 100.00%, 99.82%); border: none;\">\n",
              "    <td style=\"padding: 0 1em 0 0.5em; text-align: right; border: none;\">\n",
              "        -0.126\n",
              "    </td>\n",
              "    <td style=\"padding: 0 0.5em 0 0.5em; text-align: left; border: none;\">\n",
              "        x2\n",
              "    </td>\n",
              "    \n",
              "</tr>\n",
              "        \n",
              "            <tr style=\"background-color: hsl(0, 100.00%, 96.78%); border: none;\">\n",
              "    <td style=\"padding: 0 1em 0 0.5em; text-align: right; border: none;\">\n",
              "        -7.715\n",
              "    </td>\n",
              "    <td style=\"padding: 0 0.5em 0 0.5em; text-align: left; border: none;\">\n",
              "        x3\n",
              "    </td>\n",
              "    \n",
              "</tr>\n",
              "        \n",
              "\n",
              "        </tbody>\n",
              "    </table>\n",
              "\n",
              "            \n",
              "        \n",
              "\n",
              "        \n",
              "\n",
              "\n",
              "\n",
              "    \n",
              "\n",
              "    \n",
              "\n",
              "    \n",
              "\n",
              "    \n",
              "\n",
              "\n",
              "    \n",
              "\n",
              "    \n",
              "\n",
              "    \n",
              "\n",
              "    \n",
              "\n",
              "    \n",
              "\n",
              "    \n",
              "\n",
              "\n",
              "    \n",
              "\n",
              "    \n",
              "\n",
              "    \n",
              "\n",
              "    \n",
              "\n",
              "    \n",
              "\n",
              "    \n",
              "\n",
              "\n",
              "\n"
            ],
            "text/plain": [
              "<IPython.core.display.HTML object>"
            ]
          },
          "metadata": {
            "tags": []
          },
          "execution_count": 39
        }
      ]
    },
    {
      "cell_type": "code",
      "metadata": {
        "id": "6534MfNt5BYK"
      },
      "source": [
        "#class_number = len(df2.columns)\n",
        "#top_features = []\n",
        "#for i in range(class_number):\n",
        "#  class_features = [int(i[1:]) for i in eli5_weights[eli5_weights.target==i].feature if 'BIAS' not in i]\n",
        "#  len(class_features)\n",
        "#  top_features += class_features[:1000]"
      ],
      "execution_count": null,
      "outputs": []
    },
    {
      "cell_type": "code",
      "metadata": {
        "id": "IhbgNbPO5I-G"
      },
      "source": [
        "#reg_1.coef_.shape\n",
        "\n",
        "#top_features"
      ],
      "execution_count": null,
      "outputs": []
    },
    {
      "cell_type": "code",
      "metadata": {
        "id": "_AHTz_e95dsC"
      },
      "source": [
        "class_number = len(df2.columns)"
      ],
      "execution_count": null,
      "outputs": []
    },
    {
      "cell_type": "code",
      "metadata": {
        "id": "2u4zmT005V0k"
      },
      "source": [
        "#def analyze_features(model, n):\n",
        "#    classes ={}\n",
        "#    for class_index in range(class_number):\n",
        "#        word_weights = [(weight, index_to_word[i]) for i,weight in enumerate(model.coef_[class_index])]\n",
        "#        sorted_word_weights = sorted(word_weights, reverse=True)\n",
        "#        sorted_words = [word for weight,word in sorted_word_weights]\n",
        "#        classes[index_to_class[class_index]] = sorted_words[:n]\n",
        "#    return classes"
      ],
      "execution_count": null,
      "outputs": []
    },
    {
      "cell_type": "code",
      "metadata": {
        "id": "ekXVlIuV5ZnS"
      },
      "source": [
        "#analyze_features(reg_1, 10)"
      ],
      "execution_count": null,
      "outputs": []
    },
    {
      "cell_type": "code",
      "metadata": {
        "id": "U3R8DDlxzQw_"
      },
      "source": [
        "#from sklearn.neighbors import KNeighborsClassifier  \n",
        "\n",
        "#from sklearn.svm import SVC \n",
        "\n",
        "#from sklearn import svm\n",
        "\n",
        "#knn_model = KNeighborsClassifier(n_neighbors=5) \n",
        "#knn_model.fit(X_train, y_train)"
      ],
      "execution_count": null,
      "outputs": []
    },
    {
      "cell_type": "code",
      "metadata": {
        "id": "N8rtfMJAXQ57"
      },
      "source": [
        "#train_preds = model.predict(X_train)\n",
        "#test_preds = model.predict(X_test)"
      ],
      "execution_count": null,
      "outputs": []
    },
    {
      "cell_type": "code",
      "metadata": {
        "id": "Xw1pSZ_NyHLF"
      },
      "source": [
        "#train_preds_k = knn_model.predict(X_train)\n",
        "#test_preds_k = knn_model.predict(X_test)"
      ],
      "execution_count": null,
      "outputs": []
    },
    {
      "cell_type": "code",
      "metadata": {
        "id": "pqhYDrmEXQaZ"
      },
      "source": [
        "#print('result on train: {}'.format(f1_score(y_train, train_preds, average='micro')))\n",
        "#print('result on test: {}'.format(f1_score(y_test,test_preds, average='micro')))"
      ],
      "execution_count": null,
      "outputs": []
    },
    {
      "cell_type": "code",
      "metadata": {
        "id": "ywos_Adm4I5M"
      },
      "source": [
        "#eli5.show_weights(model, top=50)"
      ],
      "execution_count": null,
      "outputs": []
    },
    {
      "cell_type": "code",
      "metadata": {
        "id": "KJDYYi7V4I5R"
      },
      "source": [
        "#eli5_weights = eli5.formatters.as_dataframe.explain_weights_df(model)\n",
        "#eli5_weights[eli5_weights.target==1]"
      ],
      "execution_count": null,
      "outputs": []
    },
    {
      "cell_type": "code",
      "metadata": {
        "id": "vzEGJU2e4I5U"
      },
      "source": [
        "#class_number = len(para.columns)\n",
        "#top_features = []\n",
        "#for i in range(class_number):\n",
        "#  class_features = [int(i[1:]) for i in eli5_weights[eli5_weights.target==i].feature if 'BIAS' not in i]\n",
        "#  len(class_features)\n",
        "#  top_features += class_features[:1000]"
      ],
      "execution_count": null,
      "outputs": []
    },
    {
      "cell_type": "code",
      "metadata": {
        "id": "R9YnjqmaBWkh"
      },
      "source": [
        "#print('result on train: {}'.format(f1_score(y_train, train_preds_k, average='micro')))\n",
        "#print('result on test: {}'.format(f1_score(y_test,test_preds_k, average='micro')))"
      ],
      "execution_count": null,
      "outputs": []
    },
    {
      "cell_type": "code",
      "metadata": {
        "id": "czWuyqpH_mkN"
      },
      "source": [
        "#svc_model = svm.SVC() \n",
        "\n",
        "#svc_model.fit(X_train, y_train)"
      ],
      "execution_count": null,
      "outputs": []
    },
    {
      "cell_type": "code",
      "metadata": {
        "id": "v6_c_Zrc_mf1"
      },
      "source": [
        "#train_preds_svc = svc_model.predict(X_train)\n",
        "#test_preds_svc = svc_model.predict(X_test)"
      ],
      "execution_count": null,
      "outputs": []
    },
    {
      "cell_type": "code",
      "metadata": {
        "id": "QZ8cjdFCBNvU"
      },
      "source": [
        "#print('result on train: {}'.format(f1_score(y_train, train_preds_svc, average='micro')))\n",
        "#print('result on test: {}'.format(f1_score(y_test,test_preds_svc, average='micro')))"
      ],
      "execution_count": null,
      "outputs": []
    },
    {
      "cell_type": "code",
      "metadata": {
        "id": "g7kwumDhL_6D"
      },
      "source": [
        "count_claps = df.Claps.value_counts(normalize=True) # подсчёт по Claps"
      ],
      "execution_count": null,
      "outputs": []
    },
    {
      "cell_type": "code",
      "metadata": {
        "id": "7wkA0OVAMtZK"
      },
      "source": [
        "#len_tok = df.title_len_tokens.value_counts(\n",
        "#    normalize=True) # подсчёт по длине токенов заглавия"
      ],
      "execution_count": null,
      "outputs": []
    },
    {
      "cell_type": "code",
      "metadata": {
        "id": "jDYUk9iauLSN"
      },
      "source": [
        "#pymorphy2.\n",
        "#morph.parse(\"Котейка\")\n",
        "import gensim.downloader as api\n",
        "dataset = api.load(\"text8\")"
      ],
      "execution_count": null,
      "outputs": []
    },
    {
      "cell_type": "code",
      "metadata": {
        "colab": {
          "background_save": true
        },
        "id": "mrRKGcGsuLPd"
      },
      "source": [
        "#morph.parse(\"Cats\")\n",
        "from gensim.models.word2vec import Word2Vec\n",
        "\n",
        "from multiprocessing import cpu_count\n",
        "\n",
        "data = [d for d in dataset]\n",
        "\n",
        "model_en = Word2Vec(data[:1000], min_count = 0, workers=cpu_count())"
      ],
      "execution_count": null,
      "outputs": []
    },
    {
      "cell_type": "code",
      "metadata": {
        "colab": {
          "background_save": true
        },
        "id": "CC23SVqW4ztk"
      },
      "source": [
        "def augment_word2vec_en(sentence, model=model_en):\n",
        "    final_list = []\n",
        "    sentence = re.sub('[!@#$%^&*\\(\\)\\[\\]\\{\\}.,><?/-/\"]',' ',str(sentence))\n",
        "    for p in sentence.split():\n",
        "      p = p.lower()\n",
        "      if p in model:\n",
        "        model_list = []\n",
        "        for m in model.most_similar(p, topn=5):\n",
        "          model_list.append(m[0])\n",
        "        #print(p)\n",
        "        for ml in model_list:\n",
        "          if p != ml:\n",
        "            final_list.append(ml)\n",
        "            break\n",
        "          else:\n",
        "            continue\n",
        "      else:\n",
        "        final_list.append(p)\n",
        "    return ' '.join(final_list)\n",
        "    \n",
        "#augment_word2vec_en('Baby shark do do do do do')"
      ],
      "execution_count": null,
      "outputs": []
    },
    {
      "cell_type": "code",
      "metadata": {
        "colab": {
          "base_uri": "https://localhost:8080/"
        },
        "id": "9fMpwQl_Xvsd",
        "outputId": "4974aab7-b727-454b-e5e8-bd131f0263cf"
      },
      "source": [
        "word_vec_list = []\n",
        "for w in df2['Title']:\n",
        "  word_vec_list.append(augment_word2vec_en(w))\n",
        "\n",
        "df2['Title_Word2Vec'] = word_vec_list"
      ],
      "execution_count": null,
      "outputs": [
        {
          "output_type": "stream",
          "text": [
            "/usr/local/lib/python3.6/dist-packages/ipykernel_launcher.py:6: DeprecationWarning: Call to deprecated `__contains__` (Method will be removed in 4.0.0, use self.wv.__contains__() instead).\n",
            "  \n",
            "/usr/local/lib/python3.6/dist-packages/ipykernel_launcher.py:8: DeprecationWarning: Call to deprecated `most_similar` (Method will be removed in 4.0.0, use self.wv.most_similar() instead).\n",
            "  \n"
          ],
          "name": "stderr"
        }
      ]
    },
    {
      "cell_type": "code",
      "metadata": {
        "id": "NupeG3vP-es5"
      },
      "source": [
        "df2.head()"
      ],
      "execution_count": null,
      "outputs": []
    },
    {
      "cell_type": "markdown",
      "metadata": {
        "id": "O-P2VWBut5d6"
      },
      "source": [
        "# ЗАДАНИЕ 3"
      ]
    },
    {
      "cell_type": "code",
      "metadata": {
        "id": "lj9h-aWmdjpV"
      },
      "source": [
        "para = pd.read_csv(\"/content/paraphrases.tsv\", sep=\"\\t\")\n",
        "para.head()"
      ],
      "execution_count": null,
      "outputs": []
    },
    {
      "cell_type": "code",
      "metadata": {
        "id": "0AJG_41Z58bj"
      },
      "source": [
        "from nltk.tokenize import word_tokenize\r\n",
        "from nltk.tag import pos_tag\r\n",
        "from nltk.corpus import wordnet as wn"
      ],
      "execution_count": null,
      "outputs": []
    },
    {
      "cell_type": "code",
      "metadata": {
        "id": "lSYBtBvY58Qv"
      },
      "source": [
        "import nltk\r\n",
        "nltk.download('punkt')"
      ],
      "execution_count": null,
      "outputs": []
    },
    {
      "cell_type": "code",
      "metadata": {
        "id": "aaoZIVLkDkYR"
      },
      "source": [
        "nltk.download('averaged_perceptron_tagger')"
      ],
      "execution_count": null,
      "outputs": []
    },
    {
      "cell_type": "code",
      "metadata": {
        "id": "vfngA-Wq3Y0g"
      },
      "source": [
        "#from sklearn.feature_extraction.text import TfidfVectorizer\r\n",
        "\r\n",
        "#from tqdm import tqdm\r\n",
        "\r\n",
        "#new_train = para[]\r\n",
        "#new_test = para[]\r\n",
        "\r\n",
        "#count_vect = TfidfVectorizer()\r\n",
        "\r\n",
        "#X = para[['text_1', 'text_2']].values\r\n",
        "#y = para['class'].values\r\n",
        "\r\n",
        "#train, test = train_test_split(X, y, test_size=0.30, random_state=27)\r\n",
        "\r\n",
        "#train = np.concatenate((X_train,y_train),axis=1)\r\n",
        "\r\n",
        "#test = np.concatenate((X_test,y_test),axis=1)\r\n",
        "\r\n",
        "#fin_1 = []\r\n",
        "\r\n",
        "#for index in tqdm(X):\r\n",
        "  #print(index)\r\n",
        "#  t1 = row['text_1']\r\n",
        "#  t2 = row['text_2']\r\n",
        "#  st = str(t1) + ' ' + t2\r\n",
        "#  fin_1.append(st)\r\n",
        "\r\n",
        "\r\n",
        "#X_1 = count_vect.fit_transform(X_train)\r\n",
        "#X_2 = count_vect.transform(para['text_2'])\r\n",
        "#y = para['class'] "
      ],
      "execution_count": null,
      "outputs": []
    },
    {
      "cell_type": "code",
      "metadata": {
        "id": "uYOv8d1GRq3m"
      },
      "source": [
        "#X_train = np.concatenate((X_1.toarray(), X_2.toarray()), axis = 1)"
      ],
      "execution_count": null,
      "outputs": []
    },
    {
      "cell_type": "markdown",
      "metadata": {
        "id": "o4dnne4hiDCP"
      },
      "source": [
        "# 1) Рассматриваем только колонку \"text_1\" в качестве X."
      ]
    },
    {
      "cell_type": "code",
      "metadata": {
        "id": "atrbixXqdjz9"
      },
      "source": [
        "#train, test = train_test_split(para, test_size=0.3)"
      ],
      "execution_count": null,
      "outputs": []
    },
    {
      "cell_type": "code",
      "metadata": {
        "colab": {
          "base_uri": "https://localhost:8080/"
        },
        "id": "lZPgbAW2djvN",
        "outputId": "df49d8a2-dbb7-4cb7-9735-561aca2e2776"
      },
      "source": [
        "# Удаление NaN\n",
        "\n",
        "for col_name in para.columns:\n",
        "    num_nan_values = len(para[para[col_name].isna()])\n",
        "    print(\"Number of NaN values in %s column is %d\" % (col_name, num_nan_values))\n",
        "    if num_nan_values > 0:\n",
        "        para = para.dropna(subset=[col_name])\n",
        "\n",
        "print()\n",
        "print(\"Total number of rows is %d\" % para.shape[0])"
      ],
      "execution_count": null,
      "outputs": [
        {
          "output_type": "stream",
          "text": [
            "Number of NaN values in text_1 column is 0\n",
            "Number of NaN values in text_2 column is 0\n",
            "Number of NaN values in class column is 0\n",
            "\n",
            "Total number of rows is 8540\n"
          ],
          "name": "stdout"
        }
      ]
    },
    {
      "cell_type": "code",
      "metadata": {
        "colab": {
          "base_uri": "https://localhost:8080/"
        },
        "id": "rfbnpLbqdjgW",
        "outputId": "5e2db7ff-5886-4285-acf2-0dc33c0adea7"
      },
      "source": [
        "para[\"text_1\"].value_counts(normalize=True)"
      ],
      "execution_count": null,
      "outputs": [
        {
          "output_type": "execute_result",
          "data": {
            "text/plain": [
              "«Рубин» вышел в групповой этап Лиги Европы, где встретится с обладателем Кубка Англии.    0.003279\n",
              "Четыре человека погибли в Непале в результате землетрясения                               0.001874\n",
              "Число погибших в результате землетрясения в Непале возросло до 565                        0.001874\n",
              "Число погибших в Индии после землетрясения в Непале превысило 50                          0.001639\n",
              "СМИ: семь человек погибли в Индии после землетрясения в Непале                            0.001639\n",
              "                                                                                            ...   \n",
              "Выброс хлора под Пермью: число пострадавших достигло 30 человек.                          0.000234\n",
              "Минобороны объявило \"большую охоту\" на программистов.                                     0.000234\n",
              "Болельщики ЦСКА призвали к бойкоту финала Кубка России в Грозном.                         0.000234\n",
              "При столкновении автобуса и поезда в Канаде погибли 6 человек.                            0.000234\n",
              "РБКweekend: вечеринки, фестивали и концерты с 20 по 22 сентября.                          0.000234\n",
              "Name: text_1, Length: 3789, dtype: float64"
            ]
          },
          "metadata": {
            "tags": []
          },
          "execution_count": 114
        }
      ]
    },
    {
      "cell_type": "code",
      "metadata": {
        "colab": {
          "base_uri": "https://localhost:8080/"
        },
        "id": "ynOmmvUy_XMy",
        "outputId": "cc305bf2-b39a-487b-c67a-cebde3dcba82"
      },
      "source": [
        "para[\"text_2\"].value_counts(normalize=True)"
      ],
      "execution_count": null,
      "outputs": [
        {
          "output_type": "execute_result",
          "data": {
            "text/plain": [
              "\"Все вроде замечательно, но теперь стоит вопрос - а что будет после Игр?\"       0.017799\n",
              "Какой футбол им не нужен - Против чего бразильцы протестуют и за что болеют.    0.005386\n",
              "Завершилось голосование на выборах президента Казахстана                        0.003044\n",
              "Более 1,5 тысячи человек погибли в результате землетрясения в Непале            0.002810\n",
              "Число погибших от землетрясения в Непале превысило 1800                         0.002810\n",
              "                                                                                  ...   \n",
              "«ВКонтакте» попал в реестр запрещенных сайтов.                                  0.000234\n",
              "В Киеве задержали убийц журналиста                                              0.000234\n",
              "Горящий паром Norman Atlantic удалось взять на буксир                           0.000234\n",
              "Умерший при депортации из Лондона анголец был убит охранниками.                 0.000234\n",
              "Здания Минобороны на Камчатке отключены от тепла за долги.                      0.000234\n",
              "Name: text_2, Length: 3552, dtype: float64"
            ]
          },
          "metadata": {
            "tags": []
          },
          "execution_count": 116
        }
      ]
    },
    {
      "cell_type": "code",
      "metadata": {
        "colab": {
          "base_uri": "https://localhost:8080/"
        },
        "id": "62h8SnvNiM4i",
        "outputId": "bafc23c2-ccfa-4464-de64-05e86f1ff65d"
      },
      "source": [
        "# Пропорция уникальных авторов\n",
        "\n",
        "len(para[\"text_1\"].unique()) / para.shape[0]"
      ],
      "execution_count": null,
      "outputs": [
        {
          "output_type": "execute_result",
          "data": {
            "text/plain": [
              "0.4436768149882904"
            ]
          },
          "metadata": {
            "tags": []
          },
          "execution_count": 67
        }
      ]
    },
    {
      "cell_type": "code",
      "metadata": {
        "colab": {
          "base_uri": "https://localhost:8080/"
        },
        "id": "EFKY9EgLir0X",
        "outputId": "c58581ec-cd89-481b-d209-e50d82ae055e"
      },
      "source": [
        "# удаление дубликатов\n",
        "\n",
        "para = para.drop_duplicates(subset=[\"text_1\"])\n",
        "len(para[\"text_1\"].unique()) / para.shape[0]"
      ],
      "execution_count": null,
      "outputs": [
        {
          "output_type": "execute_result",
          "data": {
            "text/plain": [
              "1.0"
            ]
          },
          "metadata": {
            "tags": []
          },
          "execution_count": 68
        }
      ]
    },
    {
      "cell_type": "code",
      "metadata": {
        "colab": {
          "base_uri": "https://localhost:8080/"
        },
        "id": "peumVOyjirws",
        "outputId": "1482fa4e-ba04-44a4-bd81-d27cd1e3c57c"
      },
      "source": [
        "para[\"class\"].value_counts() # Распределение по классам"
      ],
      "execution_count": null,
      "outputs": [
        {
          "output_type": "execute_result",
          "data": {
            "text/plain": [
              "-1    2190\n",
              " 1    1599\n",
              "Name: class, dtype: int64"
            ]
          },
          "metadata": {
            "tags": []
          },
          "execution_count": 69
        }
      ]
    },
    {
      "cell_type": "code",
      "metadata": {
        "id": "STa07C_SiruY"
      },
      "source": [
        "para['text_1_len'] = para['text_1'].apply(len)\n",
        "para['text_1_len_tokens'] = para['text_1'].apply(lambda x: len(x.split()))"
      ],
      "execution_count": null,
      "outputs": []
    },
    {
      "cell_type": "code",
      "metadata": {
        "colab": {
          "base_uri": "https://localhost:8080/",
          "height": 198
        },
        "id": "gpHaf9lrirrw",
        "outputId": "e82b0405-2693-46d3-b2ca-027a9cc6558c"
      },
      "source": [
        "para.head()"
      ],
      "execution_count": null,
      "outputs": [
        {
          "output_type": "execute_result",
          "data": {
            "text/html": [
              "<div>\n",
              "<style scoped>\n",
              "    .dataframe tbody tr th:only-of-type {\n",
              "        vertical-align: middle;\n",
              "    }\n",
              "\n",
              "    .dataframe tbody tr th {\n",
              "        vertical-align: top;\n",
              "    }\n",
              "\n",
              "    .dataframe thead th {\n",
              "        text-align: right;\n",
              "    }\n",
              "</style>\n",
              "<table border=\"1\" class=\"dataframe\">\n",
              "  <thead>\n",
              "    <tr style=\"text-align: right;\">\n",
              "      <th></th>\n",
              "      <th>text_1</th>\n",
              "      <th>text_2</th>\n",
              "      <th>class</th>\n",
              "      <th>text_1_len</th>\n",
              "      <th>text_1_len_tokens</th>\n",
              "    </tr>\n",
              "  </thead>\n",
              "  <tbody>\n",
              "    <tr>\n",
              "      <th>0</th>\n",
              "      <td>Совет юстиции Бразилии легализовал однополые б...</td>\n",
              "      <td>Совет юстиции Бразилии разрешил однополые браки.</td>\n",
              "      <td>1</td>\n",
              "      <td>51</td>\n",
              "      <td>6</td>\n",
              "    </tr>\n",
              "    <tr>\n",
              "      <th>1</th>\n",
              "      <td>\"Магнит\" поручится перед \"Абсолют Банком\" за к...</td>\n",
              "      <td>Выпуск сигарет в России упал из-за антитабачно...</td>\n",
              "      <td>-1</td>\n",
              "      <td>68</td>\n",
              "      <td>11</td>\n",
              "    </tr>\n",
              "    <tr>\n",
              "      <th>2</th>\n",
              "      <td>ЕС призвал США не бомбить Сирию до публикации ...</td>\n",
              "      <td>Евросоюз призвал США дождаться доклада ООН по ...</td>\n",
              "      <td>-1</td>\n",
              "      <td>58</td>\n",
              "      <td>10</td>\n",
              "    </tr>\n",
              "    <tr>\n",
              "      <th>3</th>\n",
              "      <td>Депо Московского метрополитена впервые перейде...</td>\n",
              "      <td>Частной компании впервые отдадут депо в москов...</td>\n",
              "      <td>1</td>\n",
              "      <td>63</td>\n",
              "      <td>8</td>\n",
              "    </tr>\n",
              "    <tr>\n",
              "      <th>4</th>\n",
              "      <td>Два человека погибли в столкновениях между кур...</td>\n",
              "      <td>Один человек погиб при столкновении судов у бе...</td>\n",
              "      <td>-1</td>\n",
              "      <td>59</td>\n",
              "      <td>9</td>\n",
              "    </tr>\n",
              "  </tbody>\n",
              "</table>\n",
              "</div>"
            ],
            "text/plain": [
              "                                              text_1  ... text_1_len_tokens\n",
              "0  Совет юстиции Бразилии легализовал однополые б...  ...                 6\n",
              "1  \"Магнит\" поручится перед \"Абсолют Банком\" за к...  ...                11\n",
              "2  ЕС призвал США не бомбить Сирию до публикации ...  ...                10\n",
              "3  Депо Московского метрополитена впервые перейде...  ...                 8\n",
              "4  Два человека погибли в столкновениях между кур...  ...                 9\n",
              "\n",
              "[5 rows x 5 columns]"
            ]
          },
          "metadata": {
            "tags": []
          },
          "execution_count": 71
        }
      ]
    },
    {
      "cell_type": "markdown",
      "metadata": {
        "id": "PavVoe0gmafO"
      },
      "source": [
        "# Статистика по следующим показателям:\n",
        "## 1) Length of a title\n",
        "## 2) Length of a tokenized title"
      ]
    },
    {
      "cell_type": "code",
      "metadata": {
        "colab": {
          "base_uri": "https://localhost:8080/"
        },
        "id": "9_BCED2wmRbp",
        "outputId": "4b3bbefd-2936-4f39-f413-2c17dd5074ee"
      },
      "source": [
        "sent_num_subset = para[\"text_1_len\"]\n",
        "\n",
        "print(\"Standard deviation: %d\" % sent_num_subset.std())\n",
        "print(\"Median: %d\" % sent_num_subset.median())\n",
        "print(\"Min value: %d\" % sent_num_subset.min())\n",
        "print(\"Mean value: %d\" % sent_num_subset.mean())\n",
        "print(\"Max value: %d\" % sent_num_subset.max())"
      ],
      "execution_count": null,
      "outputs": [
        {
          "output_type": "stream",
          "text": [
            "Standard deviation: 10\n",
            "Median: 60\n",
            "Min value: 18\n",
            "Mean value: 58\n",
            "Max value: 116\n"
          ],
          "name": "stdout"
        }
      ]
    },
    {
      "cell_type": "code",
      "metadata": {
        "colab": {
          "base_uri": "https://localhost:8080/"
        },
        "id": "DoGDHxO9mRZU",
        "outputId": "1905a1e2-6e18-4255-c670-3e001d3ae1b7"
      },
      "source": [
        "sent_num_subset_2 = para[\"text_1_len_tokens\"]\n",
        "\n",
        "print(\"Standard deviation: %d\" % sent_num_subset_2.std())\n",
        "print(\"Median: %d\" % sent_num_subset_2.median())\n",
        "print(\"Min value: %d\" % sent_num_subset_2.min())\n",
        "print(\"Mean value: %d\" % sent_num_subset_2.mean())\n",
        "print(\"Max value: %d\" % sent_num_subset_2.max())"
      ],
      "execution_count": null,
      "outputs": [
        {
          "output_type": "stream",
          "text": [
            "Standard deviation: 1\n",
            "Median: 8\n",
            "Min value: 3\n",
            "Mean value: 8\n",
            "Max value: 17\n"
          ],
          "name": "stdout"
        }
      ]
    },
    {
      "cell_type": "code",
      "metadata": {
        "id": "sshxboojnW0x"
      },
      "source": [
        "X = para[['text_1_len', 'text_1_len_tokens']].values\n",
        "y = para['class'].values"
      ],
      "execution_count": null,
      "outputs": []
    },
    {
      "cell_type": "code",
      "metadata": {
        "colab": {
          "base_uri": "https://localhost:8080/"
        },
        "id": "Lb28MzzqnW01",
        "outputId": "8c37659d-bc06-4538-b6ca-ec66d26e217b"
      },
      "source": [
        "X.shape # размерность матрицы объектов-признаков"
      ],
      "execution_count": null,
      "outputs": [
        {
          "output_type": "execute_result",
          "data": {
            "text/plain": [
              "(3789, 2)"
            ]
          },
          "metadata": {
            "tags": []
          },
          "execution_count": 76
        }
      ]
    },
    {
      "cell_type": "code",
      "metadata": {
        "id": "ROLX3MY-nW06"
      },
      "source": [
        "X_train, X_test, y_train, y_test = train_test_split(X, y, random_state=64)"
      ],
      "execution_count": null,
      "outputs": []
    },
    {
      "cell_type": "code",
      "metadata": {
        "colab": {
          "base_uri": "https://localhost:8080/"
        },
        "id": "FEhmM2-dnW0o",
        "outputId": "5e51a6f2-4d1e-4104-8eb8-a156e4e16b73"
      },
      "source": [
        "#count_vect = CountVectorizer()\r\n",
        "reg__1 = LinearRegression().fit(X_train,y_train)\r\n",
        "#r_sq = reg.score(X, y)\r\n",
        "#print(r_sq)\r\n",
        "\r\n",
        "#reg_1.fit(X_train, y_train)\r\n",
        "x_pred__1 = reg__1.predict(X_test)\r\n",
        "\r\n",
        "mse__1 = mean_squared_error(y_test, x_pred__1)\r\n",
        "rmse__1 = np.sqrt(mse__1)\r\n",
        "\r\n",
        "print(mse__1)\r\n",
        "print()\r\n",
        "print(rmse__1)"
      ],
      "execution_count": null,
      "outputs": [
        {
          "output_type": "stream",
          "text": [
            "0.9738348562598954\n",
            "\n",
            "0.9868307130708364\n"
          ],
          "name": "stdout"
        }
      ]
    },
    {
      "cell_type": "code",
      "metadata": {
        "id": "wYM31xdsnW0-"
      },
      "source": [
        "random_prediction = np.random.rand(len(y_test))\n",
        "mse = mean_squared_error(y_test, random_prediction)\n",
        "rmse = np.sqrt(mean_squared_error(y_test, random_prediction))"
      ],
      "execution_count": null,
      "outputs": []
    },
    {
      "cell_type": "code",
      "metadata": {
        "colab": {
          "base_uri": "https://localhost:8080/",
          "height": 54
        },
        "id": "oqRx5356nW1D",
        "outputId": "45d9f9aa-cb30-4e36-da2c-04da0d00d64b"
      },
      "source": [
        "print(mse) # MSE\n",
        "print(rmse) # RMSE"
      ],
      "execution_count": null,
      "outputs": [
        {
          "output_type": "stream",
          "text": [
            "1.3928564905523089\n",
            "1.1801934123491407\n"
          ],
          "name": "stdout"
        }
      ]
    },
    {
      "cell_type": "code",
      "metadata": {
        "id": "AQkJK5t3oX9C"
      },
      "source": [
        "#model = linear_model.LogisticRegression()\n",
        "#model = model.fit(X_train, y_train)"
      ],
      "execution_count": null,
      "outputs": []
    },
    {
      "cell_type": "code",
      "metadata": {
        "colab": {
          "base_uri": "https://localhost:8080/",
          "height": 141
        },
        "id": "nwdP9l-y230F",
        "outputId": "36978415-f748-41db-e03a-4f6e56d97fc7"
      },
      "source": [
        "eli5.show_weights(model, top=50)"
      ],
      "execution_count": null,
      "outputs": [
        {
          "output_type": "execute_result",
          "data": {
            "text/html": [
              "\n",
              "    <style>\n",
              "    table.eli5-weights tr:hover {\n",
              "        filter: brightness(85%);\n",
              "    }\n",
              "</style>\n",
              "\n",
              "\n",
              "\n",
              "    \n",
              "\n",
              "    \n",
              "\n",
              "    \n",
              "\n",
              "    \n",
              "\n",
              "    \n",
              "\n",
              "    \n",
              "\n",
              "\n",
              "    \n",
              "\n",
              "    \n",
              "\n",
              "    \n",
              "\n",
              "    \n",
              "        \n",
              "\n",
              "    \n",
              "\n",
              "        \n",
              "            \n",
              "                \n",
              "                \n",
              "    \n",
              "        <p style=\"margin-bottom: 0.5em; margin-top: 0em\">\n",
              "            <b>\n",
              "    \n",
              "        y=1\n",
              "    \n",
              "</b>\n",
              "\n",
              "top features\n",
              "        </p>\n",
              "    \n",
              "    <table class=\"eli5-weights\"\n",
              "           style=\"border-collapse: collapse; border: none; margin-top: 0em; table-layout: auto; margin-bottom: 2em;\">\n",
              "        <thead>\n",
              "        <tr style=\"border: none;\">\n",
              "            \n",
              "                <th style=\"padding: 0 1em 0 0.5em; text-align: right; border: none;\" title=\"Feature weights. Note that weights do not account for feature value scales, so if feature values have different scales, features with highest weights might not be the most important.\">\n",
              "                    Weight<sup>?</sup>\n",
              "                </th>\n",
              "            \n",
              "            <th style=\"padding: 0 0.5em 0 0.5em; text-align: left; border: none;\">Feature</th>\n",
              "            \n",
              "        </tr>\n",
              "        </thead>\n",
              "        <tbody>\n",
              "        \n",
              "            <tr style=\"background-color: hsl(120, 100.00%, 80.00%); border: none;\">\n",
              "    <td style=\"padding: 0 1em 0 0.5em; text-align: right; border: none;\">\n",
              "        +1.511\n",
              "    </td>\n",
              "    <td style=\"padding: 0 0.5em 0 0.5em; text-align: left; border: none;\">\n",
              "        &lt;BIAS&gt;\n",
              "    </td>\n",
              "    \n",
              "</tr>\n",
              "        \n",
              "        \n",
              "\n",
              "        \n",
              "        \n",
              "            <tr style=\"background-color: hsl(0, 100.00%, 99.52%); border: none;\">\n",
              "    <td style=\"padding: 0 1em 0 0.5em; text-align: right; border: none;\">\n",
              "        -0.007\n",
              "    </td>\n",
              "    <td style=\"padding: 0 0.5em 0 0.5em; text-align: left; border: none;\">\n",
              "        x0\n",
              "    </td>\n",
              "    \n",
              "</tr>\n",
              "        \n",
              "            <tr style=\"background-color: hsl(0, 100.00%, 95.91%); border: none;\">\n",
              "    <td style=\"padding: 0 1em 0 0.5em; text-align: right; border: none;\">\n",
              "        -0.157\n",
              "    </td>\n",
              "    <td style=\"padding: 0 0.5em 0 0.5em; text-align: left; border: none;\">\n",
              "        x1\n",
              "    </td>\n",
              "    \n",
              "</tr>\n",
              "        \n",
              "\n",
              "        </tbody>\n",
              "    </table>\n",
              "\n",
              "            \n",
              "        \n",
              "\n",
              "        \n",
              "\n",
              "\n",
              "\n",
              "    \n",
              "\n",
              "    \n",
              "\n",
              "    \n",
              "\n",
              "    \n",
              "\n",
              "\n",
              "    \n",
              "\n",
              "    \n",
              "\n",
              "    \n",
              "\n",
              "    \n",
              "\n",
              "    \n",
              "\n",
              "    \n",
              "\n",
              "\n",
              "    \n",
              "\n",
              "    \n",
              "\n",
              "    \n",
              "\n",
              "    \n",
              "\n",
              "    \n",
              "\n",
              "    \n",
              "\n",
              "\n",
              "\n"
            ],
            "text/plain": [
              "<IPython.core.display.HTML object>"
            ]
          },
          "metadata": {
            "tags": []
          },
          "execution_count": 245
        }
      ]
    },
    {
      "cell_type": "code",
      "metadata": {
        "colab": {
          "base_uri": "https://localhost:8080/",
          "height": 138
        },
        "id": "RzBwceIN352J",
        "outputId": "8d898ef8-c121-4864-f56a-e67cafd93c01"
      },
      "source": [
        "eli5_weights = eli5.formatters.as_dataframe.explain_weights_df(model)\n",
        "eli5_weights[eli5_weights.target==1]"
      ],
      "execution_count": null,
      "outputs": [
        {
          "output_type": "execute_result",
          "data": {
            "text/html": [
              "<div>\n",
              "<style scoped>\n",
              "    .dataframe tbody tr th:only-of-type {\n",
              "        vertical-align: middle;\n",
              "    }\n",
              "\n",
              "    .dataframe tbody tr th {\n",
              "        vertical-align: top;\n",
              "    }\n",
              "\n",
              "    .dataframe thead th {\n",
              "        text-align: right;\n",
              "    }\n",
              "</style>\n",
              "<table border=\"1\" class=\"dataframe\">\n",
              "  <thead>\n",
              "    <tr style=\"text-align: right;\">\n",
              "      <th></th>\n",
              "      <th>target</th>\n",
              "      <th>feature</th>\n",
              "      <th>weight</th>\n",
              "    </tr>\n",
              "  </thead>\n",
              "  <tbody>\n",
              "    <tr>\n",
              "      <th>0</th>\n",
              "      <td>1</td>\n",
              "      <td>&lt;BIAS&gt;</td>\n",
              "      <td>1.511254</td>\n",
              "    </tr>\n",
              "    <tr>\n",
              "      <th>1</th>\n",
              "      <td>1</td>\n",
              "      <td>x0</td>\n",
              "      <td>-0.007243</td>\n",
              "    </tr>\n",
              "    <tr>\n",
              "      <th>2</th>\n",
              "      <td>1</td>\n",
              "      <td>x1</td>\n",
              "      <td>-0.156711</td>\n",
              "    </tr>\n",
              "  </tbody>\n",
              "</table>\n",
              "</div>"
            ],
            "text/plain": [
              "   target feature    weight\n",
              "0       1  <BIAS>  1.511254\n",
              "1       1      x0 -0.007243\n",
              "2       1      x1 -0.156711"
            ]
          },
          "metadata": {
            "tags": []
          },
          "execution_count": 246
        }
      ]
    },
    {
      "cell_type": "code",
      "metadata": {
        "id": "Srwz0Wqy352O"
      },
      "source": [
        "class_number = len(para.columns)\n",
        "top_features = []\n",
        "for i in range(class_number):\n",
        "  class_features = [int(i[1:]) for i in eli5_weights[eli5_weights.target==i].feature if 'BIAS' not in i]\n",
        "  len(class_features)\n",
        "  top_features += class_features[:1000]"
      ],
      "execution_count": null,
      "outputs": []
    },
    {
      "cell_type": "code",
      "metadata": {
        "colab": {
          "base_uri": "https://localhost:8080/",
          "height": 35
        },
        "id": "95TiVd4S4AU4",
        "outputId": "26053d3d-32a6-41a7-ac7d-0ffc51e8192a"
      },
      "source": [
        "top_features"
      ],
      "execution_count": null,
      "outputs": [
        {
          "output_type": "execute_result",
          "data": {
            "text/plain": [
              "[0, 1]"
            ]
          },
          "metadata": {
            "tags": []
          },
          "execution_count": 248
        }
      ]
    },
    {
      "cell_type": "code",
      "metadata": {
        "colab": {
          "base_uri": "https://localhost:8080/",
          "height": 72
        },
        "id": "LXKFvuguoMkE",
        "outputId": "4b9307a3-cfc1-4b2b-c417-20af7d4e9816"
      },
      "source": [
        "#from sklearn.neighbors import KNeighborsClassifier  \n",
        "#from sklearn.svm import SVC \n",
        "#from sklearn import svm\n",
        "\n",
        "knn_model = KNeighborsClassifier(n_neighbors=5) \n",
        "knn_model.fit(X_train, y_train)"
      ],
      "execution_count": null,
      "outputs": [
        {
          "output_type": "execute_result",
          "data": {
            "text/plain": [
              "KNeighborsClassifier(algorithm='auto', leaf_size=30, metric='minkowski',\n",
              "                     metric_params=None, n_jobs=None, n_neighbors=5, p=2,\n",
              "                     weights='uniform')"
            ]
          },
          "metadata": {
            "tags": []
          },
          "execution_count": 218
        }
      ]
    },
    {
      "cell_type": "code",
      "metadata": {
        "id": "T1UD7rE324I_"
      },
      "source": [
        "#eli5.show_weights(knn_model, top=30)"
      ],
      "execution_count": null,
      "outputs": []
    },
    {
      "cell_type": "code",
      "metadata": {
        "id": "XlQ3foHsoMkL"
      },
      "source": [
        "train_preds = model.predict(X_train)\n",
        "test_preds = model.predict(X_test)"
      ],
      "execution_count": null,
      "outputs": []
    },
    {
      "cell_type": "code",
      "metadata": {
        "id": "U8ufupe4oMkO"
      },
      "source": [
        "train_preds_k = knn_model.predict(X_train)\n",
        "test_preds_k = knn_model.predict(X_test)"
      ],
      "execution_count": null,
      "outputs": []
    },
    {
      "cell_type": "markdown",
      "metadata": {
        "id": "DqopXaG6oMkS"
      },
      "source": [
        "Стандартная модель:"
      ]
    },
    {
      "cell_type": "code",
      "metadata": {
        "colab": {
          "base_uri": "https://localhost:8080/",
          "height": 54
        },
        "id": "6dF6AzUnoMkT",
        "outputId": "03d143df-9e12-44f1-c5ba-7a0a15896166"
      },
      "source": [
        "print('result on train: {}'.format(f1_score(y_train, train_preds, average='micro')))\n",
        "print('result on test: {}'.format(f1_score(y_test,test_preds, average='micro')))"
      ],
      "execution_count": null,
      "outputs": [
        {
          "output_type": "stream",
          "text": [
            "result on train: 0.5625504439063761\n",
            "result on test: 0.5610640870616687\n"
          ],
          "name": "stdout"
        }
      ]
    },
    {
      "cell_type": "markdown",
      "metadata": {
        "id": "KwslYUVaoMkY"
      },
      "source": [
        "Модель на методе К-средних:"
      ]
    },
    {
      "cell_type": "code",
      "metadata": {
        "colab": {
          "base_uri": "https://localhost:8080/",
          "height": 54
        },
        "id": "v-TW1-JFoMkZ",
        "outputId": "3ee4078c-531f-4189-e52f-a385cc778463"
      },
      "source": [
        "print('result on train: {}'.format(f1_score(y_train, train_preds_k, average='micro')))\n",
        "print('result on test: {}'.format(f1_score(y_test,test_preds_k, average='micro')))"
      ],
      "execution_count": null,
      "outputs": [
        {
          "output_type": "stream",
          "text": [
            "result on train: 0.5932203389830508\n",
            "result on test: 0.5175332527206772\n"
          ],
          "name": "stdout"
        }
      ]
    },
    {
      "cell_type": "markdown",
      "metadata": {
        "id": "CdfGIFiboMkc"
      },
      "source": [
        "Модель на методе SVC:"
      ]
    },
    {
      "cell_type": "code",
      "metadata": {
        "colab": {
          "base_uri": "https://localhost:8080/",
          "height": 90
        },
        "id": "fqjNQzW0oMkd",
        "outputId": "0125e07f-324e-4bf8-83bc-64ae42e3aa0e"
      },
      "source": [
        "svc_model = svm.SVC() \n",
        "\n",
        "svc_model.fit(X_train, y_train)"
      ],
      "execution_count": null,
      "outputs": [
        {
          "output_type": "execute_result",
          "data": {
            "text/plain": [
              "SVC(C=1.0, break_ties=False, cache_size=200, class_weight=None, coef0=0.0,\n",
              "    decision_function_shape='ovr', degree=3, gamma='scale', kernel='rbf',\n",
              "    max_iter=-1, probability=False, random_state=None, shrinking=True,\n",
              "    tol=0.001, verbose=False)"
            ]
          },
          "metadata": {
            "tags": []
          },
          "execution_count": 163
        }
      ]
    },
    {
      "cell_type": "code",
      "metadata": {
        "id": "NqBWgX2WoMkg"
      },
      "source": [
        "train_preds_svc = svc_model.predict(X_train)\n",
        "test_preds_svc = svc_model.predict(X_test)"
      ],
      "execution_count": null,
      "outputs": []
    },
    {
      "cell_type": "code",
      "metadata": {
        "colab": {
          "base_uri": "https://localhost:8080/",
          "height": 54
        },
        "id": "X1bbEHU2oMkk",
        "outputId": "6843ccbd-c0b1-40b8-a67c-dd2a34889e4b"
      },
      "source": [
        "print('result on train: {}'.format(f1_score(y_train, train_preds_svc, average='micro')))\n",
        "print('result on test: {}'.format(f1_score(y_test,test_preds_svc, average='micro')))"
      ],
      "execution_count": null,
      "outputs": [
        {
          "output_type": "stream",
          "text": [
            "result on train: 0.5669895076674738\n",
            "result on test: 0.5477629987908101\n"
          ],
          "name": "stdout"
        }
      ]
    },
    {
      "cell_type": "markdown",
      "metadata": {
        "id": "sQXChfn9oMkn"
      },
      "source": [
        "Лучшей моделью в данном случае можно считать стандартную модель, поскольку предсказание на тестовой выборке у неё является наиболее точным."
      ]
    },
    {
      "cell_type": "code",
      "metadata": {
        "id": "f8SXpcMcpBL-"
      },
      "source": [
        "len_text = para.text_1_len.value_counts(\n",
        "    normalize=True) # подсчёт по длине текста"
      ],
      "execution_count": null,
      "outputs": []
    },
    {
      "cell_type": "code",
      "metadata": {
        "id": "nTdKk4gppTPo"
      },
      "source": [
        "# len_text"
      ],
      "execution_count": null,
      "outputs": []
    },
    {
      "cell_type": "code",
      "metadata": {
        "id": "8PBLTVloo1yG"
      },
      "source": [
        "len_tok = para.text_1_len_tokens.value_counts(\n",
        "    normalize=True) # подсчёт по токенам"
      ],
      "execution_count": null,
      "outputs": []
    },
    {
      "cell_type": "code",
      "metadata": {
        "id": "uYZxqTS3mRWg"
      },
      "source": [
        "# len_tok"
      ],
      "execution_count": null,
      "outputs": []
    },
    {
      "cell_type": "code",
      "metadata": {
        "id": "HAnOaRIWpipE"
      },
      "source": [
        "word_vec_list = []\n",
        "for i, row in para.iterrows():\n",
        "  word_vec_list.append(augment_word2vec(row['text_1']))"
      ],
      "execution_count": null,
      "outputs": []
    },
    {
      "cell_type": "code",
      "metadata": {
        "id": "GMi7_HeFp0zr"
      },
      "source": [
        "para['text_1_Word2Vec'] = word_vec_list"
      ],
      "execution_count": null,
      "outputs": []
    },
    {
      "cell_type": "code",
      "metadata": {
        "colab": {
          "base_uri": "https://localhost:8080/",
          "height": 302
        },
        "id": "LLMiVzRpre8W",
        "outputId": "00cd3465-b43d-4067-e81a-ab5de4036418"
      },
      "source": [
        "para.head()"
      ],
      "execution_count": null,
      "outputs": [
        {
          "output_type": "execute_result",
          "data": {
            "text/html": [
              "<div>\n",
              "<style scoped>\n",
              "    .dataframe tbody tr th:only-of-type {\n",
              "        vertical-align: middle;\n",
              "    }\n",
              "\n",
              "    .dataframe tbody tr th {\n",
              "        vertical-align: top;\n",
              "    }\n",
              "\n",
              "    .dataframe thead th {\n",
              "        text-align: right;\n",
              "    }\n",
              "</style>\n",
              "<table border=\"1\" class=\"dataframe\">\n",
              "  <thead>\n",
              "    <tr style=\"text-align: right;\">\n",
              "      <th></th>\n",
              "      <th>text_1</th>\n",
              "      <th>text_2</th>\n",
              "      <th>class</th>\n",
              "      <th>text_1_len</th>\n",
              "      <th>text_1_len_tokens</th>\n",
              "      <th>text_1_Word2Vec</th>\n",
              "    </tr>\n",
              "  </thead>\n",
              "  <tbody>\n",
              "    <tr>\n",
              "      <th>0</th>\n",
              "      <td>Совет юстиции Бразилии легализовал однополые б...</td>\n",
              "      <td>Совет юстиции Бразилии разрешил однополые браки.</td>\n",
              "      <td>1</td>\n",
              "      <td>51</td>\n",
              "      <td>6</td>\n",
              "      <td>комитет финансы 7:6 узаконивать лесбийский браки.</td>\n",
              "    </tr>\n",
              "    <tr>\n",
              "      <th>1</th>\n",
              "      <td>\"Магнит\" поручится перед \"Абсолют Банком\" за к...</td>\n",
              "      <td>Выпуск сигарет в России упал из-за антитабачно...</td>\n",
              "      <td>-1</td>\n",
              "      <td>68</td>\n",
              "      <td>11</td>\n",
              "      <td>\"магнит\" ручаться перед \"абсолют банком\" за сс...</td>\n",
              "    </tr>\n",
              "    <tr>\n",
              "      <th>2</th>\n",
              "      <td>ЕС призвал США не бомбить Сирию до публикации ...</td>\n",
              "      <td>Евросоюз призвал США дождаться доклада ООН по ...</td>\n",
              "      <td>-1</td>\n",
              "      <td>58</td>\n",
              "      <td>10</td>\n",
              "      <td>вто призывать америка не бомбить сирия до изда...</td>\n",
              "    </tr>\n",
              "    <tr>\n",
              "      <th>3</th>\n",
              "      <td>Депо Московского метрополитена впервые перейде...</td>\n",
              "      <td>Частной компании впервые отдадут депо в москов...</td>\n",
              "      <td>1</td>\n",
              "      <td>63</td>\n",
              "      <td>8</td>\n",
              "      <td>деповский нижегородский подземка воочию перехо...</td>\n",
              "    </tr>\n",
              "    <tr>\n",
              "      <th>4</th>\n",
              "      <td>Два человека погибли в столкновениях между кур...</td>\n",
              "      <td>Один человек погиб при столкновении судов у бе...</td>\n",
              "      <td>-1</td>\n",
              "      <td>59</td>\n",
              "      <td>9</td>\n",
              "      <td>три человеческий погибать в конфликт между кур...</td>\n",
              "    </tr>\n",
              "  </tbody>\n",
              "</table>\n",
              "</div>"
            ],
            "text/plain": [
              "                                              text_1  ...                                    text_1_Word2Vec\n",
              "0  Совет юстиции Бразилии легализовал однополые б...  ...  комитет финансы 7:6 узаконивать лесбийский браки.\n",
              "1  \"Магнит\" поручится перед \"Абсолют Банком\" за к...  ...  \"магнит\" ручаться перед \"абсолют банком\" за сс...\n",
              "2  ЕС призвал США не бомбить Сирию до публикации ...  ...  вто призывать америка не бомбить сирия до изда...\n",
              "3  Депо Московского метрополитена впервые перейде...  ...  деповский нижегородский подземка воочию перехо...\n",
              "4  Два человека погибли в столкновениях между кур...  ...  три человеческий погибать в конфликт между кур...\n",
              "\n",
              "[5 rows x 6 columns]"
            ]
          },
          "metadata": {
            "tags": []
          },
          "execution_count": 138
        }
      ]
    },
    {
      "cell_type": "markdown",
      "metadata": {
        "id": "15f8PHbZrspQ"
      },
      "source": [
        ""
      ]
    },
    {
      "cell_type": "markdown",
      "metadata": {
        "id": "yx43oE_bsFaR"
      },
      "source": [
        "# 2) Рассматриваем только колонку \"text_2\" в качестве X."
      ]
    },
    {
      "cell_type": "code",
      "metadata": {
        "colab": {
          "base_uri": "https://localhost:8080/",
          "height": 235
        },
        "id": "bp6YFIdIsFam",
        "outputId": "27eb574d-069c-404a-d9fb-3426b935513e"
      },
      "source": [
        "para[\"text_2\"].value_counts(normalize=True)"
      ],
      "execution_count": null,
      "outputs": [
        {
          "output_type": "execute_result",
          "data": {
            "text/plain": [
              "Перу влетело в $500 млн.                                                  0.000303\n",
              "В Йемене взорвали ключевой нефтепровод.                                   0.000303\n",
              "На бывшего мэра Лермонтова завели дело о воспрепятствовании выборам.      0.000303\n",
              "Египет заявил, что спутник EgyptSat-2 находится под полным контролем      0.000303\n",
              "Израиль освободил более 100 палестинских заключенных.                     0.000303\n",
              "                                                                            ...   \n",
              "PayPal получила лицензию Банка России.                                    0.000303\n",
              "В Рузе открыли памятник Зое Космодемьянской работы Церетели.              0.000303\n",
              "В ДНР потребовали от ЕС объяснить поставки оружия Украине                 0.000303\n",
              "В Армении начались выборы президента.                                     0.000303\n",
              "В связи с нападением на машину главы «Росбалта» завели уголовное дело.    0.000303\n",
              "Name: text_2, Length: 3305, dtype: float64"
            ]
          },
          "metadata": {
            "tags": []
          },
          "execution_count": 168
        }
      ]
    },
    {
      "cell_type": "code",
      "metadata": {
        "colab": {
          "base_uri": "https://localhost:8080/",
          "height": 35
        },
        "id": "bUZTw8F2sFap",
        "outputId": "1d3fae9d-6c48-4e57-8377-716957084d49"
      },
      "source": [
        "# Пропорция уникальных авторов\n",
        "\n",
        "len(para[\"text_2\"].unique()) / para.shape[0]"
      ],
      "execution_count": null,
      "outputs": [
        {
          "output_type": "execute_result",
          "data": {
            "text/plain": [
              "1.0"
            ]
          },
          "metadata": {
            "tags": []
          },
          "execution_count": 169
        }
      ]
    },
    {
      "cell_type": "code",
      "metadata": {
        "colab": {
          "base_uri": "https://localhost:8080/",
          "height": 35
        },
        "id": "xlQJPBeNsFat",
        "outputId": "493459df-9cd6-4a5d-bad2-d2597dc2d59a"
      },
      "source": [
        "# удаление дубликатов\n",
        "\n",
        "para = para.drop_duplicates(subset=[\"text_2\"])\n",
        "len(para[\"text_2\"].unique()) / para.shape[0]"
      ],
      "execution_count": null,
      "outputs": [
        {
          "output_type": "execute_result",
          "data": {
            "text/plain": [
              "1.0"
            ]
          },
          "metadata": {
            "tags": []
          },
          "execution_count": 170
        }
      ]
    },
    {
      "cell_type": "code",
      "metadata": {
        "id": "E7QJhGPCsFaz"
      },
      "source": [
        "para['text_2_len'] = para['text_2'].apply(len)\n",
        "para['text_2_len_tokens'] = para['text_2'].apply(lambda x: len(x.split()))"
      ],
      "execution_count": null,
      "outputs": []
    },
    {
      "cell_type": "code",
      "metadata": {
        "colab": {
          "base_uri": "https://localhost:8080/",
          "height": 388
        },
        "id": "TUql3sCQsFa2",
        "outputId": "4f2b7305-305c-4368-dafb-aaade7d32529"
      },
      "source": [
        "para.head()"
      ],
      "execution_count": null,
      "outputs": [
        {
          "output_type": "execute_result",
          "data": {
            "text/html": [
              "<div>\n",
              "<style scoped>\n",
              "    .dataframe tbody tr th:only-of-type {\n",
              "        vertical-align: middle;\n",
              "    }\n",
              "\n",
              "    .dataframe tbody tr th {\n",
              "        vertical-align: top;\n",
              "    }\n",
              "\n",
              "    .dataframe thead th {\n",
              "        text-align: right;\n",
              "    }\n",
              "</style>\n",
              "<table border=\"1\" class=\"dataframe\">\n",
              "  <thead>\n",
              "    <tr style=\"text-align: right;\">\n",
              "      <th></th>\n",
              "      <th>text_1</th>\n",
              "      <th>text_2</th>\n",
              "      <th>class</th>\n",
              "      <th>text_1_len</th>\n",
              "      <th>text_1_len_tokens</th>\n",
              "      <th>text_1_Word2Vec</th>\n",
              "      <th>text_2_len</th>\n",
              "      <th>text_2_len_tokens</th>\n",
              "    </tr>\n",
              "  </thead>\n",
              "  <tbody>\n",
              "    <tr>\n",
              "      <th>0</th>\n",
              "      <td>Совет юстиции Бразилии легализовал однополые б...</td>\n",
              "      <td>Совет юстиции Бразилии разрешил однополые браки.</td>\n",
              "      <td>1</td>\n",
              "      <td>51</td>\n",
              "      <td>6</td>\n",
              "      <td>комитет финансы 7:6 узаконивать лесбийский браки.</td>\n",
              "      <td>48</td>\n",
              "      <td>6</td>\n",
              "    </tr>\n",
              "    <tr>\n",
              "      <th>1</th>\n",
              "      <td>\"Магнит\" поручится перед \"Абсолют Банком\" за к...</td>\n",
              "      <td>Выпуск сигарет в России упал из-за антитабачно...</td>\n",
              "      <td>-1</td>\n",
              "      <td>68</td>\n",
              "      <td>11</td>\n",
              "      <td>\"магнит\" ручаться перед \"абсолют банком\" за сс...</td>\n",
              "      <td>56</td>\n",
              "      <td>8</td>\n",
              "    </tr>\n",
              "    <tr>\n",
              "      <th>2</th>\n",
              "      <td>ЕС призвал США не бомбить Сирию до публикации ...</td>\n",
              "      <td>Евросоюз призвал США дождаться доклада ООН по ...</td>\n",
              "      <td>-1</td>\n",
              "      <td>58</td>\n",
              "      <td>10</td>\n",
              "      <td>вто призывать америка не бомбить сирия до изда...</td>\n",
              "      <td>52</td>\n",
              "      <td>8</td>\n",
              "    </tr>\n",
              "    <tr>\n",
              "      <th>3</th>\n",
              "      <td>Депо Московского метрополитена впервые перейде...</td>\n",
              "      <td>Частной компании впервые отдадут депо в москов...</td>\n",
              "      <td>1</td>\n",
              "      <td>63</td>\n",
              "      <td>8</td>\n",
              "      <td>деповский нижегородский подземка воочию перехо...</td>\n",
              "      <td>57</td>\n",
              "      <td>8</td>\n",
              "    </tr>\n",
              "    <tr>\n",
              "      <th>4</th>\n",
              "      <td>Два человека погибли в столкновениях между кур...</td>\n",
              "      <td>Один человек погиб при столкновении судов у бе...</td>\n",
              "      <td>-1</td>\n",
              "      <td>59</td>\n",
              "      <td>9</td>\n",
              "      <td>три человеческий погибать в конфликт между кур...</td>\n",
              "      <td>58</td>\n",
              "      <td>9</td>\n",
              "    </tr>\n",
              "  </tbody>\n",
              "</table>\n",
              "</div>"
            ],
            "text/plain": [
              "                                              text_1  ... text_2_len_tokens\n",
              "0  Совет юстиции Бразилии легализовал однополые б...  ...                 6\n",
              "1  \"Магнит\" поручится перед \"Абсолют Банком\" за к...  ...                 8\n",
              "2  ЕС призвал США не бомбить Сирию до публикации ...  ...                 8\n",
              "3  Депо Московского метрополитена впервые перейде...  ...                 8\n",
              "4  Два человека погибли в столкновениях между кур...  ...                 9\n",
              "\n",
              "[5 rows x 8 columns]"
            ]
          },
          "metadata": {
            "tags": []
          },
          "execution_count": 172
        }
      ]
    },
    {
      "cell_type": "markdown",
      "metadata": {
        "id": "6c8kzsoBsFa4"
      },
      "source": [
        "# Статистика по следующим показателям:\n",
        "## 1) Length of a title\n",
        "## 2) Length of a tokenized title"
      ]
    },
    {
      "cell_type": "code",
      "metadata": {
        "colab": {
          "base_uri": "https://localhost:8080/",
          "height": 108
        },
        "id": "85uI7OexsFa5",
        "outputId": "20edab3d-bd6f-463f-e834-075dee1c0af8"
      },
      "source": [
        "sent_num_subset = para[\"text_2_len\"]\n",
        "\n",
        "print(\"Standard deviation: %d\" % sent_num_subset.std())\n",
        "print(\"Median: %d\" % sent_num_subset.median())\n",
        "print(\"Min value: %d\" % sent_num_subset.min())\n",
        "print(\"Mean value: %d\" % sent_num_subset.mean())\n",
        "print(\"Max value: %d\" % sent_num_subset.max())"
      ],
      "execution_count": null,
      "outputs": [
        {
          "output_type": "stream",
          "text": [
            "Standard deviation: 13\n",
            "Median: 55\n",
            "Min value: 10\n",
            "Mean value: 54\n",
            "Max value: 158\n"
          ],
          "name": "stdout"
        }
      ]
    },
    {
      "cell_type": "code",
      "metadata": {
        "colab": {
          "base_uri": "https://localhost:8080/",
          "height": 108
        },
        "id": "BgZ3G5rfsFa9",
        "outputId": "be2d1a81-acbe-4d10-c37d-9a0a98e3bda2"
      },
      "source": [
        "sent_num_subset_2 = para[\"text_2_len_tokens\"]\n",
        "\n",
        "print(\"Standard deviation: %d\" % sent_num_subset_2.std())\n",
        "print(\"Median: %d\" % sent_num_subset_2.median())\n",
        "print(\"Min value: %d\" % sent_num_subset_2.min())\n",
        "print(\"Mean value: %d\" % sent_num_subset_2.mean())\n",
        "print(\"Max value: %d\" % sent_num_subset_2.max())"
      ],
      "execution_count": null,
      "outputs": [
        {
          "output_type": "stream",
          "text": [
            "Standard deviation: 2\n",
            "Median: 7\n",
            "Min value: 2\n",
            "Mean value: 7\n",
            "Max value: 22\n"
          ],
          "name": "stdout"
        }
      ]
    },
    {
      "cell_type": "code",
      "metadata": {
        "id": "nnkORnmFsFbC"
      },
      "source": [
        "X = para[['text_2_len', 'text_2_len_tokens']].values\n",
        "y = para['class'].values"
      ],
      "execution_count": null,
      "outputs": []
    },
    {
      "cell_type": "code",
      "metadata": {
        "id": "SLEXD0RNuw53"
      },
      "source": [
        "#len(para['text_1_len'])"
      ],
      "execution_count": null,
      "outputs": []
    },
    {
      "cell_type": "code",
      "metadata": {
        "id": "V6ddlxf7u0Dn"
      },
      "source": [
        "#len(para['text_2_len'])"
      ],
      "execution_count": null,
      "outputs": []
    },
    {
      "cell_type": "code",
      "metadata": {
        "colab": {
          "base_uri": "https://localhost:8080/",
          "height": 35
        },
        "id": "02XmbynvsFbF",
        "outputId": "70b87e7d-6a3a-406c-bf33-fdff81e77db9"
      },
      "source": [
        "X.shape # размерность матрицы объектов-признаков"
      ],
      "execution_count": null,
      "outputs": [
        {
          "output_type": "execute_result",
          "data": {
            "text/plain": [
              "(3305, 2)"
            ]
          },
          "metadata": {
            "tags": []
          },
          "execution_count": 224
        }
      ]
    },
    {
      "cell_type": "code",
      "metadata": {
        "id": "W-MWIlrAsFbI"
      },
      "source": [
        "X_train, X_test, y_train, y_test = train_test_split(X, y, random_state=87)"
      ],
      "execution_count": null,
      "outputs": []
    },
    {
      "cell_type": "code",
      "metadata": {
        "id": "s8iXW1R5sFbL"
      },
      "source": [
        "random_prediction = np.random.rand(len(y_test))\n",
        "mse = mean_squared_error(y_test, random_prediction)\n",
        "rmse = np.sqrt(mean_squared_error(y_test, random_prediction))"
      ],
      "execution_count": null,
      "outputs": []
    },
    {
      "cell_type": "code",
      "metadata": {
        "colab": {
          "base_uri": "https://localhost:8080/",
          "height": 54
        },
        "id": "HuEp5Vc2sFbO",
        "outputId": "11883f17-98d4-44e3-f9dd-9c153584b25e"
      },
      "source": [
        "print(mse) # MSE\n",
        "print(rmse) # RMSE"
      ],
      "execution_count": null,
      "outputs": [
        {
          "output_type": "stream",
          "text": [
            "1.464095758512947\n",
            "1.2099982473181303\n"
          ],
          "name": "stdout"
        }
      ]
    },
    {
      "cell_type": "code",
      "metadata": {
        "id": "qxfZjNEzsFbS"
      },
      "source": [
        "model = linear_model.LogisticRegression()\n",
        "model = model.fit(X_train, y_train)"
      ],
      "execution_count": null,
      "outputs": []
    },
    {
      "cell_type": "code",
      "metadata": {
        "colab": {
          "base_uri": "https://localhost:8080/",
          "height": 141
        },
        "id": "aStQN0oq2GBI",
        "outputId": "0cc13e84-7f98-4005-dac0-08e36029b82f"
      },
      "source": [
        "eli5.show_weights(model, top=50)"
      ],
      "execution_count": null,
      "outputs": [
        {
          "output_type": "execute_result",
          "data": {
            "text/html": [
              "\n",
              "    <style>\n",
              "    table.eli5-weights tr:hover {\n",
              "        filter: brightness(85%);\n",
              "    }\n",
              "</style>\n",
              "\n",
              "\n",
              "\n",
              "    \n",
              "\n",
              "    \n",
              "\n",
              "    \n",
              "\n",
              "    \n",
              "\n",
              "    \n",
              "\n",
              "    \n",
              "\n",
              "\n",
              "    \n",
              "\n",
              "    \n",
              "\n",
              "    \n",
              "\n",
              "    \n",
              "        \n",
              "\n",
              "    \n",
              "\n",
              "        \n",
              "            \n",
              "                \n",
              "                \n",
              "    \n",
              "        <p style=\"margin-bottom: 0.5em; margin-top: 0em\">\n",
              "            <b>\n",
              "    \n",
              "        y=1\n",
              "    \n",
              "</b>\n",
              "\n",
              "top features\n",
              "        </p>\n",
              "    \n",
              "    <table class=\"eli5-weights\"\n",
              "           style=\"border-collapse: collapse; border: none; margin-top: 0em; table-layout: auto; margin-bottom: 2em;\">\n",
              "        <thead>\n",
              "        <tr style=\"border: none;\">\n",
              "            \n",
              "                <th style=\"padding: 0 1em 0 0.5em; text-align: right; border: none;\" title=\"Feature weights. Note that weights do not account for feature value scales, so if feature values have different scales, features with highest weights might not be the most important.\">\n",
              "                    Weight<sup>?</sup>\n",
              "                </th>\n",
              "            \n",
              "            <th style=\"padding: 0 0.5em 0 0.5em; text-align: left; border: none;\">Feature</th>\n",
              "            \n",
              "        </tr>\n",
              "        </thead>\n",
              "        <tbody>\n",
              "        \n",
              "            <tr style=\"background-color: hsl(120, 100.00%, 96.98%); border: none;\">\n",
              "    <td style=\"padding: 0 1em 0 0.5em; text-align: right; border: none;\">\n",
              "        +0.026\n",
              "    </td>\n",
              "    <td style=\"padding: 0 0.5em 0 0.5em; text-align: left; border: none;\">\n",
              "        x0\n",
              "    </td>\n",
              "    \n",
              "</tr>\n",
              "        \n",
              "        \n",
              "\n",
              "        \n",
              "        \n",
              "            <tr style=\"background-color: hsl(0, 100.00%, 89.42%); border: none;\">\n",
              "    <td style=\"padding: 0 1em 0 0.5em; text-align: right; border: none;\">\n",
              "        -0.158\n",
              "    </td>\n",
              "    <td style=\"padding: 0 0.5em 0 0.5em; text-align: left; border: none;\">\n",
              "        x1\n",
              "    </td>\n",
              "    \n",
              "</tr>\n",
              "        \n",
              "            <tr style=\"background-color: hsl(0, 100.00%, 80.00%); border: none;\">\n",
              "    <td style=\"padding: 0 1em 0 0.5em; text-align: right; border: none;\">\n",
              "        -0.391\n",
              "    </td>\n",
              "    <td style=\"padding: 0 0.5em 0 0.5em; text-align: left; border: none;\">\n",
              "        &lt;BIAS&gt;\n",
              "    </td>\n",
              "    \n",
              "</tr>\n",
              "        \n",
              "\n",
              "        </tbody>\n",
              "    </table>\n",
              "\n",
              "            \n",
              "        \n",
              "\n",
              "        \n",
              "\n",
              "\n",
              "\n",
              "    \n",
              "\n",
              "    \n",
              "\n",
              "    \n",
              "\n",
              "    \n",
              "\n",
              "\n",
              "    \n",
              "\n",
              "    \n",
              "\n",
              "    \n",
              "\n",
              "    \n",
              "\n",
              "    \n",
              "\n",
              "    \n",
              "\n",
              "\n",
              "    \n",
              "\n",
              "    \n",
              "\n",
              "    \n",
              "\n",
              "    \n",
              "\n",
              "    \n",
              "\n",
              "    \n",
              "\n",
              "\n",
              "\n"
            ],
            "text/plain": [
              "<IPython.core.display.HTML object>"
            ]
          },
          "metadata": {
            "tags": []
          },
          "execution_count": 229
        }
      ]
    },
    {
      "cell_type": "code",
      "metadata": {
        "colab": {
          "base_uri": "https://localhost:8080/",
          "height": 138
        },
        "id": "oEP8CY7o3N2P",
        "outputId": "919486c2-339d-4543-981b-fc85bf5d855c"
      },
      "source": [
        "eli5_weights = eli5.formatters.as_dataframe.explain_weights_df(model)\n",
        "eli5_weights[eli5_weights.target==1]"
      ],
      "execution_count": null,
      "outputs": [
        {
          "output_type": "execute_result",
          "data": {
            "text/html": [
              "<div>\n",
              "<style scoped>\n",
              "    .dataframe tbody tr th:only-of-type {\n",
              "        vertical-align: middle;\n",
              "    }\n",
              "\n",
              "    .dataframe tbody tr th {\n",
              "        vertical-align: top;\n",
              "    }\n",
              "\n",
              "    .dataframe thead th {\n",
              "        text-align: right;\n",
              "    }\n",
              "</style>\n",
              "<table border=\"1\" class=\"dataframe\">\n",
              "  <thead>\n",
              "    <tr style=\"text-align: right;\">\n",
              "      <th></th>\n",
              "      <th>target</th>\n",
              "      <th>feature</th>\n",
              "      <th>weight</th>\n",
              "    </tr>\n",
              "  </thead>\n",
              "  <tbody>\n",
              "    <tr>\n",
              "      <th>0</th>\n",
              "      <td>1</td>\n",
              "      <td>x0</td>\n",
              "      <td>0.026254</td>\n",
              "    </tr>\n",
              "    <tr>\n",
              "      <th>1</th>\n",
              "      <td>1</td>\n",
              "      <td>x1</td>\n",
              "      <td>-0.157610</td>\n",
              "    </tr>\n",
              "    <tr>\n",
              "      <th>2</th>\n",
              "      <td>1</td>\n",
              "      <td>&lt;BIAS&gt;</td>\n",
              "      <td>-0.391198</td>\n",
              "    </tr>\n",
              "  </tbody>\n",
              "</table>\n",
              "</div>"
            ],
            "text/plain": [
              "   target feature    weight\n",
              "0       1      x0  0.026254\n",
              "1       1      x1 -0.157610\n",
              "2       1  <BIAS> -0.391198"
            ]
          },
          "metadata": {
            "tags": []
          },
          "execution_count": 231
        }
      ]
    },
    {
      "cell_type": "code",
      "metadata": {
        "colab": {
          "base_uri": "https://localhost:8080/",
          "height": 90
        },
        "id": "DoBFqWxi3hh_",
        "outputId": "cb9582d4-120e-4e0e-ae9a-76d6007043df"
      },
      "source": [
        "#para.columns"
      ],
      "execution_count": null,
      "outputs": [
        {
          "output_type": "execute_result",
          "data": {
            "text/plain": [
              "Index(['text_1', 'text_2', 'class', 'text_1_len', 'text_1_len_tokens',\n",
              "       'text_1_Word2Vec', 'text_2_len', 'text_2_len_tokens',\n",
              "       'text_2_Word2Vec'],\n",
              "      dtype='object')"
            ]
          },
          "metadata": {
            "tags": []
          },
          "execution_count": 236
        }
      ]
    },
    {
      "cell_type": "code",
      "metadata": {
        "id": "GbDEwdS93bKj"
      },
      "source": [
        "class_number = len(para.columns)\n",
        "top_features = []\n",
        "for i in range(class_number):\n",
        "  class_features = [int(i[1:]) for i in eli5_weights[eli5_weights.target==i].feature if 'BIAS' not in i]\n",
        "  len(class_features)\n",
        "  top_features += class_features[:1000]"
      ],
      "execution_count": null,
      "outputs": []
    },
    {
      "cell_type": "code",
      "metadata": {
        "colab": {
          "base_uri": "https://localhost:8080/",
          "height": 35
        },
        "id": "2wr4-Fht3tEi",
        "outputId": "51b3e36f-aa14-4995-f896-f870dc93f09c"
      },
      "source": [
        "top_features"
      ],
      "execution_count": null,
      "outputs": [
        {
          "output_type": "execute_result",
          "data": {
            "text/plain": [
              "[0, 1]"
            ]
          },
          "metadata": {
            "tags": []
          },
          "execution_count": 238
        }
      ]
    },
    {
      "cell_type": "code",
      "metadata": {
        "colab": {
          "base_uri": "https://localhost:8080/",
          "height": 72
        },
        "id": "q4hTw_2fsFbV",
        "outputId": "ca891293-dfd4-4677-d2a9-4e1fac8bfdb3"
      },
      "source": [
        "#from sklearn.neighbors import KNeighborsClassifier  \n",
        "#from sklearn.svm import SVC \n",
        "#from sklearn import svm\n",
        "\n",
        "knn_model = KNeighborsClassifier(n_neighbors=5) \n",
        "knn_model.fit(X_train, y_train)"
      ],
      "execution_count": null,
      "outputs": [
        {
          "output_type": "execute_result",
          "data": {
            "text/plain": [
              "KNeighborsClassifier(algorithm='auto', leaf_size=30, metric='minkowski',\n",
              "                     metric_params=None, n_jobs=None, n_neighbors=5, p=2,\n",
              "                     weights='uniform')"
            ]
          },
          "metadata": {
            "tags": []
          },
          "execution_count": 182
        }
      ]
    },
    {
      "cell_type": "code",
      "metadata": {
        "id": "5CiaoOIC2HS5"
      },
      "source": [
        "eli5.show_weights(knn_model, top=50)"
      ],
      "execution_count": null,
      "outputs": []
    },
    {
      "cell_type": "code",
      "metadata": {
        "id": "i50YdOOqsFbY"
      },
      "source": [
        "train_preds = model.predict(X_train)\n",
        "test_preds = model.predict(X_test)"
      ],
      "execution_count": null,
      "outputs": []
    },
    {
      "cell_type": "code",
      "metadata": {
        "id": "yEpLhG1osFbb"
      },
      "source": [
        "train_preds_k = knn_model.predict(X_train)\n",
        "test_preds_k = knn_model.predict(X_test)"
      ],
      "execution_count": null,
      "outputs": []
    },
    {
      "cell_type": "markdown",
      "metadata": {
        "id": "JUBsCK7FsFbe"
      },
      "source": [
        "Стандартная модель:"
      ]
    },
    {
      "cell_type": "code",
      "metadata": {
        "colab": {
          "base_uri": "https://localhost:8080/",
          "height": 54
        },
        "id": "tBUdp9GJsFbe",
        "outputId": "18eb2882-7727-4eca-e1ab-644b9989681a"
      },
      "source": [
        "print('result on train: {}'.format(f1_score(y_train, train_preds, average='micro')))\n",
        "print('result on test: {}'.format(f1_score(y_test,test_preds, average='micro')))"
      ],
      "execution_count": null,
      "outputs": [
        {
          "output_type": "stream",
          "text": [
            "result on train: 0.5399515738498789\n",
            "result on test: 0.562273276904474\n"
          ],
          "name": "stdout"
        }
      ]
    },
    {
      "cell_type": "markdown",
      "metadata": {
        "id": "Q7WtQy0CsFbh"
      },
      "source": [
        "Модель на методе К-средних:"
      ]
    },
    {
      "cell_type": "code",
      "metadata": {
        "colab": {
          "base_uri": "https://localhost:8080/",
          "height": 54
        },
        "id": "gyTPqx2RsFbj",
        "outputId": "28b05651-997e-48d2-fea4-6d211a10e287"
      },
      "source": [
        "print('result on train: {}'.format(f1_score(y_train, train_preds_k, average='micro')))\n",
        "print('result on test: {}'.format(f1_score(y_test,test_preds_k, average='micro')))"
      ],
      "execution_count": null,
      "outputs": [
        {
          "output_type": "stream",
          "text": [
            "result on train: 0.6105730427764327\n",
            "result on test: 0.5392986698911729\n"
          ],
          "name": "stdout"
        }
      ]
    },
    {
      "cell_type": "markdown",
      "metadata": {
        "id": "p5YnAuKjsFbm"
      },
      "source": [
        "Модель на методе SVC:"
      ]
    },
    {
      "cell_type": "code",
      "metadata": {
        "colab": {
          "base_uri": "https://localhost:8080/",
          "height": 90
        },
        "id": "QNzsvW6RsFbm",
        "outputId": "88c435aa-6bc0-4a61-a031-93e82938c5e9"
      },
      "source": [
        "svc_model = svm.SVC() \n",
        "\n",
        "svc_model.fit(X_train, y_train)"
      ],
      "execution_count": null,
      "outputs": [
        {
          "output_type": "execute_result",
          "data": {
            "text/plain": [
              "SVC(C=1.0, break_ties=False, cache_size=200, class_weight=None, coef0=0.0,\n",
              "    decision_function_shape='ovr', degree=3, gamma='scale', kernel='rbf',\n",
              "    max_iter=-1, probability=False, random_state=None, shrinking=True,\n",
              "    tol=0.001, verbose=False)"
            ]
          },
          "metadata": {
            "tags": []
          },
          "execution_count": 187
        }
      ]
    },
    {
      "cell_type": "code",
      "metadata": {
        "id": "IHhlKuip2XG5"
      },
      "source": [
        "eli5.show_weights(svc_model, top=50)"
      ],
      "execution_count": null,
      "outputs": []
    },
    {
      "cell_type": "code",
      "metadata": {
        "id": "UHD-h1WXsFbp"
      },
      "source": [
        "train_preds_svc = svc_model.predict(X_train)\n",
        "test_preds_svc = svc_model.predict(X_test)"
      ],
      "execution_count": null,
      "outputs": []
    },
    {
      "cell_type": "code",
      "metadata": {
        "colab": {
          "base_uri": "https://localhost:8080/",
          "height": 54
        },
        "id": "XUaC8_zFsFbs",
        "outputId": "fc061c03-a9b3-4f33-e4c5-ef8f53b360a8"
      },
      "source": [
        "print('result on train: {}'.format(f1_score(y_train, train_preds_svc, average='micro')))\n",
        "print('result on test: {}'.format(f1_score(y_test,test_preds_svc, average='micro')))"
      ],
      "execution_count": null,
      "outputs": [
        {
          "output_type": "stream",
          "text": [
            "result on train: 0.5710250201775625\n",
            "result on test: 0.5840386940749698\n"
          ],
          "name": "stdout"
        }
      ]
    },
    {
      "cell_type": "markdown",
      "metadata": {
        "id": "92uRaEyxsFbw"
      },
      "source": [
        "Лучшей моделью в данном случае можно считать модель, полученную методом SVC, поскольку предсказание на тестовой выборке этой модели превосходит предсказания других моделей на той же самой выборке."
      ]
    },
    {
      "cell_type": "code",
      "metadata": {
        "id": "j2bGdXODsFbx"
      },
      "source": [
        "len_text = para.text_1_len.value_counts(\n",
        "    normalize=True) # подсчёт по длине текста"
      ],
      "execution_count": null,
      "outputs": []
    },
    {
      "cell_type": "code",
      "metadata": {
        "id": "6mksel0asFb0"
      },
      "source": [
        "# len_text"
      ],
      "execution_count": null,
      "outputs": []
    },
    {
      "cell_type": "code",
      "metadata": {
        "id": "A4RHWJftsFb3"
      },
      "source": [
        "len_tok = para.text_1_len_tokens.value_counts(\n",
        "    normalize=True) # подсчёт по токенам"
      ],
      "execution_count": null,
      "outputs": []
    },
    {
      "cell_type": "code",
      "metadata": {
        "id": "Lk6DBeObsFb6"
      },
      "source": [
        "# len_tok"
      ],
      "execution_count": null,
      "outputs": []
    },
    {
      "cell_type": "code",
      "metadata": {
        "id": "D4B0EJHksFb9"
      },
      "source": [
        "word_vec_list = []\n",
        "for i, row in para.iterrows():\n",
        "  word_vec_list.append(augment_word2vec(row['text_2']))"
      ],
      "execution_count": null,
      "outputs": []
    },
    {
      "cell_type": "code",
      "metadata": {
        "id": "ESGcj4uzsFcA"
      },
      "source": [
        "para['text_2_Word2Vec'] = word_vec_list"
      ],
      "execution_count": null,
      "outputs": []
    },
    {
      "cell_type": "code",
      "metadata": {
        "colab": {
          "base_uri": "https://localhost:8080/",
          "height": 475
        },
        "id": "BIFElv0ksFcE",
        "outputId": "594beb77-683c-4985-bc2c-dc854a5a39a0"
      },
      "source": [
        "para.head()"
      ],
      "execution_count": null,
      "outputs": [
        {
          "output_type": "execute_result",
          "data": {
            "text/html": [
              "<div>\n",
              "<style scoped>\n",
              "    .dataframe tbody tr th:only-of-type {\n",
              "        vertical-align: middle;\n",
              "    }\n",
              "\n",
              "    .dataframe tbody tr th {\n",
              "        vertical-align: top;\n",
              "    }\n",
              "\n",
              "    .dataframe thead th {\n",
              "        text-align: right;\n",
              "    }\n",
              "</style>\n",
              "<table border=\"1\" class=\"dataframe\">\n",
              "  <thead>\n",
              "    <tr style=\"text-align: right;\">\n",
              "      <th></th>\n",
              "      <th>text_1</th>\n",
              "      <th>text_2</th>\n",
              "      <th>class</th>\n",
              "      <th>text_1_len</th>\n",
              "      <th>text_1_len_tokens</th>\n",
              "      <th>text_1_Word2Vec</th>\n",
              "      <th>text_2_len</th>\n",
              "      <th>text_2_len_tokens</th>\n",
              "      <th>text_2_Word2Vec</th>\n",
              "    </tr>\n",
              "  </thead>\n",
              "  <tbody>\n",
              "    <tr>\n",
              "      <th>0</th>\n",
              "      <td>Совет юстиции Бразилии легализовал однополые б...</td>\n",
              "      <td>Совет юстиции Бразилии разрешил однополые браки.</td>\n",
              "      <td>1</td>\n",
              "      <td>51</td>\n",
              "      <td>6</td>\n",
              "      <td>комитет финансы 7:6 узаконивать лесбийский браки.</td>\n",
              "      <td>48</td>\n",
              "      <td>6</td>\n",
              "      <td>комитет финансы 7:6 разрешать лесбийский браки.</td>\n",
              "    </tr>\n",
              "    <tr>\n",
              "      <th>1</th>\n",
              "      <td>\"Магнит\" поручится перед \"Абсолют Банком\" за к...</td>\n",
              "      <td>Выпуск сигарет в России упал из-за антитабачно...</td>\n",
              "      <td>-1</td>\n",
              "      <td>68</td>\n",
              "      <td>11</td>\n",
              "      <td>\"магнит\" ручаться перед \"абсолют банком\" за сс...</td>\n",
              "      <td>56</td>\n",
              "      <td>8</td>\n",
              "      <td>производство сигаретка в сас падать из-за анти...</td>\n",
              "    </tr>\n",
              "    <tr>\n",
              "      <th>2</th>\n",
              "      <td>ЕС призвал США не бомбить Сирию до публикации ...</td>\n",
              "      <td>Евросоюз призвал США дождаться доклада ООН по ...</td>\n",
              "      <td>-1</td>\n",
              "      <td>58</td>\n",
              "      <td>10</td>\n",
              "      <td>вто призывать америка не бомбить сирия до изда...</td>\n",
              "      <td>52</td>\n",
              "      <td>8</td>\n",
              "      <td>евросоюз призывать америка дождаться заседание...</td>\n",
              "    </tr>\n",
              "    <tr>\n",
              "      <th>3</th>\n",
              "      <td>Депо Московского метрополитена впервые перейде...</td>\n",
              "      <td>Частной компании впервые отдадут депо в москов...</td>\n",
              "      <td>1</td>\n",
              "      <td>63</td>\n",
              "      <td>8</td>\n",
              "      <td>деповский нижегородский подземка воочию перехо...</td>\n",
              "      <td>57</td>\n",
              "      <td>8</td>\n",
              "      <td>собственность фирма воочию отдавать деповский ...</td>\n",
              "    </tr>\n",
              "    <tr>\n",
              "      <th>4</th>\n",
              "      <td>Два человека погибли в столкновениях между кур...</td>\n",
              "      <td>Один человек погиб при столкновении судов у бе...</td>\n",
              "      <td>-1</td>\n",
              "      <td>59</td>\n",
              "      <td>9</td>\n",
              "      <td>три человеческий погибать в конфликт между кур...</td>\n",
              "      <td>58</td>\n",
              "      <td>9</td>\n",
              "      <td>одинаковый человеческий погибать при конфликт ...</td>\n",
              "    </tr>\n",
              "  </tbody>\n",
              "</table>\n",
              "</div>"
            ],
            "text/plain": [
              "                                              text_1  ...                                    text_2_Word2Vec\n",
              "0  Совет юстиции Бразилии легализовал однополые б...  ...    комитет финансы 7:6 разрешать лесбийский браки.\n",
              "1  \"Магнит\" поручится перед \"Абсолют Банком\" за к...  ...  производство сигаретка в сас падать из-за анти...\n",
              "2  ЕС призвал США не бомбить Сирию до публикации ...  ...  евросоюз призывать америка дождаться заседание...\n",
              "3  Депо Московского метрополитена впервые перейде...  ...  собственность фирма воочию отдавать деповский ...\n",
              "4  Два человека погибли в столкновениях между кур...  ...  одинаковый человеческий погибать при конфликт ...\n",
              "\n",
              "[5 rows x 9 columns]"
            ]
          },
          "metadata": {
            "tags": []
          },
          "execution_count": 208
        }
      ]
    }
  ]
}