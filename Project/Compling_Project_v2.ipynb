{
  "nbformat": 4,
  "nbformat_minor": 0,
  "metadata": {
    "colab": {
      "name": "Compling_Project_v2.ipynb",
      "provenance": [],
      "collapsed_sections": []
    },
    "kernelspec": {
      "name": "python3",
      "display_name": "Python 3"
    },
    "language_info": {
      "name": "python"
    }
  },
  "cells": [
    {
      "cell_type": "code",
      "metadata": {
        "id": "8zTMWJ9N_bBR"
      },
      "source": [
        "import matplotlib\n",
        "import seaborn as sns\n",
        "from pylab import rcParams\n",
        "import matplotlib.pyplot as plt\n",
        "\n",
        "%matplotlib inline\n",
        "%config InlineBackend.figure_format='retina'\n",
        "sns.set(style='whitegrid', palette='muted', font_scale=1.2)\n",
        "HAPPY_COLORS_PALETTE = [\"#01BEFE\", \"#FFDD00\", \"#FF7D00\", \"#FF006D\", \"#ADFF02\", \"#8F00FF\"]\n",
        "sns.set_palette(sns.color_palette(HAPPY_COLORS_PALETTE))\n",
        "rcParams['figure.figsize'] = 12, 8"
      ],
      "execution_count": 1,
      "outputs": []
    },
    {
      "cell_type": "code",
      "metadata": {
        "colab": {
          "base_uri": "https://localhost:8080/"
        },
        "id": "VUoJdi51Kljm",
        "outputId": "a99067d3-235e-40f8-9a9f-50b3486c4984"
      },
      "source": [
        "!pip install -U nltk\n",
        "!python -m nltk.downloader 'popular'"
      ],
      "execution_count": 2,
      "outputs": [
        {
          "output_type": "stream",
          "text": [
            "Requirement already up-to-date: nltk in /usr/local/lib/python3.7/dist-packages (3.5)\n",
            "Requirement already satisfied, skipping upgrade: tqdm in /usr/local/lib/python3.7/dist-packages (from nltk) (4.41.1)\n",
            "Requirement already satisfied, skipping upgrade: click in /usr/local/lib/python3.7/dist-packages (from nltk) (7.1.2)\n",
            "Requirement already satisfied, skipping upgrade: regex in /usr/local/lib/python3.7/dist-packages (from nltk) (2019.12.20)\n",
            "Requirement already satisfied, skipping upgrade: joblib in /usr/local/lib/python3.7/dist-packages (from nltk) (1.0.1)\n",
            "/usr/lib/python3.7/runpy.py:125: RuntimeWarning: 'nltk.downloader' found in sys.modules after import of package 'nltk', but prior to execution of 'nltk.downloader'; this may result in unpredictable behaviour\n",
            "  warn(RuntimeWarning(msg))\n",
            "[nltk_data] Downloading collection 'popular'\n",
            "[nltk_data]    | \n",
            "[nltk_data]    | Downloading package cmudict to /root/nltk_data...\n",
            "[nltk_data]    |   Package cmudict is already up-to-date!\n",
            "[nltk_data]    | Downloading package gazetteers to /root/nltk_data...\n",
            "[nltk_data]    |   Package gazetteers is already up-to-date!\n",
            "[nltk_data]    | Downloading package genesis to /root/nltk_data...\n",
            "[nltk_data]    |   Package genesis is already up-to-date!\n",
            "[nltk_data]    | Downloading package gutenberg to /root/nltk_data...\n",
            "[nltk_data]    |   Package gutenberg is already up-to-date!\n",
            "[nltk_data]    | Downloading package inaugural to /root/nltk_data...\n",
            "[nltk_data]    |   Package inaugural is already up-to-date!\n",
            "[nltk_data]    | Downloading package movie_reviews to\n",
            "[nltk_data]    |     /root/nltk_data...\n",
            "[nltk_data]    |   Package movie_reviews is already up-to-date!\n",
            "[nltk_data]    | Downloading package names to /root/nltk_data...\n",
            "[nltk_data]    |   Package names is already up-to-date!\n",
            "[nltk_data]    | Downloading package shakespeare to /root/nltk_data...\n",
            "[nltk_data]    |   Package shakespeare is already up-to-date!\n",
            "[nltk_data]    | Downloading package stopwords to /root/nltk_data...\n",
            "[nltk_data]    |   Package stopwords is already up-to-date!\n",
            "[nltk_data]    | Downloading package treebank to /root/nltk_data...\n",
            "[nltk_data]    |   Package treebank is already up-to-date!\n",
            "[nltk_data]    | Downloading package twitter_samples to\n",
            "[nltk_data]    |     /root/nltk_data...\n",
            "[nltk_data]    |   Package twitter_samples is already up-to-date!\n",
            "[nltk_data]    | Downloading package omw to /root/nltk_data...\n",
            "[nltk_data]    |   Package omw is already up-to-date!\n",
            "[nltk_data]    | Downloading package wordnet to /root/nltk_data...\n",
            "[nltk_data]    |   Package wordnet is already up-to-date!\n",
            "[nltk_data]    | Downloading package wordnet_ic to /root/nltk_data...\n",
            "[nltk_data]    |   Package wordnet_ic is already up-to-date!\n",
            "[nltk_data]    | Downloading package words to /root/nltk_data...\n",
            "[nltk_data]    |   Package words is already up-to-date!\n",
            "[nltk_data]    | Downloading package maxent_ne_chunker to\n",
            "[nltk_data]    |     /root/nltk_data...\n",
            "[nltk_data]    |   Package maxent_ne_chunker is already up-to-date!\n",
            "[nltk_data]    | Downloading package punkt to /root/nltk_data...\n",
            "[nltk_data]    |   Package punkt is already up-to-date!\n",
            "[nltk_data]    | Downloading package snowball_data to\n",
            "[nltk_data]    |     /root/nltk_data...\n",
            "[nltk_data]    |   Package snowball_data is already up-to-date!\n",
            "[nltk_data]    | Downloading package averaged_perceptron_tagger to\n",
            "[nltk_data]    |     /root/nltk_data...\n",
            "[nltk_data]    |   Package averaged_perceptron_tagger is already up-\n",
            "[nltk_data]    |       to-date!\n",
            "[nltk_data]    | \n",
            "[nltk_data]  Done downloading collection popular\n"
          ],
          "name": "stdout"
        }
      ]
    },
    {
      "cell_type": "code",
      "metadata": {
        "colab": {
          "base_uri": "https://localhost:8080/"
        },
        "id": "yRtrFFYWLc6v",
        "outputId": "3cb2d021-91db-4116-dde1-b7ca5b68f249"
      },
      "source": [
        "!pip install -U wn==0.0.23"
      ],
      "execution_count": 3,
      "outputs": [
        {
          "output_type": "stream",
          "text": [
            "Requirement already up-to-date: wn==0.0.23 in /usr/local/lib/python3.7/dist-packages (0.0.23)\n"
          ],
          "name": "stdout"
        }
      ]
    },
    {
      "cell_type": "code",
      "metadata": {
        "id": "60Aux0I_LIvE"
      },
      "source": [
        ""
      ],
      "execution_count": 3,
      "outputs": []
    },
    {
      "cell_type": "code",
      "metadata": {
        "colab": {
          "base_uri": "https://localhost:8080/"
        },
        "id": "ALpTJxMjLIxd",
        "outputId": "45094783-e3fd-4a19-99dc-25d4f9cc9119"
      },
      "source": [
        "!pip install transformers"
      ],
      "execution_count": 4,
      "outputs": [
        {
          "output_type": "stream",
          "text": [
            "Requirement already satisfied: transformers in /usr/local/lib/python3.7/dist-packages (4.4.2)\n",
            "Requirement already satisfied: importlib-metadata; python_version < \"3.8\" in /usr/local/lib/python3.7/dist-packages (from transformers) (3.8.1)\n",
            "Requirement already satisfied: sacremoses in /usr/local/lib/python3.7/dist-packages (from transformers) (0.0.43)\n",
            "Requirement already satisfied: requests in /usr/local/lib/python3.7/dist-packages (from transformers) (2.23.0)\n",
            "Requirement already satisfied: tqdm>=4.27 in /usr/local/lib/python3.7/dist-packages (from transformers) (4.41.1)\n",
            "Requirement already satisfied: numpy>=1.17 in /usr/local/lib/python3.7/dist-packages (from transformers) (1.19.5)\n",
            "Requirement already satisfied: packaging in /usr/local/lib/python3.7/dist-packages (from transformers) (20.9)\n",
            "Requirement already satisfied: tokenizers<0.11,>=0.10.1 in /usr/local/lib/python3.7/dist-packages (from transformers) (0.10.1)\n",
            "Requirement already satisfied: regex!=2019.12.17 in /usr/local/lib/python3.7/dist-packages (from transformers) (2019.12.20)\n",
            "Requirement already satisfied: filelock in /usr/local/lib/python3.7/dist-packages (from transformers) (3.0.12)\n",
            "Requirement already satisfied: typing-extensions>=3.6.4; python_version < \"3.8\" in /usr/local/lib/python3.7/dist-packages (from importlib-metadata; python_version < \"3.8\"->transformers) (3.7.4.3)\n",
            "Requirement already satisfied: zipp>=0.5 in /usr/local/lib/python3.7/dist-packages (from importlib-metadata; python_version < \"3.8\"->transformers) (3.4.1)\n",
            "Requirement already satisfied: six in /usr/local/lib/python3.7/dist-packages (from sacremoses->transformers) (1.15.0)\n",
            "Requirement already satisfied: click in /usr/local/lib/python3.7/dist-packages (from sacremoses->transformers) (7.1.2)\n",
            "Requirement already satisfied: joblib in /usr/local/lib/python3.7/dist-packages (from sacremoses->transformers) (1.0.1)\n",
            "Requirement already satisfied: urllib3!=1.25.0,!=1.25.1,<1.26,>=1.21.1 in /usr/local/lib/python3.7/dist-packages (from requests->transformers) (1.24.3)\n",
            "Requirement already satisfied: certifi>=2017.4.17 in /usr/local/lib/python3.7/dist-packages (from requests->transformers) (2020.12.5)\n",
            "Requirement already satisfied: idna<3,>=2.5 in /usr/local/lib/python3.7/dist-packages (from requests->transformers) (2.10)\n",
            "Requirement already satisfied: chardet<4,>=3.0.2 in /usr/local/lib/python3.7/dist-packages (from requests->transformers) (3.0.4)\n",
            "Requirement already satisfied: pyparsing>=2.0.2 in /usr/local/lib/python3.7/dist-packages (from packaging->transformers) (2.4.7)\n"
          ],
          "name": "stdout"
        }
      ]
    },
    {
      "cell_type": "code",
      "metadata": {
        "id": "pwQ55sMSLI4L"
      },
      "source": [
        "import numpy as np\n",
        "import pandas as pd\n",
        "from sklearn.model_selection import train_test_split\n",
        "from sklearn.linear_model import LogisticRegression\n",
        "from sklearn.model_selection import cross_val_score\n",
        "import torch\n",
        "import transformers as ppb\n",
        "import warnings\n",
        "warnings.filterwarnings('ignore')"
      ],
      "execution_count": 5,
      "outputs": []
    },
    {
      "cell_type": "code",
      "metadata": {
        "colab": {
          "base_uri": "https://localhost:8080/"
        },
        "id": "qWGkVy8IZqHG",
        "outputId": "01b0fbc5-43f6-4e8a-ad71-9ae1158b92e9"
      },
      "source": [
        "!wget https://raw.githubusercontent.com/devkosal/fastai_roberta/master/fastai_roberta_imdb/imdb_dataset.csv\n"
      ],
      "execution_count": 6,
      "outputs": [
        {
          "output_type": "stream",
          "text": [
            "--2021-04-01 11:56:52--  https://raw.githubusercontent.com/devkosal/fastai_roberta/master/fastai_roberta_imdb/imdb_dataset.csv\n",
            "Resolving raw.githubusercontent.com (raw.githubusercontent.com)... 185.199.108.133, 185.199.109.133, 185.199.110.133, ...\n",
            "Connecting to raw.githubusercontent.com (raw.githubusercontent.com)|185.199.108.133|:443... connected.\n",
            "HTTP request sent, awaiting response... 200 OK\n",
            "Length: 66212309 (63M) [text/plain]\n",
            "Saving to: ‘imdb_dataset.csv.13’\n",
            "\n",
            "imdb_dataset.csv.13 100%[===================>]  63.14M  63.0MB/s    in 1.0s    \n",
            "\n",
            "2021-04-01 11:56:53 (63.0 MB/s) - ‘imdb_dataset.csv.13’ saved [66212309/66212309]\n",
            "\n"
          ],
          "name": "stdout"
        }
      ]
    },
    {
      "cell_type": "markdown",
      "metadata": {
        "id": "5ipj7nneue2E"
      },
      "source": [
        "Задача: определение тональности отзыва на IMDB"
      ]
    },
    {
      "cell_type": "code",
      "metadata": {
        "id": "ZXtJ1PdxLI2B"
      },
      "source": [
        "df = pd.read_csv('imdb_dataset.csv')"
      ],
      "execution_count": 7,
      "outputs": []
    },
    {
      "cell_type": "code",
      "metadata": {
        "colab": {
          "base_uri": "https://localhost:8080/",
          "height": 195
        },
        "id": "A5db4I2NhryD",
        "outputId": "a6d13b6c-285b-445a-cac1-f02cd9ccf161"
      },
      "source": [
        "df.head()"
      ],
      "execution_count": 8,
      "outputs": [
        {
          "output_type": "execute_result",
          "data": {
            "text/html": [
              "<div>\n",
              "<style scoped>\n",
              "    .dataframe tbody tr th:only-of-type {\n",
              "        vertical-align: middle;\n",
              "    }\n",
              "\n",
              "    .dataframe tbody tr th {\n",
              "        vertical-align: top;\n",
              "    }\n",
              "\n",
              "    .dataframe thead th {\n",
              "        text-align: right;\n",
              "    }\n",
              "</style>\n",
              "<table border=\"1\" class=\"dataframe\">\n",
              "  <thead>\n",
              "    <tr style=\"text-align: right;\">\n",
              "      <th></th>\n",
              "      <th>review</th>\n",
              "      <th>sentiment</th>\n",
              "    </tr>\n",
              "  </thead>\n",
              "  <tbody>\n",
              "    <tr>\n",
              "      <th>0</th>\n",
              "      <td>One of the other reviewers has mentioned that ...</td>\n",
              "      <td>positive</td>\n",
              "    </tr>\n",
              "    <tr>\n",
              "      <th>1</th>\n",
              "      <td>A wonderful little production. &lt;br /&gt;&lt;br /&gt;The...</td>\n",
              "      <td>positive</td>\n",
              "    </tr>\n",
              "    <tr>\n",
              "      <th>2</th>\n",
              "      <td>I thought this was a wonderful way to spend ti...</td>\n",
              "      <td>positive</td>\n",
              "    </tr>\n",
              "    <tr>\n",
              "      <th>3</th>\n",
              "      <td>Basically there's a family where a little boy ...</td>\n",
              "      <td>negative</td>\n",
              "    </tr>\n",
              "    <tr>\n",
              "      <th>4</th>\n",
              "      <td>Petter Mattei's \"Love in the Time of Money\" is...</td>\n",
              "      <td>positive</td>\n",
              "    </tr>\n",
              "  </tbody>\n",
              "</table>\n",
              "</div>"
            ],
            "text/plain": [
              "                                              review sentiment\n",
              "0  One of the other reviewers has mentioned that ...  positive\n",
              "1  A wonderful little production. <br /><br />The...  positive\n",
              "2  I thought this was a wonderful way to spend ti...  positive\n",
              "3  Basically there's a family where a little boy ...  negative\n",
              "4  Petter Mattei's \"Love in the Time of Money\" is...  positive"
            ]
          },
          "metadata": {
            "tags": []
          },
          "execution_count": 8
        }
      ]
    },
    {
      "cell_type": "code",
      "metadata": {
        "id": "XS_tD1QrZ4ia"
      },
      "source": [
        "sent_index = []\n",
        "for sent in df['sentiment']:\n",
        "  if sent == 'positive':\n",
        "    sent_index.append(1)\n",
        "  else:\n",
        "    sent_index.append(0)\n",
        "df['sentiment_index'] = sent_index"
      ],
      "execution_count": 9,
      "outputs": []
    },
    {
      "cell_type": "code",
      "metadata": {
        "id": "T4ZXOs0CfZjD"
      },
      "source": [
        "rev_trimmed = []\n",
        "for rev in df['review']:\n",
        "  rev_trimmed.append(rev[:500])\n",
        "\n",
        "df['review_trimmed'] = rev_trimmed"
      ],
      "execution_count": 10,
      "outputs": []
    },
    {
      "cell_type": "code",
      "metadata": {
        "colab": {
          "base_uri": "https://localhost:8080/",
          "height": 402
        },
        "id": "EP72bqf2LI6f",
        "outputId": "ada4aa99-6e14-45e9-b3ef-6cd15d790ed8"
      },
      "source": [
        "df"
      ],
      "execution_count": 11,
      "outputs": [
        {
          "output_type": "execute_result",
          "data": {
            "text/html": [
              "<div>\n",
              "<style scoped>\n",
              "    .dataframe tbody tr th:only-of-type {\n",
              "        vertical-align: middle;\n",
              "    }\n",
              "\n",
              "    .dataframe tbody tr th {\n",
              "        vertical-align: top;\n",
              "    }\n",
              "\n",
              "    .dataframe thead th {\n",
              "        text-align: right;\n",
              "    }\n",
              "</style>\n",
              "<table border=\"1\" class=\"dataframe\">\n",
              "  <thead>\n",
              "    <tr style=\"text-align: right;\">\n",
              "      <th></th>\n",
              "      <th>review</th>\n",
              "      <th>sentiment</th>\n",
              "      <th>sentiment_index</th>\n",
              "      <th>review_trimmed</th>\n",
              "    </tr>\n",
              "  </thead>\n",
              "  <tbody>\n",
              "    <tr>\n",
              "      <th>0</th>\n",
              "      <td>One of the other reviewers has mentioned that ...</td>\n",
              "      <td>positive</td>\n",
              "      <td>1</td>\n",
              "      <td>One of the other reviewers has mentioned that ...</td>\n",
              "    </tr>\n",
              "    <tr>\n",
              "      <th>1</th>\n",
              "      <td>A wonderful little production. &lt;br /&gt;&lt;br /&gt;The...</td>\n",
              "      <td>positive</td>\n",
              "      <td>1</td>\n",
              "      <td>A wonderful little production. &lt;br /&gt;&lt;br /&gt;The...</td>\n",
              "    </tr>\n",
              "    <tr>\n",
              "      <th>2</th>\n",
              "      <td>I thought this was a wonderful way to spend ti...</td>\n",
              "      <td>positive</td>\n",
              "      <td>1</td>\n",
              "      <td>I thought this was a wonderful way to spend ti...</td>\n",
              "    </tr>\n",
              "    <tr>\n",
              "      <th>3</th>\n",
              "      <td>Basically there's a family where a little boy ...</td>\n",
              "      <td>negative</td>\n",
              "      <td>0</td>\n",
              "      <td>Basically there's a family where a little boy ...</td>\n",
              "    </tr>\n",
              "    <tr>\n",
              "      <th>4</th>\n",
              "      <td>Petter Mattei's \"Love in the Time of Money\" is...</td>\n",
              "      <td>positive</td>\n",
              "      <td>1</td>\n",
              "      <td>Petter Mattei's \"Love in the Time of Money\" is...</td>\n",
              "    </tr>\n",
              "    <tr>\n",
              "      <th>...</th>\n",
              "      <td>...</td>\n",
              "      <td>...</td>\n",
              "      <td>...</td>\n",
              "      <td>...</td>\n",
              "    </tr>\n",
              "    <tr>\n",
              "      <th>49995</th>\n",
              "      <td>I thought this movie did a down right good job...</td>\n",
              "      <td>positive</td>\n",
              "      <td>1</td>\n",
              "      <td>I thought this movie did a down right good job...</td>\n",
              "    </tr>\n",
              "    <tr>\n",
              "      <th>49996</th>\n",
              "      <td>Bad plot, bad dialogue, bad acting, idiotic di...</td>\n",
              "      <td>negative</td>\n",
              "      <td>0</td>\n",
              "      <td>Bad plot, bad dialogue, bad acting, idiotic di...</td>\n",
              "    </tr>\n",
              "    <tr>\n",
              "      <th>49997</th>\n",
              "      <td>I am a Catholic taught in parochial elementary...</td>\n",
              "      <td>negative</td>\n",
              "      <td>0</td>\n",
              "      <td>I am a Catholic taught in parochial elementary...</td>\n",
              "    </tr>\n",
              "    <tr>\n",
              "      <th>49998</th>\n",
              "      <td>I'm going to have to disagree with the previou...</td>\n",
              "      <td>negative</td>\n",
              "      <td>0</td>\n",
              "      <td>I'm going to have to disagree with the previou...</td>\n",
              "    </tr>\n",
              "    <tr>\n",
              "      <th>49999</th>\n",
              "      <td>No one expects the Star Trek movies to be high...</td>\n",
              "      <td>negative</td>\n",
              "      <td>0</td>\n",
              "      <td>No one expects the Star Trek movies to be high...</td>\n",
              "    </tr>\n",
              "  </tbody>\n",
              "</table>\n",
              "<p>50000 rows × 4 columns</p>\n",
              "</div>"
            ],
            "text/plain": [
              "                                                  review  ...                                     review_trimmed\n",
              "0      One of the other reviewers has mentioned that ...  ...  One of the other reviewers has mentioned that ...\n",
              "1      A wonderful little production. <br /><br />The...  ...  A wonderful little production. <br /><br />The...\n",
              "2      I thought this was a wonderful way to spend ti...  ...  I thought this was a wonderful way to spend ti...\n",
              "3      Basically there's a family where a little boy ...  ...  Basically there's a family where a little boy ...\n",
              "4      Petter Mattei's \"Love in the Time of Money\" is...  ...  Petter Mattei's \"Love in the Time of Money\" is...\n",
              "...                                                  ...  ...                                                ...\n",
              "49995  I thought this movie did a down right good job...  ...  I thought this movie did a down right good job...\n",
              "49996  Bad plot, bad dialogue, bad acting, idiotic di...  ...  Bad plot, bad dialogue, bad acting, idiotic di...\n",
              "49997  I am a Catholic taught in parochial elementary...  ...  I am a Catholic taught in parochial elementary...\n",
              "49998  I'm going to have to disagree with the previou...  ...  I'm going to have to disagree with the previou...\n",
              "49999  No one expects the Star Trek movies to be high...  ...  No one expects the Star Trek movies to be high...\n",
              "\n",
              "[50000 rows x 4 columns]"
            ]
          },
          "metadata": {
            "tags": []
          },
          "execution_count": 11
        }
      ]
    },
    {
      "cell_type": "code",
      "metadata": {
        "id": "Kat9tCEj-8MQ",
        "colab": {
          "base_uri": "https://localhost:8080/",
          "height": 289
        },
        "outputId": "82366190-e40a-4a1a-942f-960a63458b01"
      },
      "source": [
        "sns.countplot(df.sentiment)\n",
        "plt.xlabel('sentiment');"
      ],
      "execution_count": 12,
      "outputs": [
        {
          "output_type": "display_data",
          "data": {
            "image/png": "[encoded data removed]",
            "text/plain": [
              "<Figure size 432x288 with 1 Axes>"
            ]
          },
          "metadata": {
            "tags": [],
            "image/png": {
              "width": 418,
              "height": 272
            },
            "needs_background": "light"
          }
        }
      ]
    },
    {
      "cell_type": "markdown",
      "metadata": {
        "id": "oEqNXQpCaZg6"
      },
      "source": [
        "Распределение между положительными и отрицательными отзывами равномерное."
      ]
    },
    {
      "cell_type": "code",
      "metadata": {
        "colab": {
          "base_uri": "https://localhost:8080/"
        },
        "id": "qpSeRY2_SO90",
        "outputId": "4628a10f-4e7c-4ece-cbbd-a361d8b2909b"
      },
      "source": [
        "!pip install pyspellchecker\n",
        "\n",
        "from spellchecker import SpellChecker\n",
        "\n",
        "spell = SpellChecker(language='en')"
      ],
      "execution_count": 13,
      "outputs": [
        {
          "output_type": "stream",
          "text": [
            "Requirement already satisfied: pyspellchecker in /usr/local/lib/python3.7/dist-packages (0.6.2)\n"
          ],
          "name": "stdout"
        }
      ]
    },
    {
      "cell_type": "code",
      "metadata": {
        "id": "qE_6WIBP-8aU"
      },
      "source": [
        ""
      ],
      "execution_count": 13,
      "outputs": []
    },
    {
      "cell_type": "markdown",
      "metadata": {
        "id": "JtidpE-PM0_I"
      },
      "source": [
        "# Тренировка DistilBERT'а"
      ]
    },
    {
      "cell_type": "code",
      "metadata": {
        "id": "qldz8CSfVIuD"
      },
      "source": [
        "model_class, tokenizer_class, pretrained_weights = (ppb.DistilBertModel, ppb.DistilBertTokenizer, 'distilbert-base-uncased')\n",
        "tokenizer = tokenizer_class.from_pretrained(pretrained_weights)\n",
        "model = model_class.from_pretrained(pretrained_weights)"
      ],
      "execution_count": 14,
      "outputs": []
    },
    {
      "cell_type": "code",
      "metadata": {
        "id": "j5oQI1YC-8QU"
      },
      "source": [
        "import nltk\n",
        "import re\n",
        "\n",
        "def text_preprocessing(s):\n",
        "\n",
        "    s = s.lower()\n",
        "    s = re.sub(r\"n\\'t\", \" not\", s)\n",
        "    s = re.sub(r'([\\'\\\"\\.\\(\\)\\!\\?\\\\\\/\\,])', r' \\1 ', s)\n",
        "    s = re.sub(r'[^\\w\\s\\?]', ' ', s)\n",
        "    s = re.sub(r'([\\;\\:\\|•«\\n])', ' ', s)\n",
        "    s = re.sub(r'\\s+', ' ', s).strip()\n",
        "\n",
        "    return s"
      ],
      "execution_count": 15,
      "outputs": []
    },
    {
      "cell_type": "code",
      "metadata": {
        "colab": {
          "base_uri": "https://localhost:8080/",
          "height": 35
        },
        "id": "TTvDa2XxL3Iz",
        "outputId": "687b1e27-ba94-494e-e777-2a508935b398"
      },
      "source": [
        "text_preprocessing(\"Do it, man!\")"
      ],
      "execution_count": 16,
      "outputs": [
        {
          "output_type": "execute_result",
          "data": {
            "application/vnd.google.colaboratory.intrinsic+json": {
              "type": "string"
            },
            "text/plain": [
              "'do it man'"
            ]
          },
          "metadata": {
            "tags": []
          },
          "execution_count": 16
        }
      ]
    },
    {
      "cell_type": "code",
      "metadata": {
        "id": "570rE98oVIwe"
      },
      "source": [
        "batch_1 = df[:500]\n",
        "\n",
        "batch_1['review_trimmed_processed'] = [text_preprocessing(t) for t in batch_1['review_trimmed']]\n",
        "\n",
        "tokenized = pd.Series(batch_1['review_trimmed_processed']).apply(lambda x: tokenizer.encode(x, add_special_tokens=True))"
      ],
      "execution_count": 17,
      "outputs": []
    },
    {
      "cell_type": "code",
      "metadata": {
        "colab": {
          "base_uri": "https://localhost:8080/"
        },
        "id": "iHpDjPQGVIyz",
        "outputId": "fbf9e982-1e93-4d14-bcbc-04a9ef7ed17d"
      },
      "source": [
        "len(tokenizer.decode(tokenized[0]))\n"
      ],
      "execution_count": 18,
      "outputs": [
        {
          "output_type": "execute_result",
          "data": {
            "text/plain": [
              "491"
            ]
          },
          "metadata": {
            "tags": []
          },
          "execution_count": 18
        }
      ]
    },
    {
      "cell_type": "code",
      "metadata": {
        "colab": {
          "base_uri": "https://localhost:8080/"
        },
        "id": "qI4HFpNpVI1G",
        "outputId": "8f208d83-4c84-4e78-bdf1-69e9069d541f"
      },
      "source": [
        "tokenizer.vocab['[CLS]']\n"
      ],
      "execution_count": 19,
      "outputs": [
        {
          "output_type": "execute_result",
          "data": {
            "text/plain": [
              "101"
            ]
          },
          "metadata": {
            "tags": []
          },
          "execution_count": 19
        }
      ]
    },
    {
      "cell_type": "code",
      "metadata": {
        "id": "v2MeGY6PXRpI"
      },
      "source": [
        "max_len = 0\n",
        "for i in tokenized.values:\n",
        "    if len(i) > max_len:\n",
        "        max_len = len(i)\n",
        "\n",
        "padded = np.array([i + [0]*(max_len-len(i)) for i in tokenized.values])"
      ],
      "execution_count": 20,
      "outputs": []
    },
    {
      "cell_type": "code",
      "metadata": {
        "colab": {
          "base_uri": "https://localhost:8080/"
        },
        "id": "sum1joAbXRrv",
        "outputId": "21b08c82-7b4a-41c4-9026-e87154a93668"
      },
      "source": [
        "np.array(padded).shape\n"
      ],
      "execution_count": 21,
      "outputs": [
        {
          "output_type": "execute_result",
          "data": {
            "text/plain": [
              "(500, 120)"
            ]
          },
          "metadata": {
            "tags": []
          },
          "execution_count": 21
        }
      ]
    },
    {
      "cell_type": "code",
      "metadata": {
        "colab": {
          "base_uri": "https://localhost:8080/"
        },
        "id": "kQa7J2D_XRt_",
        "outputId": "c86d1412-c54b-4a61-f57b-352d09708a19"
      },
      "source": [
        "padded[0]\n"
      ],
      "execution_count": 22,
      "outputs": [
        {
          "output_type": "execute_result",
          "data": {
            "text/plain": [
              "array([  101,  2028,  1997,  1996,  2060, 15814,  2038,  3855,  2008,\n",
              "        2044,  3666,  2074,  1015, 11472,  2792,  2017,  2222,  2022,\n",
              "       13322,  2027,  2024,  2157,  2004,  2023,  2003,  3599,  2054,\n",
              "        3047,  2007,  2033,  7987,  7987,  1996,  2034,  2518,  2008,\n",
              "        4930,  2033,  2055, 11472,  2001,  2049, 24083,  1998,  4895,\n",
              "       10258,  2378,  8450,  5019,  1997,  4808,  2029,  2275,  1999,\n",
              "        2157,  2013,  1996,  2773,  2175,  3404,  2033,  2023,  2003,\n",
              "        2025,  1037,  2265,  2005,  1996,  8143, 18627,  2030,  5199,\n",
              "        3593,  2023,  2265,  8005,  2053, 17957,  2007, 12362,  2000,\n",
              "        5850,  3348,  2030,  4808,  2049,  2003, 13076,  1999,  1996,\n",
              "        4438,  2224,  1997,  1996,  2773,  7987,  7987,  2009,  2003,\n",
              "        2170, 11472,   102,     0,     0,     0,     0,     0,     0,\n",
              "           0,     0,     0,     0,     0,     0,     0,     0,     0,\n",
              "           0,     0,     0])"
            ]
          },
          "metadata": {
            "tags": []
          },
          "execution_count": 22
        }
      ]
    },
    {
      "cell_type": "code",
      "metadata": {
        "colab": {
          "base_uri": "https://localhost:8080/",
          "height": 35
        },
        "id": "sQmM_QI9XRwi",
        "outputId": "f1a291f8-9a13-47d2-cc09-ba109d1f7f11"
      },
      "source": [
        "tokenizer.ids_to_tokens[0]\n"
      ],
      "execution_count": 23,
      "outputs": [
        {
          "output_type": "execute_result",
          "data": {
            "application/vnd.google.colaboratory.intrinsic+json": {
              "type": "string"
            },
            "text/plain": [
              "'[PAD]'"
            ]
          },
          "metadata": {
            "tags": []
          },
          "execution_count": 23
        }
      ]
    },
    {
      "cell_type": "markdown",
      "metadata": {
        "id": "wrXqiyVjgoJM"
      },
      "source": [
        "## Создаём маску"
      ]
    },
    {
      "cell_type": "code",
      "metadata": {
        "colab": {
          "base_uri": "https://localhost:8080/"
        },
        "id": "SEiwjsyBpK4D",
        "outputId": "6ff4f2ab-fc9e-4503-fe06-423e4a3d5259"
      },
      "source": [
        "attention_mask = np.where(padded != 0, 1, 0)\n",
        "attention_mask.shape"
      ],
      "execution_count": 24,
      "outputs": [
        {
          "output_type": "execute_result",
          "data": {
            "text/plain": [
              "(500, 120)"
            ]
          },
          "metadata": {
            "tags": []
          },
          "execution_count": 24
        }
      ]
    },
    {
      "cell_type": "code",
      "metadata": {
        "colab": {
          "base_uri": "https://localhost:8080/"
        },
        "id": "z01l-D9_pK6b",
        "outputId": "b67e54ef-66b4-45bd-85c5-8db77b524b26"
      },
      "source": [
        "len(tokenized[0])\n"
      ],
      "execution_count": 25,
      "outputs": [
        {
          "output_type": "execute_result",
          "data": {
            "text/plain": [
              "102"
            ]
          },
          "metadata": {
            "tags": []
          },
          "execution_count": 25
        }
      ]
    },
    {
      "cell_type": "code",
      "metadata": {
        "colab": {
          "base_uri": "https://localhost:8080/"
        },
        "id": "a-dwL5_qpLCF",
        "outputId": "193dcde0-0eea-4a75-cb37-dcb4cd603c4d"
      },
      "source": [
        "attention_mask[0]"
      ],
      "execution_count": 26,
      "outputs": [
        {
          "output_type": "execute_result",
          "data": {
            "text/plain": [
              "array([1, 1, 1, 1, 1, 1, 1, 1, 1, 1, 1, 1, 1, 1, 1, 1, 1, 1, 1, 1, 1, 1,\n",
              "       1, 1, 1, 1, 1, 1, 1, 1, 1, 1, 1, 1, 1, 1, 1, 1, 1, 1, 1, 1, 1, 1,\n",
              "       1, 1, 1, 1, 1, 1, 1, 1, 1, 1, 1, 1, 1, 1, 1, 1, 1, 1, 1, 1, 1, 1,\n",
              "       1, 1, 1, 1, 1, 1, 1, 1, 1, 1, 1, 1, 1, 1, 1, 1, 1, 1, 1, 1, 1, 1,\n",
              "       1, 1, 1, 1, 1, 1, 1, 1, 1, 1, 1, 1, 1, 1, 0, 0, 0, 0, 0, 0, 0, 0,\n",
              "       0, 0, 0, 0, 0, 0, 0, 0, 0, 0])"
            ]
          },
          "metadata": {
            "tags": []
          },
          "execution_count": 26
        }
      ]
    },
    {
      "cell_type": "code",
      "metadata": {
        "id": "lbaV1Trjppav"
      },
      "source": [
        "input_ids = torch.tensor(padded)  \n",
        "attention_mask = torch.tensor(attention_mask)\n",
        "\n",
        "with torch.no_grad():\n",
        "    last_hidden_states = model(input_ids, attention_mask=attention_mask)"
      ],
      "execution_count": 27,
      "outputs": []
    },
    {
      "cell_type": "code",
      "metadata": {
        "colab": {
          "base_uri": "https://localhost:8080/"
        },
        "id": "s2n4jlH9ppdG",
        "outputId": "c05692d9-bff1-4160-fb28-bef646856de2"
      },
      "source": [
        "last_hidden_states[0][0]\n"
      ],
      "execution_count": 28,
      "outputs": [
        {
          "output_type": "execute_result",
          "data": {
            "text/plain": [
              "tensor([[ 8.6995e-02, -2.4743e-01,  7.1603e-03,  ..., -1.5252e-01,\n",
              "          4.2874e-01,  1.8420e-01],\n",
              "        [-2.7107e-01, -2.1655e-01, -1.1418e-01,  ...,  2.2491e-02,\n",
              "          1.8939e-01,  1.2371e-01],\n",
              "        [-5.7565e-01, -1.5535e-01, -1.7763e-01,  ...,  2.5025e-02,\n",
              "         -1.7114e-02,  1.1941e-03],\n",
              "        ...,\n",
              "        [ 2.5866e-01,  5.3723e-02,  2.3259e-01,  ...,  3.6806e-04,\n",
              "          1.5932e-01,  1.1726e-01],\n",
              "        [ 2.8045e-01,  3.2519e-02,  7.8765e-02,  ...,  7.2685e-02,\n",
              "          1.0934e-01,  2.3993e-02],\n",
              "        [ 9.5783e-02,  6.3704e-02,  6.6867e-02,  ...,  2.9128e-02,\n",
              "         -2.3283e-02, -2.7626e-01]])"
            ]
          },
          "metadata": {
            "tags": []
          },
          "execution_count": 28
        }
      ]
    },
    {
      "cell_type": "code",
      "metadata": {
        "id": "K75ZIK0Hppff"
      },
      "source": [
        "features = last_hidden_states[0][:,0,:].numpy()\n",
        "labels = batch_1['sentiment_index']\n"
      ],
      "execution_count": 29,
      "outputs": []
    },
    {
      "cell_type": "code",
      "metadata": {
        "id": "aUSDtw91M64f"
      },
      "source": [
        ""
      ],
      "execution_count": 29,
      "outputs": []
    },
    {
      "cell_type": "markdown",
      "metadata": {
        "id": "vNR3kuS2M6oH"
      },
      "source": [
        "# Тренировка BERT'а"
      ]
    },
    {
      "cell_type": "code",
      "metadata": {
        "id": "qFr1jLASNSYS"
      },
      "source": [
        "model_class_b, tokenizer_class_b, pretrained_weights_b = (ppb.BertModel, ppb.BertTokenizer, 'bert-base-uncased')\n",
        "\n",
        "tokenizer_b = tokenizer_class.from_pretrained(pretrained_weights_b)\n",
        "model_b = model_class_b.from_pretrained(pretrained_weights_b)\n"
      ],
      "execution_count": 30,
      "outputs": []
    },
    {
      "cell_type": "code",
      "metadata": {
        "id": "Nhdh8cYpNSYZ"
      },
      "source": [
        "tokenized_b = pd.Series(batch_1['review_trimmed_processed']).apply(lambda x: tokenizer_b.encode(x, add_special_tokens=True))"
      ],
      "execution_count": 31,
      "outputs": []
    },
    {
      "cell_type": "code",
      "metadata": {
        "colab": {
          "base_uri": "https://localhost:8080/",
          "height": 102
        },
        "id": "SdDg69-PNSYZ",
        "outputId": "e1894490-eaf5-47b7-f1cf-409ce0f0650a"
      },
      "source": [
        "tokenizer_b.decode(tokenized[0])\n"
      ],
      "execution_count": 32,
      "outputs": [
        {
          "output_type": "execute_result",
          "data": {
            "application/vnd.google.colaboratory.intrinsic+json": {
              "type": "string"
            },
            "text/plain": [
              "'[CLS] one of the other reviewers has mentioned that after watching just 1 oz episode you ll be hooked they are right as this is exactly what happened with me br br the first thing that struck me about oz was its brutality and unflinching scenes of violence which set in right from the word go trust me this is not a show for the faint hearted or timid this show pulls no punches with regards to drugs sex or violence its is hardcore in the classic use of the word br br it is called oz [SEP]'"
            ]
          },
          "metadata": {
            "tags": []
          },
          "execution_count": 32
        }
      ]
    },
    {
      "cell_type": "code",
      "metadata": {
        "colab": {
          "base_uri": "https://localhost:8080/"
        },
        "id": "OCrPp9xNNSYa",
        "outputId": "4488ea29-4a30-4cb3-b58f-1897f8c254b5"
      },
      "source": [
        "tokenizer_b.vocab['[CLS]']\n"
      ],
      "execution_count": 33,
      "outputs": [
        {
          "output_type": "execute_result",
          "data": {
            "text/plain": [
              "101"
            ]
          },
          "metadata": {
            "tags": []
          },
          "execution_count": 33
        }
      ]
    },
    {
      "cell_type": "code",
      "metadata": {
        "id": "ZiCZGqfmNSYa"
      },
      "source": [
        "max_len = 0\n",
        "for i in tokenized_b.values:\n",
        "    if len(i) > max_len:\n",
        "        max_len = len(i)\n",
        "\n",
        "padded_b = np.array([i + [0]*(max_len-len(i)) for i in tokenized_b.values])"
      ],
      "execution_count": 34,
      "outputs": []
    },
    {
      "cell_type": "code",
      "metadata": {
        "colab": {
          "base_uri": "https://localhost:8080/"
        },
        "id": "BavpLFNNNSYb",
        "outputId": "b7faa058-d6f1-4805-ea37-ee882f26ee25"
      },
      "source": [
        "np.array(padded_b).shape\n"
      ],
      "execution_count": 35,
      "outputs": [
        {
          "output_type": "execute_result",
          "data": {
            "text/plain": [
              "(500, 120)"
            ]
          },
          "metadata": {
            "tags": []
          },
          "execution_count": 35
        }
      ]
    },
    {
      "cell_type": "code",
      "metadata": {
        "colab": {
          "base_uri": "https://localhost:8080/"
        },
        "id": "wh_9epjQNSYb",
        "outputId": "19ca7908-0464-4577-8a3d-449a97022e7e"
      },
      "source": [
        "padded_b[0]\n"
      ],
      "execution_count": 36,
      "outputs": [
        {
          "output_type": "execute_result",
          "data": {
            "text/plain": [
              "array([  101,  2028,  1997,  1996,  2060, 15814,  2038,  3855,  2008,\n",
              "        2044,  3666,  2074,  1015, 11472,  2792,  2017,  2222,  2022,\n",
              "       13322,  2027,  2024,  2157,  2004,  2023,  2003,  3599,  2054,\n",
              "        3047,  2007,  2033,  7987,  7987,  1996,  2034,  2518,  2008,\n",
              "        4930,  2033,  2055, 11472,  2001,  2049, 24083,  1998,  4895,\n",
              "       10258,  2378,  8450,  5019,  1997,  4808,  2029,  2275,  1999,\n",
              "        2157,  2013,  1996,  2773,  2175,  3404,  2033,  2023,  2003,\n",
              "        2025,  1037,  2265,  2005,  1996,  8143, 18627,  2030,  5199,\n",
              "        3593,  2023,  2265,  8005,  2053, 17957,  2007, 12362,  2000,\n",
              "        5850,  3348,  2030,  4808,  2049,  2003, 13076,  1999,  1996,\n",
              "        4438,  2224,  1997,  1996,  2773,  7987,  7987,  2009,  2003,\n",
              "        2170, 11472,   102,     0,     0,     0,     0,     0,     0,\n",
              "           0,     0,     0,     0,     0,     0,     0,     0,     0,\n",
              "           0,     0,     0])"
            ]
          },
          "metadata": {
            "tags": []
          },
          "execution_count": 36
        }
      ]
    },
    {
      "cell_type": "code",
      "metadata": {
        "colab": {
          "base_uri": "https://localhost:8080/",
          "height": 35
        },
        "id": "Ww8JUK3fNSYc",
        "outputId": "1c74e769-48d8-471f-c261-35efa501778f"
      },
      "source": [
        "tokenizer_b.ids_to_tokens[0]\n"
      ],
      "execution_count": 37,
      "outputs": [
        {
          "output_type": "execute_result",
          "data": {
            "application/vnd.google.colaboratory.intrinsic+json": {
              "type": "string"
            },
            "text/plain": [
              "'[PAD]'"
            ]
          },
          "metadata": {
            "tags": []
          },
          "execution_count": 37
        }
      ]
    },
    {
      "cell_type": "markdown",
      "metadata": {
        "id": "kerYH_1eNSYd"
      },
      "source": [
        "## Создаём маску"
      ]
    },
    {
      "cell_type": "code",
      "metadata": {
        "id": "oRVLAHQaNSYd"
      },
      "source": [
        ""
      ],
      "execution_count": 37,
      "outputs": []
    },
    {
      "cell_type": "code",
      "metadata": {
        "colab": {
          "base_uri": "https://localhost:8080/"
        },
        "id": "RU8gSdXKNSYd",
        "outputId": "eb72c885-f926-4608-928d-a7a5b062dde6"
      },
      "source": [
        "attention_mask_b = np.where(padded_b != 0, 1, 0)\n",
        "attention_mask_b.shape"
      ],
      "execution_count": 38,
      "outputs": [
        {
          "output_type": "execute_result",
          "data": {
            "text/plain": [
              "(500, 120)"
            ]
          },
          "metadata": {
            "tags": []
          },
          "execution_count": 38
        }
      ]
    },
    {
      "cell_type": "code",
      "metadata": {
        "colab": {
          "base_uri": "https://localhost:8080/"
        },
        "id": "76LTu6kCNSYd",
        "outputId": "37811561-e68e-4e8b-9afd-b27ae03f44b9"
      },
      "source": [
        "len(tokenized_b[0])\n"
      ],
      "execution_count": 39,
      "outputs": [
        {
          "output_type": "execute_result",
          "data": {
            "text/plain": [
              "102"
            ]
          },
          "metadata": {
            "tags": []
          },
          "execution_count": 39
        }
      ]
    },
    {
      "cell_type": "code",
      "metadata": {
        "colab": {
          "base_uri": "https://localhost:8080/"
        },
        "id": "X1bGUU3iNSYd",
        "outputId": "dbbc5471-f48b-4c0a-e41d-2d0b1520d458"
      },
      "source": [
        "attention_mask_b[0]"
      ],
      "execution_count": 40,
      "outputs": [
        {
          "output_type": "execute_result",
          "data": {
            "text/plain": [
              "array([1, 1, 1, 1, 1, 1, 1, 1, 1, 1, 1, 1, 1, 1, 1, 1, 1, 1, 1, 1, 1, 1,\n",
              "       1, 1, 1, 1, 1, 1, 1, 1, 1, 1, 1, 1, 1, 1, 1, 1, 1, 1, 1, 1, 1, 1,\n",
              "       1, 1, 1, 1, 1, 1, 1, 1, 1, 1, 1, 1, 1, 1, 1, 1, 1, 1, 1, 1, 1, 1,\n",
              "       1, 1, 1, 1, 1, 1, 1, 1, 1, 1, 1, 1, 1, 1, 1, 1, 1, 1, 1, 1, 1, 1,\n",
              "       1, 1, 1, 1, 1, 1, 1, 1, 1, 1, 1, 1, 1, 1, 0, 0, 0, 0, 0, 0, 0, 0,\n",
              "       0, 0, 0, 0, 0, 0, 0, 0, 0, 0])"
            ]
          },
          "metadata": {
            "tags": []
          },
          "execution_count": 40
        }
      ]
    },
    {
      "cell_type": "code",
      "metadata": {
        "id": "MW35_8urNSYe"
      },
      "source": [
        "input_ids_b = torch.tensor(padded_b)  \n",
        "attention_mask_b = torch.tensor(attention_mask_b)\n",
        "\n",
        "with torch.no_grad():\n",
        "    last_hidden_states_b = model(input_ids_b, attention_mask=attention_mask_b)"
      ],
      "execution_count": 41,
      "outputs": []
    },
    {
      "cell_type": "code",
      "metadata": {
        "colab": {
          "base_uri": "https://localhost:8080/"
        },
        "id": "lAjXA5VFNSYe",
        "outputId": "57bc3be3-b888-4fca-86b2-0746ce2b4989"
      },
      "source": [
        "last_hidden_states_b[0][0]\n"
      ],
      "execution_count": 42,
      "outputs": [
        {
          "output_type": "execute_result",
          "data": {
            "text/plain": [
              "tensor([[ 8.6995e-02, -2.4743e-01,  7.1603e-03,  ..., -1.5252e-01,\n",
              "          4.2874e-01,  1.8420e-01],\n",
              "        [-2.7107e-01, -2.1655e-01, -1.1418e-01,  ...,  2.2491e-02,\n",
              "          1.8939e-01,  1.2371e-01],\n",
              "        [-5.7565e-01, -1.5535e-01, -1.7763e-01,  ...,  2.5025e-02,\n",
              "         -1.7114e-02,  1.1941e-03],\n",
              "        ...,\n",
              "        [ 2.5866e-01,  5.3723e-02,  2.3259e-01,  ...,  3.6806e-04,\n",
              "          1.5932e-01,  1.1726e-01],\n",
              "        [ 2.8045e-01,  3.2519e-02,  7.8765e-02,  ...,  7.2685e-02,\n",
              "          1.0934e-01,  2.3993e-02],\n",
              "        [ 9.5783e-02,  6.3704e-02,  6.6867e-02,  ...,  2.9128e-02,\n",
              "         -2.3283e-02, -2.7626e-01]])"
            ]
          },
          "metadata": {
            "tags": []
          },
          "execution_count": 42
        }
      ]
    },
    {
      "cell_type": "code",
      "metadata": {
        "id": "1IJFBFTwNSYe"
      },
      "source": [
        "features_b = last_hidden_states_b[0][:,0,:].numpy()\n",
        "labels_b = batch_1['sentiment_index']\n"
      ],
      "execution_count": 43,
      "outputs": []
    },
    {
      "cell_type": "markdown",
      "metadata": {
        "id": "lD3nborXhjgb"
      },
      "source": [
        "# Подготовка модели (BERT и не-BERT)"
      ]
    },
    {
      "cell_type": "code",
      "metadata": {
        "id": "CFjYSjv7hiZG"
      },
      "source": [
        "train_features, test_features, train_labels, test_labels = train_test_split(features, labels)"
      ],
      "execution_count": 44,
      "outputs": []
    },
    {
      "cell_type": "code",
      "metadata": {
        "id": "DUuXNF5HO1AP"
      },
      "source": [
        "train_features_b, test_features_b, train_labels_b, test_labels_b = train_test_split(features_b, labels_b)"
      ],
      "execution_count": 45,
      "outputs": []
    },
    {
      "cell_type": "code",
      "metadata": {
        "id": "0T315YuS3lmV"
      },
      "source": [
        "SEED = 227\n",
        "np.random.seed(SEED)\n",
        "df_train_no_bert, df_test_no_bert = train_test_split(batch_1, \n",
        "                                                     train_size=0.5, \n",
        "                                                     test_size=0.5, \n",
        "                                                     stratify=batch_1.sentiment_index, \n",
        "                                                     random_state=SEED)\n"
      ],
      "execution_count": 46,
      "outputs": []
    },
    {
      "cell_type": "code",
      "metadata": {
        "id": "GKDgQc4u4kKy"
      },
      "source": [
        "y_train_no_bert = df_train_no_bert.sentiment_index\n",
        "y_test_no_bert = df_test_no_bert.sentiment_index"
      ],
      "execution_count": 47,
      "outputs": []
    },
    {
      "cell_type": "code",
      "metadata": {
        "id": "EhLs1NZ066XK"
      },
      "source": [
        "from sklearn.metrics import f1_score, classification_report, accuracy_score"
      ],
      "execution_count": 48,
      "outputs": []
    },
    {
      "cell_type": "markdown",
      "metadata": {
        "id": "25lx0iuZq5-g"
      },
      "source": [
        "## 1) Логистическая регрессия (DistilBert)"
      ]
    },
    {
      "cell_type": "code",
      "metadata": {
        "colab": {
          "base_uri": "https://localhost:8080/"
        },
        "id": "YibLGTvOppiJ",
        "outputId": "0cd8452a-6cec-4bb6-dce6-e27a49c4b99c"
      },
      "source": [
        "lr_clf = LogisticRegression()\n",
        "lr_clf.fit(train_features, train_labels)"
      ],
      "execution_count": 49,
      "outputs": [
        {
          "output_type": "execute_result",
          "data": {
            "text/plain": [
              "LogisticRegression(C=1.0, class_weight=None, dual=False, fit_intercept=True,\n",
              "                   intercept_scaling=1, l1_ratio=None, max_iter=100,\n",
              "                   multi_class='auto', n_jobs=None, penalty='l2',\n",
              "                   random_state=None, solver='lbfgs', tol=0.0001, verbose=0,\n",
              "                   warm_start=False)"
            ]
          },
          "metadata": {
            "tags": []
          },
          "execution_count": 49
        }
      ]
    },
    {
      "cell_type": "code",
      "metadata": {
        "colab": {
          "base_uri": "https://localhost:8080/"
        },
        "id": "KA04vab1pppJ",
        "outputId": "ea803368-a56c-46bf-fcd4-44b8281e3345"
      },
      "source": [
        "\n",
        "\n",
        "pred_labels = lr_clf.predict(test_features)\n",
        "print(classification_report(test_labels, pred_labels))\n",
        "print(f'Accuracy: {accuracy_score(pred_labels, test_labels)}')"
      ],
      "execution_count": 50,
      "outputs": [
        {
          "output_type": "stream",
          "text": [
            "              precision    recall  f1-score   support\n",
            "\n",
            "           0       0.79      0.81      0.80        67\n",
            "           1       0.77      0.76      0.77        58\n",
            "\n",
            "    accuracy                           0.78       125\n",
            "   macro avg       0.78      0.78      0.78       125\n",
            "weighted avg       0.78      0.78      0.78       125\n",
            "\n",
            "Accuracy: 0.784\n"
          ],
          "name": "stdout"
        }
      ]
    },
    {
      "cell_type": "markdown",
      "metadata": {
        "id": "bpkPgytKxUlq"
      },
      "source": [
        "## 2) Логистическая регрессия + gridsearch (DistilBert)"
      ]
    },
    {
      "cell_type": "code",
      "metadata": {
        "colab": {
          "base_uri": "https://localhost:8080/"
        },
        "id": "klTnOnOpAdn6",
        "outputId": "8348f67a-6f22-4488-a938-085d1d6fca26"
      },
      "source": [
        "from sklearn.model_selection import GridSearchCV\n",
        "\n",
        "params = {'C': [0.001, 0.01, 0.1, 1, 10, 100, 1000] }\n",
        "\n",
        "lr_clf_2 = GridSearchCV(LogisticRegression(), \n",
        "                    params,\n",
        "                    scoring='accuracy',\n",
        "                    verbose=True)\n",
        "\n",
        "lr_clf_2.fit(train_features, train_labels)"
      ],
      "execution_count": 51,
      "outputs": [
        {
          "output_type": "stream",
          "text": [
            "Fitting 5 folds for each of 7 candidates, totalling 35 fits\n"
          ],
          "name": "stdout"
        },
        {
          "output_type": "stream",
          "text": [
            "[Parallel(n_jobs=1)]: Using backend SequentialBackend with 1 concurrent workers.\n",
            "[Parallel(n_jobs=1)]: Done  35 out of  35 | elapsed:    2.4s finished\n"
          ],
          "name": "stderr"
        },
        {
          "output_type": "execute_result",
          "data": {
            "text/plain": [
              "GridSearchCV(cv=None, error_score=nan,\n",
              "             estimator=LogisticRegression(C=1.0, class_weight=None, dual=False,\n",
              "                                          fit_intercept=True,\n",
              "                                          intercept_scaling=1, l1_ratio=None,\n",
              "                                          max_iter=100, multi_class='auto',\n",
              "                                          n_jobs=None, penalty='l2',\n",
              "                                          random_state=None, solver='lbfgs',\n",
              "                                          tol=0.0001, verbose=0,\n",
              "                                          warm_start=False),\n",
              "             iid='deprecated', n_jobs=None,\n",
              "             param_grid={'C': [0.001, 0.01, 0.1, 1, 10, 100, 1000]},\n",
              "             pre_dispatch='2*n_jobs', refit=True, return_train_score=False,\n",
              "             scoring='accuracy', verbose=True)"
            ]
          },
          "metadata": {
            "tags": []
          },
          "execution_count": 51
        }
      ]
    },
    {
      "cell_type": "code",
      "metadata": {
        "colab": {
          "base_uri": "https://localhost:8080/"
        },
        "id": "wvDyaZ1Pr_Az",
        "outputId": "93fe344f-d80d-4694-8103-4a994859d15f"
      },
      "source": [
        "pred_labels = lr_clf_2.predict(test_features)\n",
        "print(classification_report(test_labels, pred_labels))\n",
        "print(f'Accuracy: {accuracy_score(pred_labels, test_labels)}')"
      ],
      "execution_count": 52,
      "outputs": [
        {
          "output_type": "stream",
          "text": [
            "              precision    recall  f1-score   support\n",
            "\n",
            "           0       0.79      0.79      0.79        67\n",
            "           1       0.76      0.76      0.76        58\n",
            "\n",
            "    accuracy                           0.78       125\n",
            "   macro avg       0.77      0.77      0.77       125\n",
            "weighted avg       0.78      0.78      0.78       125\n",
            "\n",
            "Accuracy: 0.776\n"
          ],
          "name": "stdout"
        }
      ]
    },
    {
      "cell_type": "markdown",
      "metadata": {
        "id": "g0kapkLuPAvI"
      },
      "source": [
        "## 3) Логистическая регрессия (BERT)"
      ]
    },
    {
      "cell_type": "code",
      "metadata": {
        "colab": {
          "base_uri": "https://localhost:8080/"
        },
        "id": "NnjovRMFPAvN",
        "outputId": "5e8c8fb2-fac2-4929-e4be-5745a95328c6"
      },
      "source": [
        "lr_clf_b = LogisticRegression()\n",
        "lr_clf_b.fit(train_features_b, train_labels_b)"
      ],
      "execution_count": 53,
      "outputs": [
        {
          "output_type": "execute_result",
          "data": {
            "text/plain": [
              "LogisticRegression(C=1.0, class_weight=None, dual=False, fit_intercept=True,\n",
              "                   intercept_scaling=1, l1_ratio=None, max_iter=100,\n",
              "                   multi_class='auto', n_jobs=None, penalty='l2',\n",
              "                   random_state=None, solver='lbfgs', tol=0.0001, verbose=0,\n",
              "                   warm_start=False)"
            ]
          },
          "metadata": {
            "tags": []
          },
          "execution_count": 53
        }
      ]
    },
    {
      "cell_type": "code",
      "metadata": {
        "colab": {
          "base_uri": "https://localhost:8080/"
        },
        "id": "-kWAejN1PAvO",
        "outputId": "f93024c2-c469-4181-8f33-54560afeb7dc"
      },
      "source": [
        "pred_labels = lr_clf_b.predict(test_features_b)\n",
        "\n",
        "print(classification_report(test_labels_b, pred_labels))\n",
        "\n",
        "print(f'Accuracy: {accuracy_score(pred_labels, test_labels_b)}')\n"
      ],
      "execution_count": 54,
      "outputs": [
        {
          "output_type": "stream",
          "text": [
            "              precision    recall  f1-score   support\n",
            "\n",
            "           0       0.80      0.76      0.78        62\n",
            "           1       0.77      0.81      0.79        63\n",
            "\n",
            "    accuracy                           0.78       125\n",
            "   macro avg       0.78      0.78      0.78       125\n",
            "weighted avg       0.78      0.78      0.78       125\n",
            "\n",
            "Accuracy: 0.784\n"
          ],
          "name": "stdout"
        }
      ]
    },
    {
      "cell_type": "markdown",
      "metadata": {
        "id": "g-XpuWVBPAvO"
      },
      "source": [
        "## 4) Логистическая регрессия + gridsearch (BERT)"
      ]
    },
    {
      "cell_type": "code",
      "metadata": {
        "colab": {
          "base_uri": "https://localhost:8080/"
        },
        "id": "8NcrTjqJPAvO",
        "outputId": "a240ca28-1491-41e4-9926-7d0c72fa716f"
      },
      "source": [
        "from sklearn.model_selection import GridSearchCV\n",
        "\n",
        "params = {'C': [0.001, 0.01, 0.1, 1, 10, 100, 1000] }\n",
        "\n",
        "lr_clf_2 = GridSearchCV(LogisticRegression(), \n",
        "                    params,\n",
        "                    scoring='accuracy',\n",
        "                    verbose=True)\n",
        "\n",
        "lr_clf_2.fit(train_features_b, train_labels_b)\n"
      ],
      "execution_count": 55,
      "outputs": [
        {
          "output_type": "stream",
          "text": [
            "Fitting 5 folds for each of 7 candidates, totalling 35 fits\n"
          ],
          "name": "stdout"
        },
        {
          "output_type": "stream",
          "text": [
            "[Parallel(n_jobs=1)]: Using backend SequentialBackend with 1 concurrent workers.\n",
            "[Parallel(n_jobs=1)]: Done  35 out of  35 | elapsed:    2.3s finished\n"
          ],
          "name": "stderr"
        },
        {
          "output_type": "execute_result",
          "data": {
            "text/plain": [
              "GridSearchCV(cv=None, error_score=nan,\n",
              "             estimator=LogisticRegression(C=1.0, class_weight=None, dual=False,\n",
              "                                          fit_intercept=True,\n",
              "                                          intercept_scaling=1, l1_ratio=None,\n",
              "                                          max_iter=100, multi_class='auto',\n",
              "                                          n_jobs=None, penalty='l2',\n",
              "                                          random_state=None, solver='lbfgs',\n",
              "                                          tol=0.0001, verbose=0,\n",
              "                                          warm_start=False),\n",
              "             iid='deprecated', n_jobs=None,\n",
              "             param_grid={'C': [0.001, 0.01, 0.1, 1, 10, 100, 1000]},\n",
              "             pre_dispatch='2*n_jobs', refit=True, return_train_score=False,\n",
              "             scoring='accuracy', verbose=True)"
            ]
          },
          "metadata": {
            "tags": []
          },
          "execution_count": 55
        }
      ]
    },
    {
      "cell_type": "code",
      "metadata": {
        "colab": {
          "base_uri": "https://localhost:8080/"
        },
        "id": "Lm18FzI5PAvP",
        "outputId": "25b7c552-9351-4c02-9e8f-829d52161791"
      },
      "source": [
        "pred_labels = lr_clf_2.predict(test_features_b)\n",
        "\n",
        "print(classification_report(test_labels_b, pred_labels))\n",
        "\n",
        "print(f'Accuracy: {accuracy_score(pred_labels, test_labels_b)}')\n"
      ],
      "execution_count": 56,
      "outputs": [
        {
          "output_type": "stream",
          "text": [
            "              precision    recall  f1-score   support\n",
            "\n",
            "           0       0.80      0.76      0.78        62\n",
            "           1       0.77      0.81      0.79        63\n",
            "\n",
            "    accuracy                           0.78       125\n",
            "   macro avg       0.78      0.78      0.78       125\n",
            "weighted avg       0.78      0.78      0.78       125\n",
            "\n",
            "Accuracy: 0.784\n"
          ],
          "name": "stdout"
        }
      ]
    },
    {
      "cell_type": "markdown",
      "metadata": {
        "id": "Nwm5jQN1MCr-"
      },
      "source": [
        "# Сверяем модели БЕЗ BERT'а"
      ]
    },
    {
      "cell_type": "markdown",
      "metadata": {
        "id": "E9-j0ZZM3X2E"
      },
      "source": [
        "## 1) Без BERT-а; CountVectorizer"
      ]
    },
    {
      "cell_type": "code",
      "metadata": {
        "id": "UBvAarSp4u9y"
      },
      "source": [
        "from sklearn.feature_extraction.text import CountVectorizer, TfidfVectorizer, HashingVectorizer, TfidfTransformer"
      ],
      "execution_count": 57,
      "outputs": []
    },
    {
      "cell_type": "code",
      "metadata": {
        "colab": {
          "base_uri": "https://localhost:8080/"
        },
        "id": "vjaGGcwhr_C6",
        "outputId": "185539f1-ae7a-460b-a262-9cec0a7157a4"
      },
      "source": [
        "%%time\n",
        "\n",
        "from sklearn.naive_bayes import *\n",
        "\n",
        "count_vectorizer = CountVectorizer()\n",
        "X_train_count = count_vectorizer.fit_transform(df_train_no_bert.review_trimmed_processed)\n",
        "X_test_count = count_vectorizer.transform(df_test_no_bert.review_trimmed_processed)\n",
        "X_train = X_train_count\n",
        "X_test = X_test_count\n",
        "\n",
        "tf_idf = CountVectorizer(ngram_range=(1, 3),\n",
        "                         binary=True)\n",
        "X_train_tfidf = tf_idf.fit_transform(df_train_no_bert)\n",
        "X_test_tfidf = tf_idf.transform(df_test_no_bert)"
      ],
      "execution_count": 58,
      "outputs": [
        {
          "output_type": "stream",
          "text": [
            "CPU times: user 72.5 ms, sys: 53.7 ms, total: 126 ms\n",
            "Wall time: 79.6 ms\n"
          ],
          "name": "stdout"
        }
      ]
    },
    {
      "cell_type": "code",
      "metadata": {
        "colab": {
          "base_uri": "https://localhost:8080/"
        },
        "id": "2S_phLoG5xeG",
        "outputId": "8209f69e-22f1-47e9-d0bd-142339872c7d"
      },
      "source": [
        "model = MultinomialNB()\n",
        "model.fit(X_train, y_train_no_bert)"
      ],
      "execution_count": 59,
      "outputs": [
        {
          "output_type": "execute_result",
          "data": {
            "text/plain": [
              "MultinomialNB(alpha=1.0, class_prior=None, fit_prior=True)"
            ]
          },
          "metadata": {
            "tags": []
          },
          "execution_count": 59
        }
      ]
    },
    {
      "cell_type": "code",
      "metadata": {
        "colab": {
          "base_uri": "https://localhost:8080/"
        },
        "id": "yY7NnGMF5xg9",
        "outputId": "7d854ef5-4438-416f-d98c-bbd49a657c5e"
      },
      "source": [
        "y_pred = model.predict(X_test)\n",
        "print(classification_report(y_test_no_bert, y_pred))\n",
        "print(f'Accuracy: {accuracy_score(y_pred, y_test_no_bert)}')"
      ],
      "execution_count": 60,
      "outputs": [
        {
          "output_type": "stream",
          "text": [
            "              precision    recall  f1-score   support\n",
            "\n",
            "           0       0.66      0.84      0.74       132\n",
            "           1       0.74      0.52      0.61       118\n",
            "\n",
            "    accuracy                           0.69       250\n",
            "   macro avg       0.70      0.68      0.68       250\n",
            "weighted avg       0.70      0.69      0.68       250\n",
            "\n",
            "Accuracy: 0.688\n"
          ],
          "name": "stdout"
        }
      ]
    },
    {
      "cell_type": "code",
      "metadata": {
        "id": "e0qT2rdB5xk0"
      },
      "source": [
        ""
      ],
      "execution_count": 60,
      "outputs": []
    },
    {
      "cell_type": "code",
      "metadata": {
        "id": "BRN_0F3Zr_Fe"
      },
      "source": [
        ""
      ],
      "execution_count": 60,
      "outputs": []
    },
    {
      "cell_type": "markdown",
      "metadata": {
        "id": "hIJ0UuCvDeO_"
      },
      "source": [
        "## 2) Без BERT-а; TfidfVectorizer по словам + Logistic Regression"
      ]
    },
    {
      "cell_type": "code",
      "metadata": {
        "colab": {
          "base_uri": "https://localhost:8080/"
        },
        "id": "2G_ShRCwDdNS",
        "outputId": "96d8ae91-87f3-4d3e-f2a9-dfc770bab4ee"
      },
      "source": [
        "%%time\n",
        "tfidf_vectorizer = TfidfVectorizer()\n",
        "X_train_tfidf = tfidf_vectorizer.fit_transform(df_train_no_bert.review_trimmed_processed)\n",
        "X_test_tfidf = tfidf_vectorizer.transform(df_test_no_bert.review_trimmed_processed)\n",
        "X_train = X_train_tfidf\n",
        "X_test = X_test_tfidf"
      ],
      "execution_count": 61,
      "outputs": [
        {
          "output_type": "stream",
          "text": [
            "CPU times: user 60.1 ms, sys: 1.01 ms, total: 61.2 ms\n",
            "Wall time: 59.7 ms\n"
          ],
          "name": "stdout"
        }
      ]
    },
    {
      "cell_type": "code",
      "metadata": {
        "colab": {
          "base_uri": "https://localhost:8080/"
        },
        "id": "ewoYUguyDdPi",
        "outputId": "9adbcd77-1275-4051-9b94-94180e37ab66"
      },
      "source": [
        "%%time\n",
        "model = LogisticRegression(random_state=SEED, solver='liblinear')\n",
        "model.fit(X_train, y_train_no_bert)"
      ],
      "execution_count": 62,
      "outputs": [
        {
          "output_type": "stream",
          "text": [
            "CPU times: user 3.87 ms, sys: 0 ns, total: 3.87 ms\n",
            "Wall time: 7 ms\n"
          ],
          "name": "stdout"
        }
      ]
    },
    {
      "cell_type": "code",
      "metadata": {
        "colab": {
          "base_uri": "https://localhost:8080/"
        },
        "id": "sgiMooMBDdR1",
        "outputId": "fe8761cb-0233-486a-ba29-0e623a177df9"
      },
      "source": [
        "y_pred = model.predict(X_test)\n",
        "print(classification_report(y_test_no_bert, y_pred))\n",
        "print(f'Accuracy: {accuracy_score(y_pred, y_test_no_bert)}')"
      ],
      "execution_count": 63,
      "outputs": [
        {
          "output_type": "stream",
          "text": [
            "              precision    recall  f1-score   support\n",
            "\n",
            "           0       0.65      0.83      0.73       132\n",
            "           1       0.72      0.49      0.59       118\n",
            "\n",
            "    accuracy                           0.67       250\n",
            "   macro avg       0.69      0.66      0.66       250\n",
            "weighted avg       0.68      0.67      0.66       250\n",
            "\n",
            "Accuracy: 0.672\n"
          ],
          "name": "stdout"
        }
      ]
    },
    {
      "cell_type": "code",
      "metadata": {
        "id": "QPgkx_G_DdUn"
      },
      "source": [
        ""
      ],
      "execution_count": 63,
      "outputs": []
    },
    {
      "cell_type": "code",
      "metadata": {
        "id": "un26tdQTtRN2"
      },
      "source": [
        ""
      ],
      "execution_count": 63,
      "outputs": []
    },
    {
      "cell_type": "markdown",
      "metadata": {
        "id": "Pdk9PPGjGsW2"
      },
      "source": [
        "## 3) TfidfVectorizer по 1-3 граммам слов + TfidfVectorizer по 3-4 граммам символов + LogisticRegression"
      ]
    },
    {
      "cell_type": "code",
      "metadata": {
        "colab": {
          "base_uri": "https://localhost:8080/"
        },
        "id": "LXmybN_nHRYK",
        "outputId": "97aeb1ff-0b93-4eb4-b437-1dcc541ab454"
      },
      "source": [
        "%%time\n",
        "\n",
        "from scipy.sparse import coo_matrix, hstack\n",
        "\n",
        "tfidf_vectorizer = TfidfVectorizer(ngram_range=(1, 4))\n",
        "X_train_tfidf = tfidf_vectorizer.fit_transform(df_train_no_bert.review_trimmed_processed)\n",
        "X_test_tfidf = tfidf_vectorizer.transform(df_test_no_bert.review_trimmed_processed)\n",
        "\n",
        "tfidf_vectorizer_char = TfidfVectorizer(ngram_range=(3, 4), analyzer='char')\n",
        "X_train_tfidf_char = tfidf_vectorizer_char.fit_transform(df_train_no_bert.review_trimmed_processed)\n",
        "X_test_tfidf_char = tfidf_vectorizer_char.transform(df_test_no_bert.review_trimmed_processed)\n",
        "\n",
        "X_train = hstack((X_train_tfidf, X_train_tfidf_char))\n",
        "X_test = hstack((X_test_tfidf, X_test_tfidf_char))"
      ],
      "execution_count": 64,
      "outputs": [
        {
          "output_type": "stream",
          "text": [
            "CPU times: user 829 ms, sys: 10.5 ms, total: 840 ms\n",
            "Wall time: 854 ms\n"
          ],
          "name": "stdout"
        }
      ]
    },
    {
      "cell_type": "code",
      "metadata": {
        "id": "x_wpfPhFHRWc"
      },
      "source": [
        ""
      ],
      "execution_count": 64,
      "outputs": []
    },
    {
      "cell_type": "code",
      "metadata": {
        "colab": {
          "base_uri": "https://localhost:8080/"
        },
        "id": "QYZzv7itHRVH",
        "outputId": "7e2f5c4f-36b6-482c-b2c7-ecc551d0c436"
      },
      "source": [
        "%%time\n",
        "model = LogisticRegression(random_state=SEED, solver='liblinear')\n",
        "model.fit(X_train, y_train_no_bert)"
      ],
      "execution_count": 65,
      "outputs": [
        {
          "output_type": "stream",
          "text": [
            "CPU times: user 57.1 ms, sys: 29.9 ms, total: 87 ms\n",
            "Wall time: 57.5 ms\n"
          ],
          "name": "stdout"
        }
      ]
    },
    {
      "cell_type": "code",
      "metadata": {
        "id": "g1w0yBbHHRSD"
      },
      "source": [
        ""
      ],
      "execution_count": 65,
      "outputs": []
    },
    {
      "cell_type": "code",
      "metadata": {
        "colab": {
          "base_uri": "https://localhost:8080/"
        },
        "id": "G_yb9KNoHRPd",
        "outputId": "288b606e-c89c-457d-f8ad-9f793a017674"
      },
      "source": [
        "y_pred = model.predict(X_test)\n",
        "print(classification_report(y_test_no_bert, y_pred))\n",
        "print(f'Accuracy: {accuracy_score(y_pred, y_test_no_bert)}')"
      ],
      "execution_count": 66,
      "outputs": [
        {
          "output_type": "stream",
          "text": [
            "              precision    recall  f1-score   support\n",
            "\n",
            "           0       0.66      0.85      0.74       132\n",
            "           1       0.75      0.51      0.61       118\n",
            "\n",
            "    accuracy                           0.69       250\n",
            "   macro avg       0.70      0.68      0.67       250\n",
            "weighted avg       0.70      0.69      0.68       250\n",
            "\n",
            "Accuracy: 0.688\n"
          ],
          "name": "stdout"
        }
      ]
    },
    {
      "cell_type": "code",
      "metadata": {
        "id": "9RMypK_zJvZM"
      },
      "source": [
        ""
      ],
      "execution_count": 66,
      "outputs": []
    },
    {
      "cell_type": "markdown",
      "metadata": {
        "id": "Ze4uarjOQHzU"
      },
      "source": [
        "## 4) TfidfVectorizer + Spacy + Логическая регрессия"
      ]
    },
    {
      "cell_type": "code",
      "metadata": {
        "colab": {
          "base_uri": "https://localhost:8080/"
        },
        "id": "EYKDU-SXQeBr",
        "outputId": "686f750b-22f8-4935-f7fa-2a88d6aba5dd"
      },
      "source": [
        "%%time\n",
        "!python -m spacy download en_core_web_md\n",
        "import spacy \n",
        "import en_core_web_md\n",
        "nlp = en_core_web_md.load()"
      ],
      "execution_count": 67,
      "outputs": [
        {
          "output_type": "stream",
          "text": [
            "Requirement already satisfied: en_core_web_md==2.2.5 from https://github.com/explosion/spacy-models/releases/download/en_core_web_md-2.2.5/en_core_web_md-2.2.5.tar.gz#egg=en_core_web_md==2.2.5 in /usr/local/lib/python3.7/dist-packages (2.2.5)\n",
            "Requirement already satisfied: spacy>=2.2.2 in /usr/local/lib/python3.7/dist-packages (from en_core_web_md==2.2.5) (2.2.4)\n",
            "Requirement already satisfied: thinc==7.4.0 in /usr/local/lib/python3.7/dist-packages (from spacy>=2.2.2->en_core_web_md==2.2.5) (7.4.0)\n",
            "Requirement already satisfied: blis<0.5.0,>=0.4.0 in /usr/local/lib/python3.7/dist-packages (from spacy>=2.2.2->en_core_web_md==2.2.5) (0.4.1)\n",
            "Requirement already satisfied: wasabi<1.1.0,>=0.4.0 in /usr/local/lib/python3.7/dist-packages (from spacy>=2.2.2->en_core_web_md==2.2.5) (0.8.2)\n",
            "Requirement already satisfied: setuptools in /usr/local/lib/python3.7/dist-packages (from spacy>=2.2.2->en_core_web_md==2.2.5) (54.2.0)\n",
            "Requirement already satisfied: tqdm<5.0.0,>=4.38.0 in /usr/local/lib/python3.7/dist-packages (from spacy>=2.2.2->en_core_web_md==2.2.5) (4.41.1)\n",
            "Requirement already satisfied: requests<3.0.0,>=2.13.0 in /usr/local/lib/python3.7/dist-packages (from spacy>=2.2.2->en_core_web_md==2.2.5) (2.23.0)\n",
            "Requirement already satisfied: plac<1.2.0,>=0.9.6 in /usr/local/lib/python3.7/dist-packages (from spacy>=2.2.2->en_core_web_md==2.2.5) (1.1.3)\n",
            "Requirement already satisfied: numpy>=1.15.0 in /usr/local/lib/python3.7/dist-packages (from spacy>=2.2.2->en_core_web_md==2.2.5) (1.19.5)\n",
            "Requirement already satisfied: cymem<2.1.0,>=2.0.2 in /usr/local/lib/python3.7/dist-packages (from spacy>=2.2.2->en_core_web_md==2.2.5) (2.0.5)\n",
            "Requirement already satisfied: murmurhash<1.1.0,>=0.28.0 in /usr/local/lib/python3.7/dist-packages (from spacy>=2.2.2->en_core_web_md==2.2.5) (1.0.5)\n",
            "Requirement already satisfied: srsly<1.1.0,>=1.0.2 in /usr/local/lib/python3.7/dist-packages (from spacy>=2.2.2->en_core_web_md==2.2.5) (1.0.5)\n",
            "Requirement already satisfied: preshed<3.1.0,>=3.0.2 in /usr/local/lib/python3.7/dist-packages (from spacy>=2.2.2->en_core_web_md==2.2.5) (3.0.5)\n",
            "Requirement already satisfied: catalogue<1.1.0,>=0.0.7 in /usr/local/lib/python3.7/dist-packages (from spacy>=2.2.2->en_core_web_md==2.2.5) (1.0.0)\n",
            "Requirement already satisfied: urllib3!=1.25.0,!=1.25.1,<1.26,>=1.21.1 in /usr/local/lib/python3.7/dist-packages (from requests<3.0.0,>=2.13.0->spacy>=2.2.2->en_core_web_md==2.2.5) (1.24.3)\n",
            "Requirement already satisfied: certifi>=2017.4.17 in /usr/local/lib/python3.7/dist-packages (from requests<3.0.0,>=2.13.0->spacy>=2.2.2->en_core_web_md==2.2.5) (2020.12.5)\n",
            "Requirement already satisfied: chardet<4,>=3.0.2 in /usr/local/lib/python3.7/dist-packages (from requests<3.0.0,>=2.13.0->spacy>=2.2.2->en_core_web_md==2.2.5) (3.0.4)\n",
            "Requirement already satisfied: idna<3,>=2.5 in /usr/local/lib/python3.7/dist-packages (from requests<3.0.0,>=2.13.0->spacy>=2.2.2->en_core_web_md==2.2.5) (2.10)\n",
            "Requirement already satisfied: importlib-metadata>=0.20; python_version < \"3.8\" in /usr/local/lib/python3.7/dist-packages (from catalogue<1.1.0,>=0.0.7->spacy>=2.2.2->en_core_web_md==2.2.5) (3.8.1)\n",
            "Requirement already satisfied: typing-extensions>=3.6.4; python_version < \"3.8\" in /usr/local/lib/python3.7/dist-packages (from importlib-metadata>=0.20; python_version < \"3.8\"->catalogue<1.1.0,>=0.0.7->spacy>=2.2.2->en_core_web_md==2.2.5) (3.7.4.3)\n",
            "Requirement already satisfied: zipp>=0.5 in /usr/local/lib/python3.7/dist-packages (from importlib-metadata>=0.20; python_version < \"3.8\"->catalogue<1.1.0,>=0.0.7->spacy>=2.2.2->en_core_web_md==2.2.5) (3.4.1)\n",
            "\u001b[38;5;2m✔ Download and installation successful\u001b[0m\n",
            "You can now load the model via spacy.load('en_core_web_md')\n",
            "CPU times: user 20.7 s, sys: 692 ms, total: 21.4 s\n",
            "Wall time: 25.7 s\n"
          ],
          "name": "stdout"
        }
      ]
    },
    {
      "cell_type": "code",
      "metadata": {
        "colab": {
          "base_uri": "https://localhost:8080/"
        },
        "id": "r1CSDi9SQgz2",
        "outputId": "262ab1e7-df34-4754-87ab-0266f2443b26"
      },
      "source": [
        "%%time\n",
        "from scipy.sparse.csr import csr_matrix\n",
        "X_train_vectors = csr_matrix([nlp(twi_text).vector for twi_text in df_train_no_bert.review_trimmed_processed])\n",
        "X_test_vectors = csr_matrix([nlp(twi_text).vector for twi_text in df_test_no_bert.review_trimmed_processed])\n",
        "X_train = hstack((X_train_tfidf, X_train_tfidf_char, X_train_vectors))\n",
        "X_test = hstack((X_test_tfidf, X_test_tfidf_char, X_test_vectors))"
      ],
      "execution_count": 68,
      "outputs": [
        {
          "output_type": "stream",
          "text": [
            "CPU times: user 12.9 s, sys: 78.9 ms, total: 13 s\n",
            "Wall time: 13 s\n"
          ],
          "name": "stdout"
        }
      ]
    },
    {
      "cell_type": "code",
      "metadata": {
        "colab": {
          "base_uri": "https://localhost:8080/"
        },
        "id": "sSrmF4JlQg7u",
        "outputId": "49d13028-a8b1-4d09-90e7-58093c0e9a88"
      },
      "source": [
        "%%time\n",
        "model = LogisticRegression(random_state=SEED, solver='liblinear')\n",
        "model.fit(X_train, y_train_no_bert)"
      ],
      "execution_count": 69,
      "outputs": [
        {
          "output_type": "stream",
          "text": [
            "CPU times: user 99.7 ms, sys: 45.9 ms, total: 146 ms\n",
            "Wall time: 86.4 ms\n"
          ],
          "name": "stdout"
        }
      ]
    },
    {
      "cell_type": "code",
      "metadata": {
        "colab": {
          "base_uri": "https://localhost:8080/"
        },
        "id": "NmQR8CbMQhGM",
        "outputId": "c2ed7265-17b0-4ceb-b559-6616910341ca"
      },
      "source": [
        "y_pred = model.predict(X_test)\n",
        "print(classification_report(y_test_no_bert, y_pred))\n",
        "print(f'Accuracy: {accuracy_score(y_pred, y_test_no_bert)}')"
      ],
      "execution_count": 70,
      "outputs": [
        {
          "output_type": "stream",
          "text": [
            "              precision    recall  f1-score   support\n",
            "\n",
            "           0       0.74      0.86      0.79       132\n",
            "           1       0.80      0.66      0.73       118\n",
            "\n",
            "    accuracy                           0.76       250\n",
            "   macro avg       0.77      0.76      0.76       250\n",
            "weighted avg       0.77      0.76      0.76       250\n",
            "\n",
            "Accuracy: 0.764\n"
          ],
          "name": "stdout"
        }
      ]
    }
  ]
}