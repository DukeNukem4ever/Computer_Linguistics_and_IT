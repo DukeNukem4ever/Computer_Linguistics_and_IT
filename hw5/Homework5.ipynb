{
  "nbformat": 4,
  "nbformat_minor": 0,
  "metadata": {
    "colab": {
      "name": "Homework5.ipynb",
      "provenance": [],
      "collapsed_sections": []
    },
    "kernelspec": {
      "name": "python3",
      "display_name": "Python 3"
    }
  },
  "cells": [
    {
      "cell_type": "code",
      "metadata": {
        "id": "eKKC3LI7b0ve"
      },
      "source": [
        "from math import *\n",
        "import random\n",
        "import abc"
      ],
      "execution_count": 16,
      "outputs": []
    },
    {
      "cell_type": "code",
      "metadata": {
        "id": "EgG1NnfhJwx5"
      },
      "source": [
        "class ActivationF(abc.ABC):\n",
        "\n",
        "    @abc.abstractmethod\n",
        "    def calc(self, x):\n",
        "        pass\n",
        "\n",
        "    @abc.abstractmethod\n",
        "    def derive(self, x):\n",
        "        pass\n",
        "\n",
        "    @staticmethod\n",
        "    def from_name(name=\"tanh\"):\n",
        "        if name == \"tanh\":\n",
        "            return TanhF()"
      ],
      "execution_count": 17,
      "outputs": []
    },
    {
      "cell_type": "code",
      "metadata": {
        "id": "lmzSOVNNb0ZB"
      },
      "source": [
        "class TanhF(ActivationF):\n",
        "\n",
        "  def calc(self, x):\n",
        "        act_1 = (exp(x) - exp(-x))/(exp(x) + exp(-x))\n",
        "        return act_1\n",
        "  \n",
        "  def derive(self, x):\n",
        "        act_2 = 1-calc(x)**2\n",
        "        return act_2"
      ],
      "execution_count": 18,
      "outputs": []
    },
    {
      "cell_type": "code",
      "metadata": {
        "colab": {
          "base_uri": "https://localhost:8080/"
        },
        "id": "-M3x7J11y793",
        "outputId": "dd7ffe83-72c0-4e36-f98a-fe918fdb82df"
      },
      "source": [
        "TanhF().calc(2)"
      ],
      "execution_count": 20,
      "outputs": [
        {
          "output_type": "execute_result",
          "data": {
            "text/plain": [
              "0.964027580075817"
            ]
          },
          "metadata": {
            "tags": []
          },
          "execution_count": 20
        }
      ]
    },
    {
      "cell_type": "code",
      "metadata": {
        "id": "9lqP9W890DYr"
      },
      "source": [
        "# def matmult(a,b):\n",
        "#     zip_b = zip(*b)\n",
        "#     # uncomment next line if python 3 : \n",
        "#     zip_b = list(zip_b)\n",
        "#     return [[sum(ele_a*ele_b for ele_a, ele_b in zip(row_a, col_b)) \n",
        "#              for col_b in zip_b] for row_a in a]"
      ],
      "execution_count": 19,
      "outputs": []
    },
    {
      "cell_type": "code",
      "metadata": {
        "id": "j2RM8_kjmS33"
      },
      "source": [
        "class Unit:\n",
        "    def __init__(self, input_size, prev_layer: \"Layer\" = None, activation=\"tanh\"):\n",
        "        self.activation = ActivationF.from_name(activation)\n",
        "        self.weights = [random.uniform(-1, 1) for weight_n in range(input_size)]\n",
        "        self.prev_layer = prev_layer\n",
        "        #self.output_size = output_size\n",
        "        self.input_size = input_size\n",
        "        self.w_mid = sum([(x+1)*int(self.weights[x])for x in range(len(self.weights))])\n",
        "      \n",
        "    def forward(self):\n",
        "        result = 0\n",
        "        if self.prev_layer is not None:\n",
        "          m_l = self.prev_layer.forward()\n",
        "        else:\n",
        "          m_l = self.features\n",
        "          \n",
        "        for w, prev in zip(self.weights, m_l):\n",
        "          result += w * prev\n",
        "\n",
        "        return self.activation.calc(result)\n",
        "\n",
        "    def backward(self, losses, learning_rate=0.01):\n",
        "        \n",
        "        #losses = \n",
        "\n",
        "        if self.prev_layer is not None:\n",
        "          m_l = self.prev_layer.backward()\n",
        "        else:\n",
        "          m_l = self.features\n",
        "        \n",
        "        error = losses * self.activation.derive(w_mid)\n",
        "        print(m_l)\n",
        "        self.n_weights = []\n",
        "        for wei, feat in zip(self.weights, m_l):\n",
        "          n_w = wei * error + feat\n",
        "          self.n_weights.append(n_w)"
      ],
      "execution_count": 45,
      "outputs": []
    },
    {
      "cell_type": "code",
      "metadata": {
        "id": "YgzKdmprmS9g"
      },
      "source": [
        "class Layer:\n",
        "    def __init__(self, input_size, size, prev_layer = None, activation=\"tanh\"):\n",
        "        self.size = size\n",
        "        self.input_size = input_size\n",
        "        self.activation = activation\n",
        "        self.units = [Unit(self.input_size, \n",
        "                           prev_layer=prev_layer, \n",
        "                           #output_size=self.output_size, \n",
        "                           activation=self.activation)\n",
        "                      for unit_n in range(self.size)]\n",
        "    \n",
        "    def forward(self):\n",
        "        return [unit.forward() for unit in self.units]\n",
        "\n",
        "    def backward(self, losses):\n",
        "        loss_units = []\n",
        "        for u, l in zip(self.units, losses):\n",
        "          loss_units.append(u.backward(l))\n",
        "        return loss_units\n",
        "        #return [unit.backward() for unit in self.units]"
      ],
      "execution_count": 46,
      "outputs": []
    },
    {
      "cell_type": "code",
      "metadata": {
        "id": "BaRYu9B6mS6X"
      },
      "source": [
        "class MLP:\n",
        "    def __init__(self, input_size, output_size, sizes, activation=\"tanh\"):\n",
        "        self.activation = activation\n",
        "        self.losses = []\n",
        "        layers_sizes = [input_size] + sizes + [output_size]\n",
        "        \n",
        "        self.layers = []\n",
        "        prev_added_layer = None\n",
        "        for layer_in_size, layer_out_size in zip(layers_sizes[:-1], layers_sizes[1:]):\n",
        "            self.layers.append(Layer(layer_in_size, layer_out_size, prev_layer=prev_added_layer))\n",
        "            prev_added_layer = self.layers[-1]\n",
        "    \n",
        "    def train_single_entry(self, features, target_mhe):\n",
        "        # region forward pass\n",
        "        self.features = features\n",
        "        for unit in self.layers[0].units:\n",
        "            unit.features = self.features\n",
        "\n",
        "        for layer in self.layers:\n",
        "            curr_layer_output = layer.forward()\n",
        "        last_layer_output = curr_layer_output\n",
        "        # endregion forward pass\n",
        "        # лосс с софтмаксом удобно считать вместе -- \n",
        "        # уж больно хорошая получается производная ошибки\n",
        "        # по выходу с последнего лося\n",
        "        # но адекватнее было бы наверное реализовать его тоже как наследника ActivationF\n",
        "        \n",
        "        def softmax(some_data):\n",
        "            es_x = [e ** x for x in some_data]\n",
        "            return [e_x / sum(es_x) for e_x in es_x]\n",
        "\n",
        "        pred = softmax(last_layer_output)\n",
        "        loss = - sum(class_target * log(class_pred)\n",
        "                     for class_target, class_pred in zip(target_mhe, pred))\n",
        "        #self.losses.append(loss)\n",
        "        # region backward pass\n",
        "        dLoss_dLastLayerOutput = [class_pred - class_target\n",
        "                                  for class_target, class_pred in zip(target_mhe, pred)]\n",
        "        \n",
        "        # your code here\n",
        "        # endregion backward pass\n",
        "        #self.losses.append(loss)\n",
        "        #print(dLoss_dLastLayerOutput)\n",
        "        return loss\n",
        "        \n",
        "    # your code here"
      ],
      "execution_count": 101,
      "outputs": []
    },
    {
      "cell_type": "code",
      "metadata": {
        "id": "xi27bJdDn5dA"
      },
      "source": [
        "mlp = MLP(6,5,[8, 7, 15, 137])"
      ],
      "execution_count": 102,
      "outputs": []
    },
    {
      "cell_type": "code",
      "metadata": {
        "colab": {
          "base_uri": "https://localhost:8080/"
        },
        "id": "g2-DQ1kv4M5W",
        "outputId": "e8c33247-6292-474a-edd9-0f787adc90f9"
      },
      "source": [
        "mlp.train_single_entry([11,14, 45, 15],[17,18,16])"
      ],
      "execution_count": 103,
      "outputs": [
        {
          "output_type": "execute_result",
          "data": {
            "text/plain": [
              "-16.801802608746513"
            ]
          },
          "metadata": {
            "tags": []
          },
          "execution_count": 103
        }
      ]
    }
  ]
}